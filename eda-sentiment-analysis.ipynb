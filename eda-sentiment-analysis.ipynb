{
 "cells": [
  {
   "cell_type": "code",
   "execution_count": 1,
   "id": "2715c5ed",
   "metadata": {
    "_cell_guid": "68c41a66-e0fd-4286-99e5-3e362bd72659",
    "_uuid": "ffda22d1-3645-436c-8128-3cc520348915",
    "collapsed": false,
    "execution": {
     "iopub.execute_input": "2023-04-09T19:22:50.314971Z",
     "iopub.status.busy": "2023-04-09T19:22:50.314538Z",
     "iopub.status.idle": "2023-04-09T19:22:52.939554Z",
     "shell.execute_reply": "2023-04-09T19:22:52.938456Z"
    },
    "jupyter": {
     "outputs_hidden": false
    },
    "papermill": {
     "duration": 2.638869,
     "end_time": "2023-04-09T19:22:52.942218",
     "exception": false,
     "start_time": "2023-04-09T19:22:50.303349",
     "status": "completed"
    },
    "tags": []
   },
   "outputs": [],
   "source": [
    "import pandas as pd\n",
    "import numpy as np \n",
    "import matplotlib.pyplot as plt\n",
    "import seaborn as sns \n",
    "\n",
    "plt.style.use('ggplot')\n",
    "\n",
    "import nltk"
   ]
  },
  {
   "cell_type": "code",
   "execution_count": 2,
   "id": "d425b8b9",
   "metadata": {
    "_cell_guid": "03d78913-72b7-4605-9ba9-759fa95caae3",
    "_uuid": "765c8972-d38d-4870-9c90-c51474e7de0b",
    "collapsed": false,
    "execution": {
     "iopub.execute_input": "2023-04-09T19:22:52.960861Z",
     "iopub.status.busy": "2023-04-09T19:22:52.960284Z",
     "iopub.status.idle": "2023-04-09T19:22:58.386581Z",
     "shell.execute_reply": "2023-04-09T19:22:58.385194Z"
    },
    "jupyter": {
     "outputs_hidden": false
    },
    "papermill": {
     "duration": 5.438421,
     "end_time": "2023-04-09T19:22:58.389402",
     "exception": false,
     "start_time": "2023-04-09T19:22:52.950981",
     "status": "completed"
    },
    "tags": []
   },
   "outputs": [],
   "source": [
    "#Read the Dataset \n",
    "df = pd.read_excel('/kaggle/input/udemy-review/Udemy review.xlsx')"
   ]
  },
  {
   "cell_type": "code",
   "execution_count": 3,
   "id": "ac74a687",
   "metadata": {
    "_cell_guid": "9d92af43-8987-4856-9493-72dd394a00ff",
    "_uuid": "0dffc662-b526-4e8b-ae43-73604470ec4b",
    "collapsed": false,
    "execution": {
     "iopub.execute_input": "2023-04-09T19:22:58.408672Z",
     "iopub.status.busy": "2023-04-09T19:22:58.408152Z",
     "iopub.status.idle": "2023-04-09T19:22:58.440176Z",
     "shell.execute_reply": "2023-04-09T19:22:58.438974Z"
    },
    "jupyter": {
     "outputs_hidden": false
    },
    "papermill": {
     "duration": 0.044555,
     "end_time": "2023-04-09T19:22:58.442893",
     "exception": false,
     "start_time": "2023-04-09T19:22:58.398338",
     "status": "completed"
    },
    "tags": []
   },
   "outputs": [
    {
     "data": {
      "text/html": [
       "<div>\n",
       "<style scoped>\n",
       "    .dataframe tbody tr th:only-of-type {\n",
       "        vertical-align: middle;\n",
       "    }\n",
       "\n",
       "    .dataframe tbody tr th {\n",
       "        vertical-align: top;\n",
       "    }\n",
       "\n",
       "    .dataframe thead th {\n",
       "        text-align: right;\n",
       "    }\n",
       "</style>\n",
       "<table border=\"1\" class=\"dataframe\">\n",
       "  <thead>\n",
       "    <tr style=\"text-align: right;\">\n",
       "      <th></th>\n",
       "      <th>course_id</th>\n",
       "      <th>review_id</th>\n",
       "      <th>review_title</th>\n",
       "      <th>review_content</th>\n",
       "      <th>review_rating</th>\n",
       "      <th>review_created</th>\n",
       "      <th>review_modified</th>\n",
       "    </tr>\n",
       "  </thead>\n",
       "  <tbody>\n",
       "    <tr>\n",
       "      <th>0</th>\n",
       "      <td>3701752</td>\n",
       "      <td>95068444</td>\n",
       "      <td>NaN</td>\n",
       "      <td>NaN</td>\n",
       "      <td>5.0</td>\n",
       "      <td>2021-09-09T14:56:26Z</td>\n",
       "      <td>2021-09-10T16:03:43Z</td>\n",
       "    </tr>\n",
       "    <tr>\n",
       "      <th>1</th>\n",
       "      <td>3701752</td>\n",
       "      <td>78858128</td>\n",
       "      <td>NaN</td>\n",
       "      <td>NaN</td>\n",
       "      <td>5.0</td>\n",
       "      <td>2021-02-27T09:25:46Z</td>\n",
       "      <td>2021-02-28T19:08:43Z</td>\n",
       "    </tr>\n",
       "    <tr>\n",
       "      <th>2</th>\n",
       "      <td>3701752</td>\n",
       "      <td>73928174</td>\n",
       "      <td>NaN</td>\n",
       "      <td>NaN</td>\n",
       "      <td>5.0</td>\n",
       "      <td>2020-12-30T05:38:34Z</td>\n",
       "      <td>2020-12-31T15:06:33Z</td>\n",
       "    </tr>\n",
       "    <tr>\n",
       "      <th>3</th>\n",
       "      <td>3701752</td>\n",
       "      <td>73551404</td>\n",
       "      <td>NaN</td>\n",
       "      <td>NaN</td>\n",
       "      <td>5.0</td>\n",
       "      <td>2020-12-25T10:40:56Z</td>\n",
       "      <td>2020-12-26T15:06:34Z</td>\n",
       "    </tr>\n",
       "    <tr>\n",
       "      <th>4</th>\n",
       "      <td>3702930</td>\n",
       "      <td>91764932</td>\n",
       "      <td>NaN</td>\n",
       "      <td>NaN</td>\n",
       "      <td>4.0</td>\n",
       "      <td>2021-07-31T18:37:57Z</td>\n",
       "      <td>2021-08-01T16:06:37Z</td>\n",
       "    </tr>\n",
       "  </tbody>\n",
       "</table>\n",
       "</div>"
      ],
      "text/plain": [
       "   course_id  review_id  review_title review_content  review_rating  \\\n",
       "0    3701752   95068444           NaN            NaN            5.0   \n",
       "1    3701752   78858128           NaN            NaN            5.0   \n",
       "2    3701752   73928174           NaN            NaN            5.0   \n",
       "3    3701752   73551404           NaN            NaN            5.0   \n",
       "4    3702930   91764932           NaN            NaN            4.0   \n",
       "\n",
       "         review_created       review_modified  \n",
       "0  2021-09-09T14:56:26Z  2021-09-10T16:03:43Z  \n",
       "1  2021-02-27T09:25:46Z  2021-02-28T19:08:43Z  \n",
       "2  2020-12-30T05:38:34Z  2020-12-31T15:06:33Z  \n",
       "3  2020-12-25T10:40:56Z  2020-12-26T15:06:34Z  \n",
       "4  2021-07-31T18:37:57Z  2021-08-01T16:06:37Z  "
      ]
     },
     "execution_count": 3,
     "metadata": {},
     "output_type": "execute_result"
    }
   ],
   "source": [
    "df.head()"
   ]
  },
  {
   "cell_type": "code",
   "execution_count": 4,
   "id": "0d89a463",
   "metadata": {
    "_cell_guid": "598e5e93-4cf4-41d2-8771-c44fb0b67f0d",
    "_uuid": "d9138c26-9b15-4638-bbf5-28e420e64fca",
    "collapsed": false,
    "execution": {
     "iopub.execute_input": "2023-04-09T19:22:58.464118Z",
     "iopub.status.busy": "2023-04-09T19:22:58.463811Z",
     "iopub.status.idle": "2023-04-09T19:22:58.469725Z",
     "shell.execute_reply": "2023-04-09T19:22:58.468218Z"
    },
    "jupyter": {
     "outputs_hidden": false
    },
    "papermill": {
     "duration": 0.019413,
     "end_time": "2023-04-09T19:22:58.471953",
     "exception": false,
     "start_time": "2023-04-09T19:22:58.452540",
     "status": "completed"
    },
    "tags": []
   },
   "outputs": [
    {
     "name": "stdout",
     "output_type": "stream",
     "text": [
      "(58408, 7)\n"
     ]
    }
   ],
   "source": [
    "print(df.shape)"
   ]
  },
  {
   "cell_type": "code",
   "execution_count": 5,
   "id": "95efdff6",
   "metadata": {
    "_cell_guid": "d5f8ca60-175b-4141-8965-c562d00e9b78",
    "_uuid": "7e00a00c-d44b-49eb-952b-50dd5b4b7012",
    "collapsed": false,
    "execution": {
     "iopub.execute_input": "2023-04-09T19:22:58.491579Z",
     "iopub.status.busy": "2023-04-09T19:22:58.490780Z",
     "iopub.status.idle": "2023-04-09T19:22:58.523167Z",
     "shell.execute_reply": "2023-04-09T19:22:58.521589Z"
    },
    "jupyter": {
     "outputs_hidden": false
    },
    "papermill": {
     "duration": 0.044342,
     "end_time": "2023-04-09T19:22:58.525462",
     "exception": false,
     "start_time": "2023-04-09T19:22:58.481120",
     "status": "completed"
    },
    "tags": []
   },
   "outputs": [
    {
     "name": "stdout",
     "output_type": "stream",
     "text": [
      "<class 'pandas.core.frame.DataFrame'>\n",
      "RangeIndex: 58408 entries, 0 to 58407\n",
      "Data columns (total 7 columns):\n",
      " #   Column           Non-Null Count  Dtype  \n",
      "---  ------           --------------  -----  \n",
      " 0   course_id        58408 non-null  int64  \n",
      " 1   review_id        58408 non-null  int64  \n",
      " 2   review_title     0 non-null      float64\n",
      " 3   review_content   14504 non-null  object \n",
      " 4   review_rating    58408 non-null  float64\n",
      " 5   review_created   58408 non-null  object \n",
      " 6   review_modified  58408 non-null  object \n",
      "dtypes: float64(2), int64(2), object(3)\n",
      "memory usage: 3.1+ MB\n"
     ]
    }
   ],
   "source": [
    "df.info()"
   ]
  },
  {
   "cell_type": "markdown",
   "id": "c2063535",
   "metadata": {
    "_cell_guid": "785db04c-ff70-47bc-aa60-2f7954368bfd",
    "_uuid": "c55b3718-fa59-4be8-8d07-0dbaa937e100",
    "papermill": {
     "duration": 0.008352,
     "end_time": "2023-04-09T19:22:58.542681",
     "exception": false,
     "start_time": "2023-04-09T19:22:58.534329",
     "status": "completed"
    },
    "tags": []
   },
   "source": [
    "## Cleaning Data"
   ]
  },
  {
   "cell_type": "code",
   "execution_count": 6,
   "id": "aedc4cd7",
   "metadata": {
    "_cell_guid": "4f7e46b0-7a0f-499b-8ebe-51878e23bc33",
    "_uuid": "d88d2367-6d2f-42a7-a8a4-ddc791909122",
    "collapsed": false,
    "execution": {
     "iopub.execute_input": "2023-04-09T19:22:58.561438Z",
     "iopub.status.busy": "2023-04-09T19:22:58.560618Z",
     "iopub.status.idle": "2023-04-09T19:22:58.574905Z",
     "shell.execute_reply": "2023-04-09T19:22:58.573811Z"
    },
    "jupyter": {
     "outputs_hidden": false
    },
    "papermill": {
     "duration": 0.025865,
     "end_time": "2023-04-09T19:22:58.576944",
     "exception": false,
     "start_time": "2023-04-09T19:22:58.551079",
     "status": "completed"
    },
    "tags": []
   },
   "outputs": [
    {
     "data": {
      "text/plain": [
       "course_id              0\n",
       "review_id              0\n",
       "review_title       58408\n",
       "review_content     43904\n",
       "review_rating          0\n",
       "review_created         0\n",
       "review_modified        0\n",
       "dtype: int64"
      ]
     },
     "execution_count": 6,
     "metadata": {},
     "output_type": "execute_result"
    }
   ],
   "source": [
    "df.isnull().sum()"
   ]
  },
  {
   "cell_type": "code",
   "execution_count": 7,
   "id": "fd78ed44",
   "metadata": {
    "_cell_guid": "bb3cbc34-da7c-4aa2-8aba-fb60435de8df",
    "_uuid": "ca02bacf-d6c4-4c2e-9d19-fb3865bac0fd",
    "collapsed": false,
    "execution": {
     "iopub.execute_input": "2023-04-09T19:22:58.595650Z",
     "iopub.status.busy": "2023-04-09T19:22:58.594865Z",
     "iopub.status.idle": "2023-04-09T19:22:58.603356Z",
     "shell.execute_reply": "2023-04-09T19:22:58.602465Z"
    },
    "jupyter": {
     "outputs_hidden": false
    },
    "papermill": {
     "duration": 0.020017,
     "end_time": "2023-04-09T19:22:58.605490",
     "exception": false,
     "start_time": "2023-04-09T19:22:58.585473",
     "status": "completed"
    },
    "tags": []
   },
   "outputs": [],
   "source": [
    "df1 = df.drop('review_title', axis=1)"
   ]
  },
  {
   "cell_type": "code",
   "execution_count": 8,
   "id": "1adabc3b",
   "metadata": {
    "_cell_guid": "37a8fbb0-aac2-4a10-9c8d-ed0261af46a0",
    "_uuid": "dd9b1771-547e-4601-a9e5-91de6a97162e",
    "collapsed": false,
    "execution": {
     "iopub.execute_input": "2023-04-09T19:22:58.623775Z",
     "iopub.status.busy": "2023-04-09T19:22:58.623511Z",
     "iopub.status.idle": "2023-04-09T19:22:58.638086Z",
     "shell.execute_reply": "2023-04-09T19:22:58.636965Z"
    },
    "jupyter": {
     "outputs_hidden": false
    },
    "papermill": {
     "duration": 0.026408,
     "end_time": "2023-04-09T19:22:58.640339",
     "exception": false,
     "start_time": "2023-04-09T19:22:58.613931",
     "status": "completed"
    },
    "tags": []
   },
   "outputs": [
    {
     "data": {
      "text/plain": [
       "course_id              0\n",
       "review_id              0\n",
       "review_content     43904\n",
       "review_rating          0\n",
       "review_created         0\n",
       "review_modified        0\n",
       "dtype: int64"
      ]
     },
     "execution_count": 8,
     "metadata": {},
     "output_type": "execute_result"
    }
   ],
   "source": [
    "df1.isnull().sum()"
   ]
  },
  {
   "cell_type": "code",
   "execution_count": 9,
   "id": "e8ed320f",
   "metadata": {
    "_cell_guid": "a6873e49-0176-4297-ac48-301894c6d8ba",
    "_uuid": "40a5d490-3b8e-402b-bae8-eaeb1119935f",
    "collapsed": false,
    "execution": {
     "iopub.execute_input": "2023-04-09T19:22:58.659336Z",
     "iopub.status.busy": "2023-04-09T19:22:58.658536Z",
     "iopub.status.idle": "2023-04-09T19:22:58.675615Z",
     "shell.execute_reply": "2023-04-09T19:22:58.674090Z"
    },
    "jupyter": {
     "outputs_hidden": false
    },
    "papermill": {
     "duration": 0.028977,
     "end_time": "2023-04-09T19:22:58.677929",
     "exception": false,
     "start_time": "2023-04-09T19:22:58.648952",
     "status": "completed"
    },
    "tags": []
   },
   "outputs": [
    {
     "name": "stdout",
     "output_type": "stream",
     "text": [
      "<class 'pandas.core.frame.DataFrame'>\n",
      "RangeIndex: 58408 entries, 0 to 58407\n",
      "Data columns (total 6 columns):\n",
      " #   Column           Non-Null Count  Dtype  \n",
      "---  ------           --------------  -----  \n",
      " 0   course_id        58408 non-null  int64  \n",
      " 1   review_id        58408 non-null  int64  \n",
      " 2   review_content   14504 non-null  object \n",
      " 3   review_rating    58408 non-null  float64\n",
      " 4   review_created   58408 non-null  object \n",
      " 5   review_modified  58408 non-null  object \n",
      "dtypes: float64(1), int64(2), object(3)\n",
      "memory usage: 2.7+ MB\n"
     ]
    }
   ],
   "source": [
    "df1.info()"
   ]
  },
  {
   "cell_type": "code",
   "execution_count": 10,
   "id": "99fc4e9b",
   "metadata": {
    "_cell_guid": "6cc52383-3c20-4851-ac93-2fec673526e2",
    "_uuid": "7e5db422-d9f3-46f1-9295-265386fc04f3",
    "collapsed": false,
    "execution": {
     "iopub.execute_input": "2023-04-09T19:22:58.697327Z",
     "iopub.status.busy": "2023-04-09T19:22:58.696402Z",
     "iopub.status.idle": "2023-04-09T19:22:58.710134Z",
     "shell.execute_reply": "2023-04-09T19:22:58.709113Z"
    },
    "jupyter": {
     "outputs_hidden": false
    },
    "papermill": {
     "duration": 0.025391,
     "end_time": "2023-04-09T19:22:58.712216",
     "exception": false,
     "start_time": "2023-04-09T19:22:58.686825",
     "status": "completed"
    },
    "tags": []
   },
   "outputs": [],
   "source": [
    "df = df1.dropna()"
   ]
  },
  {
   "cell_type": "code",
   "execution_count": 11,
   "id": "9b1ce412",
   "metadata": {
    "_cell_guid": "9927e793-6ef3-49e3-b5b6-30cbcfa87eeb",
    "_uuid": "9d9a9f7e-2daa-4acb-9f36-b3105d239183",
    "collapsed": false,
    "execution": {
     "iopub.execute_input": "2023-04-09T19:22:58.731902Z",
     "iopub.status.busy": "2023-04-09T19:22:58.731111Z",
     "iopub.status.idle": "2023-04-09T19:22:58.743439Z",
     "shell.execute_reply": "2023-04-09T19:22:58.741878Z"
    },
    "jupyter": {
     "outputs_hidden": false
    },
    "papermill": {
     "duration": 0.024313,
     "end_time": "2023-04-09T19:22:58.745786",
     "exception": false,
     "start_time": "2023-04-09T19:22:58.721473",
     "status": "completed"
    },
    "tags": []
   },
   "outputs": [
    {
     "name": "stdout",
     "output_type": "stream",
     "text": [
      "<class 'pandas.core.frame.DataFrame'>\n",
      "Int64Index: 14504 entries, 15 to 58407\n",
      "Data columns (total 6 columns):\n",
      " #   Column           Non-Null Count  Dtype  \n",
      "---  ------           --------------  -----  \n",
      " 0   course_id        14504 non-null  int64  \n",
      " 1   review_id        14504 non-null  int64  \n",
      " 2   review_content   14504 non-null  object \n",
      " 3   review_rating    14504 non-null  float64\n",
      " 4   review_created   14504 non-null  object \n",
      " 5   review_modified  14504 non-null  object \n",
      "dtypes: float64(1), int64(2), object(3)\n",
      "memory usage: 793.2+ KB\n"
     ]
    }
   ],
   "source": [
    "df.info()"
   ]
  },
  {
   "cell_type": "markdown",
   "id": "6f1fcb31",
   "metadata": {
    "_cell_guid": "21951b10-d698-45d4-b910-995434599ff0",
    "_uuid": "c11dfb7f-dfd3-4d76-aac8-9f65d0cffbd8",
    "papermill": {
     "duration": 0.008846,
     "end_time": "2023-04-09T19:22:58.763710",
     "exception": false,
     "start_time": "2023-04-09T19:22:58.754864",
     "status": "completed"
    },
    "tags": []
   },
   "source": [
    "### Quick EDA"
   ]
  },
  {
   "cell_type": "code",
   "execution_count": 12,
   "id": "14b0bb05",
   "metadata": {
    "_cell_guid": "43c591a8-5028-4e46-98b5-c6a9973546f6",
    "_uuid": "1d20bc9e-e8e3-41bf-96e0-f3b0786dc007",
    "collapsed": false,
    "execution": {
     "iopub.execute_input": "2023-04-09T19:22:58.784924Z",
     "iopub.status.busy": "2023-04-09T19:22:58.784597Z",
     "iopub.status.idle": "2023-04-09T19:22:59.071588Z",
     "shell.execute_reply": "2023-04-09T19:22:59.070578Z"
    },
    "jupyter": {
     "outputs_hidden": false
    },
    "papermill": {
     "duration": 0.300899,
     "end_time": "2023-04-09T19:22:59.073975",
     "exception": false,
     "start_time": "2023-04-09T19:22:58.773076",
     "status": "completed"
    },
    "tags": []
   },
   "outputs": [
    {
     "data": {
      "text/plain": [
       "Text(0.5, 0, 'Review Stars')"
      ]
     },
     "execution_count": 12,
     "metadata": {},
     "output_type": "execute_result"
    },
    {
     "data": {
      "image/png": "[encoded data removed]",
      "text/plain": [
       "<Figure size 1000x500 with 1 Axes>"
      ]
     },
     "metadata": {},
     "output_type": "display_data"
    }
   ],
   "source": [
    "ax = df['review_rating'].value_counts().sort_index() \\\n",
    ".plot(kind='bar',title='Count of Reviews', figsize=(10,5))\n",
    "ax.set_xlabel('Review Stars')"
   ]
  },
  {
   "cell_type": "markdown",
   "id": "0e820912",
   "metadata": {
    "_cell_guid": "6a2e64b5-cc77-499d-b5a3-a30bc751ad53",
    "_uuid": "d9ec50b1-26d5-408d-89de-6ed947065751",
    "papermill": {
     "duration": 0.009126,
     "end_time": "2023-04-09T19:22:59.092804",
     "exception": false,
     "start_time": "2023-04-09T19:22:59.083678",
     "status": "completed"
    },
    "tags": []
   },
   "source": []
  },
  {
   "cell_type": "markdown",
   "id": "407d9027",
   "metadata": {
    "_cell_guid": "df9cb650-837f-414b-9009-071d47ac33c6",
    "_uuid": "d4033992-19f4-4a55-a52c-98324a65586c",
    "papermill": {
     "duration": 0.008918,
     "end_time": "2023-04-09T19:22:59.110909",
     "exception": false,
     "start_time": "2023-04-09T19:22:59.101991",
     "status": "completed"
    },
    "tags": []
   },
   "source": [
    "## VADER Sentiment Scoring\n",
    "This uses \"bag of words\" approach:\n",
    "\n",
    "\n",
    "1. Stop words are removed\n",
    "\n",
    "2. each word is scored and combined to a total score"
   ]
  },
  {
   "cell_type": "code",
   "execution_count": 13,
   "id": "a7d66398",
   "metadata": {
    "_cell_guid": "097f4ccf-0ee5-44b8-a29b-6a5945e077da",
    "_uuid": "89dd9b96-682b-421d-88ea-a03e220026fb",
    "collapsed": false,
    "execution": {
     "iopub.execute_input": "2023-04-09T19:22:59.131011Z",
     "iopub.status.busy": "2023-04-09T19:22:59.130415Z",
     "iopub.status.idle": "2023-04-09T19:22:59.181939Z",
     "shell.execute_reply": "2023-04-09T19:22:59.180940Z"
    },
    "jupyter": {
     "outputs_hidden": false
    },
    "papermill": {
     "duration": 0.063902,
     "end_time": "2023-04-09T19:22:59.183999",
     "exception": false,
     "start_time": "2023-04-09T19:22:59.120097",
     "status": "completed"
    },
    "tags": []
   },
   "outputs": [
    {
     "name": "stderr",
     "output_type": "stream",
     "text": [
      "/opt/conda/lib/python3.7/site-packages/nltk/twitter/__init__.py:20: UserWarning: The twython library has not been installed. Some functionality from the twitter package will not be available.\n",
      "  warnings.warn(\"The twython library has not been installed. \"\n"
     ]
    }
   ],
   "source": [
    "from nltk.sentiment import SentimentIntensityAnalyzer \n",
    "from tqdm.notebook import tqdm\n",
    "\n",
    "sia =  SentimentIntensityAnalyzer()"
   ]
  },
  {
   "cell_type": "code",
   "execution_count": 14,
   "id": "b0692cb3",
   "metadata": {
    "_cell_guid": "bad73ad6-d5bb-4739-a18c-d25e43eb1d61",
    "_uuid": "5ad7b3c5-c536-4be7-85e2-6d4da9b91116",
    "collapsed": false,
    "execution": {
     "iopub.execute_input": "2023-04-09T19:22:59.204629Z",
     "iopub.status.busy": "2023-04-09T19:22:59.204337Z",
     "iopub.status.idle": "2023-04-09T19:22:59.211855Z",
     "shell.execute_reply": "2023-04-09T19:22:59.210838Z"
    },
    "jupyter": {
     "outputs_hidden": false
    },
    "papermill": {
     "duration": 0.020545,
     "end_time": "2023-04-09T19:22:59.213886",
     "exception": false,
     "start_time": "2023-04-09T19:22:59.193341",
     "status": "completed"
    },
    "tags": []
   },
   "outputs": [
    {
     "data": {
      "text/plain": [
       "{'neg': 0.0, 'neu': 0.448, 'pos': 0.552, 'compound': 0.5719}"
      ]
     },
     "execution_count": 14,
     "metadata": {},
     "output_type": "execute_result"
    }
   ],
   "source": [
    "sia.polarity_scores('The course was excellent')"
   ]
  },
  {
   "cell_type": "code",
   "execution_count": 15,
   "id": "f1b411f2",
   "metadata": {
    "_cell_guid": "8b62a341-f57b-4754-aa43-1be2296b237e",
    "_uuid": "a1bf73e8-9d44-4ace-b490-e9c06be71f6e",
    "collapsed": false,
    "execution": {
     "iopub.execute_input": "2023-04-09T19:22:59.233655Z",
     "iopub.status.busy": "2023-04-09T19:22:59.233382Z",
     "iopub.status.idle": "2023-04-09T19:23:03.827197Z",
     "shell.execute_reply": "2023-04-09T19:23:03.826012Z"
    },
    "jupyter": {
     "outputs_hidden": false
    },
    "papermill": {
     "duration": 4.608435,
     "end_time": "2023-04-09T19:23:03.831735",
     "exception": false,
     "start_time": "2023-04-09T19:22:59.223300",
     "status": "completed"
    },
    "tags": []
   },
   "outputs": [
    {
     "data": {
      "application/vnd.jupyter.widget-view+json": {
       "model_id": "93729db1c6024f3e8145273ed0575097",
       "version_major": 2,
       "version_minor": 0
      },
      "text/plain": [
       "  0%|          | 0/14504 [00:00<?, ?it/s]"
      ]
     },
     "metadata": {},
     "output_type": "display_data"
    }
   ],
   "source": [
    "#Run the polarity score on the entire dataset \n",
    "res = {}\n",
    "for i, row in tqdm(df.iterrows(), total=len(df)):\n",
    "    text = row['review_content']\n",
    "    course_id = row['course_id']\n",
    "    res[course_id] = sia.polarity_scores(text)"
   ]
  },
  {
   "cell_type": "code",
   "execution_count": 16,
   "id": "384df31f",
   "metadata": {
    "_cell_guid": "ae84f094-6293-47f0-a3c5-a739e0a843fc",
    "_uuid": "6a39f2fb-edf4-4fe3-929a-bac194bb22ca",
    "collapsed": false,
    "execution": {
     "iopub.execute_input": "2023-04-09T19:23:03.854284Z",
     "iopub.status.busy": "2023-04-09T19:23:03.853952Z",
     "iopub.status.idle": "2023-04-09T19:23:03.876735Z",
     "shell.execute_reply": "2023-04-09T19:23:03.875659Z"
    },
    "jupyter": {
     "outputs_hidden": false
    },
    "papermill": {
     "duration": 0.036262,
     "end_time": "2023-04-09T19:23:03.879048",
     "exception": false,
     "start_time": "2023-04-09T19:23:03.842786",
     "status": "completed"
    },
    "tags": []
   },
   "outputs": [],
   "source": [
    "vaders = pd.DataFrame(res).T\n",
    "vaders = vaders.reset_index().rename(columns={'index':'course_id'})\n",
    "vaders = vaders.merge(df, how='left')"
   ]
  },
  {
   "cell_type": "code",
   "execution_count": 17,
   "id": "2b5787c0",
   "metadata": {
    "_cell_guid": "ef127824-b69f-47f0-bdc0-5d95c4b5a5e8",
    "_uuid": "cc370fe5-1448-4738-8831-7dd06fd3886b",
    "collapsed": false,
    "execution": {
     "iopub.execute_input": "2023-04-09T19:23:03.901317Z",
     "iopub.status.busy": "2023-04-09T19:23:03.900341Z",
     "iopub.status.idle": "2023-04-09T19:23:03.921381Z",
     "shell.execute_reply": "2023-04-09T19:23:03.920308Z"
    },
    "jupyter": {
     "outputs_hidden": false
    },
    "papermill": {
     "duration": 0.034576,
     "end_time": "2023-04-09T19:23:03.923795",
     "exception": false,
     "start_time": "2023-04-09T19:23:03.889219",
     "status": "completed"
    },
    "tags": []
   },
   "outputs": [
    {
     "data": {
      "text/html": [
       "<div>\n",
       "<style scoped>\n",
       "    .dataframe tbody tr th:only-of-type {\n",
       "        vertical-align: middle;\n",
       "    }\n",
       "\n",
       "    .dataframe tbody tr th {\n",
       "        vertical-align: top;\n",
       "    }\n",
       "\n",
       "    .dataframe thead th {\n",
       "        text-align: right;\n",
       "    }\n",
       "</style>\n",
       "<table border=\"1\" class=\"dataframe\">\n",
       "  <thead>\n",
       "    <tr style=\"text-align: right;\">\n",
       "      <th></th>\n",
       "      <th>course_id</th>\n",
       "      <th>neg</th>\n",
       "      <th>neu</th>\n",
       "      <th>pos</th>\n",
       "      <th>compound</th>\n",
       "      <th>review_id</th>\n",
       "      <th>review_content</th>\n",
       "      <th>review_rating</th>\n",
       "      <th>review_created</th>\n",
       "      <th>review_modified</th>\n",
       "    </tr>\n",
       "  </thead>\n",
       "  <tbody>\n",
       "    <tr>\n",
       "      <th>0</th>\n",
       "      <td>3703210</td>\n",
       "      <td>0.0</td>\n",
       "      <td>0.176</td>\n",
       "      <td>0.824</td>\n",
       "      <td>0.6892</td>\n",
       "      <td>95368032</td>\n",
       "      <td>Great Course!!</td>\n",
       "      <td>5.0</td>\n",
       "      <td>2021-09-13T21:16:57Z</td>\n",
       "      <td>2021-09-14T16:01:12Z</td>\n",
       "    </tr>\n",
       "    <tr>\n",
       "      <th>1</th>\n",
       "      <td>3703210</td>\n",
       "      <td>0.0</td>\n",
       "      <td>0.176</td>\n",
       "      <td>0.824</td>\n",
       "      <td>0.6892</td>\n",
       "      <td>95368032</td>\n",
       "      <td>Great Course!!</td>\n",
       "      <td>5.0</td>\n",
       "      <td>2021-09-13T21:16:57Z</td>\n",
       "      <td>2021-09-14T16:01:12Z</td>\n",
       "    </tr>\n",
       "    <tr>\n",
       "      <th>2</th>\n",
       "      <td>3703210</td>\n",
       "      <td>0.0</td>\n",
       "      <td>0.176</td>\n",
       "      <td>0.824</td>\n",
       "      <td>0.6892</td>\n",
       "      <td>95368032</td>\n",
       "      <td>Great Course!!</td>\n",
       "      <td>5.0</td>\n",
       "      <td>2021-09-13T21:16:57Z</td>\n",
       "      <td>2021-09-14T16:01:12Z</td>\n",
       "    </tr>\n",
       "    <tr>\n",
       "      <th>3</th>\n",
       "      <td>3703210</td>\n",
       "      <td>0.0</td>\n",
       "      <td>0.176</td>\n",
       "      <td>0.824</td>\n",
       "      <td>0.6892</td>\n",
       "      <td>95368032</td>\n",
       "      <td>Great Course!!</td>\n",
       "      <td>5.0</td>\n",
       "      <td>2021-09-13T21:16:57Z</td>\n",
       "      <td>2021-09-14T16:01:12Z</td>\n",
       "    </tr>\n",
       "    <tr>\n",
       "      <th>4</th>\n",
       "      <td>3703210</td>\n",
       "      <td>0.0</td>\n",
       "      <td>0.176</td>\n",
       "      <td>0.824</td>\n",
       "      <td>0.6892</td>\n",
       "      <td>95368032</td>\n",
       "      <td>Great Course!!</td>\n",
       "      <td>5.0</td>\n",
       "      <td>2021-09-13T21:16:57Z</td>\n",
       "      <td>2021-09-14T16:01:12Z</td>\n",
       "    </tr>\n",
       "    <tr>\n",
       "      <th>...</th>\n",
       "      <td>...</td>\n",
       "      <td>...</td>\n",
       "      <td>...</td>\n",
       "      <td>...</td>\n",
       "      <td>...</td>\n",
       "      <td>...</td>\n",
       "      <td>...</td>\n",
       "      <td>...</td>\n",
       "      <td>...</td>\n",
       "      <td>...</td>\n",
       "    </tr>\n",
       "    <tr>\n",
       "      <th>14499</th>\n",
       "      <td>3684408</td>\n",
       "      <td>0.0</td>\n",
       "      <td>0.577</td>\n",
       "      <td>0.423</td>\n",
       "      <td>0.9368</td>\n",
       "      <td>75740872</td>\n",
       "      <td>This is truly unique and amazing course on dev...</td>\n",
       "      <td>5.0</td>\n",
       "      <td>2021-01-20T02:54:33Z</td>\n",
       "      <td>2021-01-21T15:04:59Z</td>\n",
       "    </tr>\n",
       "    <tr>\n",
       "      <th>14500</th>\n",
       "      <td>3684408</td>\n",
       "      <td>0.0</td>\n",
       "      <td>0.577</td>\n",
       "      <td>0.423</td>\n",
       "      <td>0.9368</td>\n",
       "      <td>76052120</td>\n",
       "      <td>The course is very helpful and in detailed to ...</td>\n",
       "      <td>5.0</td>\n",
       "      <td>2021-01-23T23:36:11Z</td>\n",
       "      <td>2021-01-25T15:05:00Z</td>\n",
       "    </tr>\n",
       "    <tr>\n",
       "      <th>14501</th>\n",
       "      <td>3684408</td>\n",
       "      <td>0.0</td>\n",
       "      <td>0.577</td>\n",
       "      <td>0.423</td>\n",
       "      <td>0.9368</td>\n",
       "      <td>75740872</td>\n",
       "      <td>This is truly unique and amazing course on dev...</td>\n",
       "      <td>5.0</td>\n",
       "      <td>2021-01-20T02:54:33Z</td>\n",
       "      <td>2021-01-21T15:04:59Z</td>\n",
       "    </tr>\n",
       "    <tr>\n",
       "      <th>14502</th>\n",
       "      <td>3684408</td>\n",
       "      <td>0.0</td>\n",
       "      <td>0.577</td>\n",
       "      <td>0.423</td>\n",
       "      <td>0.9368</td>\n",
       "      <td>76052120</td>\n",
       "      <td>The course is very helpful and in detailed to ...</td>\n",
       "      <td>5.0</td>\n",
       "      <td>2021-01-23T23:36:11Z</td>\n",
       "      <td>2021-01-25T15:05:00Z</td>\n",
       "    </tr>\n",
       "    <tr>\n",
       "      <th>14503</th>\n",
       "      <td>3684408</td>\n",
       "      <td>0.0</td>\n",
       "      <td>0.577</td>\n",
       "      <td>0.423</td>\n",
       "      <td>0.9368</td>\n",
       "      <td>75740872</td>\n",
       "      <td>This is truly unique and amazing course on dev...</td>\n",
       "      <td>5.0</td>\n",
       "      <td>2021-01-20T02:54:33Z</td>\n",
       "      <td>2021-01-21T15:04:59Z</td>\n",
       "    </tr>\n",
       "  </tbody>\n",
       "</table>\n",
       "<p>14504 rows × 10 columns</p>\n",
       "</div>"
      ],
      "text/plain": [
       "       course_id  neg    neu    pos  compound  review_id  \\\n",
       "0        3703210  0.0  0.176  0.824    0.6892   95368032   \n",
       "1        3703210  0.0  0.176  0.824    0.6892   95368032   \n",
       "2        3703210  0.0  0.176  0.824    0.6892   95368032   \n",
       "3        3703210  0.0  0.176  0.824    0.6892   95368032   \n",
       "4        3703210  0.0  0.176  0.824    0.6892   95368032   \n",
       "...          ...  ...    ...    ...       ...        ...   \n",
       "14499    3684408  0.0  0.577  0.423    0.9368   75740872   \n",
       "14500    3684408  0.0  0.577  0.423    0.9368   76052120   \n",
       "14501    3684408  0.0  0.577  0.423    0.9368   75740872   \n",
       "14502    3684408  0.0  0.577  0.423    0.9368   76052120   \n",
       "14503    3684408  0.0  0.577  0.423    0.9368   75740872   \n",
       "\n",
       "                                          review_content  review_rating  \\\n",
       "0                                         Great Course!!            5.0   \n",
       "1                                         Great Course!!            5.0   \n",
       "2                                         Great Course!!            5.0   \n",
       "3                                         Great Course!!            5.0   \n",
       "4                                         Great Course!!            5.0   \n",
       "...                                                  ...            ...   \n",
       "14499  This is truly unique and amazing course on dev...            5.0   \n",
       "14500  The course is very helpful and in detailed to ...            5.0   \n",
       "14501  This is truly unique and amazing course on dev...            5.0   \n",
       "14502  The course is very helpful and in detailed to ...            5.0   \n",
       "14503  This is truly unique and amazing course on dev...            5.0   \n",
       "\n",
       "             review_created       review_modified  \n",
       "0      2021-09-13T21:16:57Z  2021-09-14T16:01:12Z  \n",
       "1      2021-09-13T21:16:57Z  2021-09-14T16:01:12Z  \n",
       "2      2021-09-13T21:16:57Z  2021-09-14T16:01:12Z  \n",
       "3      2021-09-13T21:16:57Z  2021-09-14T16:01:12Z  \n",
       "4      2021-09-13T21:16:57Z  2021-09-14T16:01:12Z  \n",
       "...                     ...                   ...  \n",
       "14499  2021-01-20T02:54:33Z  2021-01-21T15:04:59Z  \n",
       "14500  2021-01-23T23:36:11Z  2021-01-25T15:05:00Z  \n",
       "14501  2021-01-20T02:54:33Z  2021-01-21T15:04:59Z  \n",
       "14502  2021-01-23T23:36:11Z  2021-01-25T15:05:00Z  \n",
       "14503  2021-01-20T02:54:33Z  2021-01-21T15:04:59Z  \n",
       "\n",
       "[14504 rows x 10 columns]"
      ]
     },
     "execution_count": 17,
     "metadata": {},
     "output_type": "execute_result"
    }
   ],
   "source": [
    "vaders"
   ]
  },
  {
   "cell_type": "markdown",
   "id": "bf8acb30",
   "metadata": {
    "_cell_guid": "0c28e927-68cc-4b80-883f-a522c42b4196",
    "_uuid": "3529ee4f-a776-472a-9c34-4f6c92357e29",
    "papermill": {
     "duration": 0.024339,
     "end_time": "2023-04-09T19:23:03.966855",
     "exception": false,
     "start_time": "2023-04-09T19:23:03.942516",
     "status": "completed"
    },
    "tags": []
   },
   "source": [
    "## Plot VADER results"
   ]
  },
  {
   "cell_type": "code",
   "execution_count": 18,
   "id": "7ac57364",
   "metadata": {
    "_cell_guid": "a76fd20f-82ea-4558-8f57-59238f898d12",
    "_uuid": "7c900f29-5345-40c0-bb70-181d91989f7d",
    "collapsed": false,
    "execution": {
     "iopub.execute_input": "2023-04-09T19:23:04.012314Z",
     "iopub.status.busy": "2023-04-09T19:23:04.011731Z",
     "iopub.status.idle": "2023-04-09T19:23:04.810490Z",
     "shell.execute_reply": "2023-04-09T19:23:04.809574Z"
    },
    "jupyter": {
     "outputs_hidden": false
    },
    "papermill": {
     "duration": 0.823506,
     "end_time": "2023-04-09T19:23:04.813375",
     "exception": false,
     "start_time": "2023-04-09T19:23:03.989869",
     "status": "completed"
    },
    "tags": []
   },
   "outputs": [
    {
     "data": {
      "image/png": "[encoded data removed]",
      "text/plain": [
       "<Figure size 640x480 with 1 Axes>"
      ]
     },
     "metadata": {},
     "output_type": "display_data"
    }
   ],
   "source": [
    "ax = sns.barplot(data=vaders, x='review_rating', y='compound')\n",
    "ax.set_title('Compound Score by Udemy Review Rating')\n",
    "ax.set_xlabel('Review Rating')\n",
    "ax.set_ylabel('Compound Score')\n",
    "plt.show()"
   ]
  },
  {
   "cell_type": "code",
   "execution_count": 19,
   "id": "3dfc0eae",
   "metadata": {
    "_cell_guid": "d6936296-4008-4da2-a3dc-7c2d7e92092b",
    "_uuid": "af20473b-2a9c-4856-8a81-6e50d49fc810",
    "collapsed": false,
    "execution": {
     "iopub.execute_input": "2023-04-09T19:23:04.847945Z",
     "iopub.status.busy": "2023-04-09T19:23:04.847569Z",
     "iopub.status.idle": "2023-04-09T19:23:05.484331Z",
     "shell.execute_reply": "2023-04-09T19:23:05.483285Z"
    },
    "jupyter": {
     "outputs_hidden": false
    },
    "papermill": {
     "duration": 0.656272,
     "end_time": "2023-04-09T19:23:05.486785",
     "exception": false,
     "start_time": "2023-04-09T19:23:04.830513",
     "status": "completed"
    },
    "tags": []
   },
   "outputs": [
    {
     "data": {
      "image/png": "[encoded data removed]",
      "text/plain": [
       "<Figure size 640x480 with 1 Axes>"
      ]
     },
     "metadata": {},
     "output_type": "display_data"
    }
   ],
   "source": [
    "ax = sns.barplot(data=vaders, x = 'review_rating', y = 'pos')\n",
    "ax.set_xlabel('Review Rating')\n",
    "ax.set_ylabel('Positive Rating')\n",
    "ax.set_title('Positive Score by Udemy Review Rating')\n",
    "plt.show()"
   ]
  },
  {
   "cell_type": "code",
   "execution_count": 20,
   "id": "5241c266",
   "metadata": {
    "_cell_guid": "65d9b963-6b7e-498c-9101-c699dfb4b157",
    "_uuid": "ce161756-6f3a-4058-bb57-96289a6c9d5c",
    "collapsed": false,
    "execution": {
     "iopub.execute_input": "2023-04-09T19:23:05.510529Z",
     "iopub.status.busy": "2023-04-09T19:23:05.509784Z",
     "iopub.status.idle": "2023-04-09T19:23:05.989385Z",
     "shell.execute_reply": "2023-04-09T19:23:05.988400Z"
    },
    "jupyter": {
     "outputs_hidden": false
    },
    "papermill": {
     "duration": 0.493997,
     "end_time": "2023-04-09T19:23:05.991796",
     "exception": false,
     "start_time": "2023-04-09T19:23:05.497799",
     "status": "completed"
    },
    "tags": []
   },
   "outputs": [
    {
     "data": {
      "image/png": "[encoded data removed]",
      "text/plain": [
       "<Figure size 640x480 with 1 Axes>"
      ]
     },
     "metadata": {},
     "output_type": "display_data"
    }
   ],
   "source": [
    "ax = sns.barplot(data=vaders, x = 'review_rating', y = 'neu')\n",
    "ax.set_xlabel('Review Rating')\n",
    "ax.set_ylabel('Neutral Rating')\n",
    "ax.set_title('Neutral Score by Udemy Review Rating')\n",
    "plt.show()"
   ]
  },
  {
   "cell_type": "code",
   "execution_count": 21,
   "id": "1411c604",
   "metadata": {
    "_cell_guid": "0c313ce9-5c3a-4a02-b062-c43161b14aa2",
    "_uuid": "24253bec-a13d-4f41-8ee3-d710d5ef858a",
    "collapsed": false,
    "execution": {
     "iopub.execute_input": "2023-04-09T19:23:06.015674Z",
     "iopub.status.busy": "2023-04-09T19:23:06.015318Z",
     "iopub.status.idle": "2023-04-09T19:23:06.572200Z",
     "shell.execute_reply": "2023-04-09T19:23:06.571250Z"
    },
    "jupyter": {
     "outputs_hidden": false
    },
    "papermill": {
     "duration": 0.571051,
     "end_time": "2023-04-09T19:23:06.574301",
     "exception": false,
     "start_time": "2023-04-09T19:23:06.003250",
     "status": "completed"
    },
    "tags": []
   },
   "outputs": [
    {
     "data": {
      "text/plain": [
       "Text(0.5, 1.0, 'Negetive Score by Review Rating')"
      ]
     },
     "execution_count": 21,
     "metadata": {},
     "output_type": "execute_result"
    },
    {
     "data": {
      "image/png": "[encoded data removed]",
      "text/plain": [
       "<Figure size 640x480 with 1 Axes>"
      ]
     },
     "metadata": {},
     "output_type": "display_data"
    }
   ],
   "source": [
    "ax = sns.barplot(data = vaders, x = 'review_rating', y='neg')\n",
    "ax.set_xlabel(\"Review Rating\")\n",
    "ax.set_ylabel(\"Negetive Rating\")\n",
    "ax.set_title('Negetive Score by Review Rating')"
   ]
  },
  {
   "cell_type": "markdown",
   "id": "74679c8c",
   "metadata": {
    "_cell_guid": "33d826b8-7b70-4057-836d-7675382e6a20",
    "_uuid": "9cd3fe55-1a72-4572-83fe-6b0791e3f300",
    "papermill": {
     "duration": 0.011192,
     "end_time": "2023-04-09T19:23:06.597332",
     "exception": false,
     "start_time": "2023-04-09T19:23:06.586140",
     "status": "completed"
    },
    "tags": []
   },
   "source": [
    "## All in One plot Positive, Neutral and Negetive reviews"
   ]
  },
  {
   "cell_type": "code",
   "execution_count": 22,
   "id": "739f074b",
   "metadata": {
    "_cell_guid": "0eb63570-f797-4f25-8244-55c0061c2560",
    "_uuid": "f1946798-efef-4c18-a84f-53b7e921321d",
    "collapsed": false,
    "execution": {
     "iopub.execute_input": "2023-04-09T19:23:06.621726Z",
     "iopub.status.busy": "2023-04-09T19:23:06.620890Z",
     "iopub.status.idle": "2023-04-09T19:23:07.931699Z",
     "shell.execute_reply": "2023-04-09T19:23:07.930646Z"
    },
    "jupyter": {
     "outputs_hidden": false
    },
    "papermill": {
     "duration": 1.325637,
     "end_time": "2023-04-09T19:23:07.934202",
     "exception": false,
     "start_time": "2023-04-09T19:23:06.608565",
     "status": "completed"
    },
    "tags": []
   },
   "outputs": [
    {
     "data": {
      "image/png": "[encoded data removed]",
      "text/plain": [
       "<Figure size 1500x500 with 3 Axes>"
      ]
     },
     "metadata": {},
     "output_type": "display_data"
    }
   ],
   "source": [
    "fig, axs = plt.subplots(1,3, figsize=(15,5))\n",
    "sns.barplot(data=vaders, x = 'review_rating', y = 'pos',ax= axs[0] )\n",
    "sns.barplot(data=vaders, x = 'review_rating', y = 'neu', ax= axs[1])\n",
    "sns.barplot(data = vaders, x = 'review_rating', y='neg', ax= axs[2])\n",
    "axs[0].set_xlabel('Review Rating')\n",
    "axs[0].set_ylabel('Positive Rating')\n",
    "axs[0].set_title('Positive Score by Udemy Review Rating')\n",
    "axs[1].set_xlabel('Review Rating')\n",
    "axs[1].set_ylabel('Neutral Rating')\n",
    "axs[1].set_title('Neutral Score by Udemy Review Rating')\n",
    "axs[2].set_xlabel('Review Rating')\n",
    "axs[2].set_ylabel('Negetive Rating')\n",
    "axs[2].set_title('Negetive Score by Udemy Review Rating')\n",
    "plt.tight_layout()\n",
    "plt.show()"
   ]
  },
  {
   "cell_type": "markdown",
   "id": "674301b2",
   "metadata": {
    "_cell_guid": "2952f00a-a1bf-41d3-98fb-05e65fa4d9de",
    "_uuid": "b91bdc2a-dd00-4780-be16-2cf8c7884bb2",
    "papermill": {
     "duration": 0.012336,
     "end_time": "2023-04-09T19:23:07.959371",
     "exception": false,
     "start_time": "2023-04-09T19:23:07.947035",
     "status": "completed"
    },
    "tags": []
   },
   "source": [
    "## Roberta Pretrained Model"
   ]
  },
  {
   "cell_type": "markdown",
   "id": "711754d1",
   "metadata": {
    "_cell_guid": "76ae46a0-f453-406c-938b-e91da9002e87",
    "_uuid": "d684f695-cbe9-4f6b-a2b7-353fb580e1c5",
    "papermill": {
     "duration": 0.011968,
     "end_time": "2023-04-09T19:23:07.983593",
     "exception": false,
     "start_time": "2023-04-09T19:23:07.971625",
     "status": "completed"
    },
    "tags": []
   },
   "source": [
    "* Use a model trained of a large corpus of data\n",
    "* Transformer model accounts for the words but also the context related to other words"
   ]
  },
  {
   "cell_type": "code",
   "execution_count": 23,
   "id": "4107b3a5",
   "metadata": {
    "_cell_guid": "b420bdb7-3506-4a0e-88ab-2d07965378bb",
    "_uuid": "47357805-0df2-4fe9-9969-9bdcbf8dfe4b",
    "collapsed": false,
    "execution": {
     "iopub.execute_input": "2023-04-09T19:23:08.009331Z",
     "iopub.status.busy": "2023-04-09T19:23:08.008977Z",
     "iopub.status.idle": "2023-04-09T19:23:11.079517Z",
     "shell.execute_reply": "2023-04-09T19:23:11.078453Z"
    },
    "jupyter": {
     "outputs_hidden": false
    },
    "papermill": {
     "duration": 3.086619,
     "end_time": "2023-04-09T19:23:11.082340",
     "exception": false,
     "start_time": "2023-04-09T19:23:07.995721",
     "status": "completed"
    },
    "tags": []
   },
   "outputs": [],
   "source": [
    "from transformers import AutoTokenizer\n",
    "from transformers import AutoModelForSequenceClassification\n",
    "from scipy.special import softmax"
   ]
  },
  {
   "cell_type": "code",
   "execution_count": 24,
   "id": "7c8376a5",
   "metadata": {
    "_cell_guid": "86a2e8e4-5ea7-4b85-9beb-d81602c94464",
    "_uuid": "6f9aedce-a6a7-4967-bd10-65a8e014569c",
    "collapsed": false,
    "execution": {
     "iopub.execute_input": "2023-04-09T19:23:11.109042Z",
     "iopub.status.busy": "2023-04-09T19:23:11.108527Z",
     "iopub.status.idle": "2023-04-09T19:23:23.551573Z",
     "shell.execute_reply": "2023-04-09T19:23:23.550433Z"
    },
    "jupyter": {
     "outputs_hidden": false
    },
    "papermill": {
     "duration": 12.459107,
     "end_time": "2023-04-09T19:23:23.554189",
     "exception": false,
     "start_time": "2023-04-09T19:23:11.095082",
     "status": "completed"
    },
    "tags": []
   },
   "outputs": [
    {
     "data": {
      "application/vnd.jupyter.widget-view+json": {
       "model_id": "1fd1d3d5465741aabd4542a1fff0ab53",
       "version_major": 2,
       "version_minor": 0
      },
      "text/plain": [
       "Downloading (…)lve/main/config.json:   0%|          | 0.00/747 [00:00<?, ?B/s]"
      ]
     },
     "metadata": {},
     "output_type": "display_data"
    },
    {
     "data": {
      "application/vnd.jupyter.widget-view+json": {
       "model_id": "dd9e2925e2334fde8196ac1a8eb4904c",
       "version_major": 2,
       "version_minor": 0
      },
      "text/plain": [
       "Downloading (…)olve/main/vocab.json:   0%|          | 0.00/899k [00:00<?, ?B/s]"
      ]
     },
     "metadata": {},
     "output_type": "display_data"
    },
    {
     "data": {
      "application/vnd.jupyter.widget-view+json": {
       "model_id": "00b2d848800a4402b2fae6109a006869",
       "version_major": 2,
       "version_minor": 0
      },
      "text/plain": [
       "Downloading (…)olve/main/merges.txt:   0%|          | 0.00/456k [00:00<?, ?B/s]"
      ]
     },
     "metadata": {},
     "output_type": "display_data"
    },
    {
     "data": {
      "application/vnd.jupyter.widget-view+json": {
       "model_id": "3655823b41b140c0bd816d5d3c21d8b6",
       "version_major": 2,
       "version_minor": 0
      },
      "text/plain": [
       "Downloading (…)cial_tokens_map.json:   0%|          | 0.00/150 [00:00<?, ?B/s]"
      ]
     },
     "metadata": {},
     "output_type": "display_data"
    },
    {
     "data": {
      "application/vnd.jupyter.widget-view+json": {
       "model_id": "79ea2f24f449426eb300a6288c462b06",
       "version_major": 2,
       "version_minor": 0
      },
      "text/plain": [
       "Downloading pytorch_model.bin:   0%|          | 0.00/499M [00:00<?, ?B/s]"
      ]
     },
     "metadata": {},
     "output_type": "display_data"
    }
   ],
   "source": [
    "MODEL = f\"cardiffnlp/twitter-roberta-base-sentiment\"\n",
    "tokenizer = AutoTokenizer.from_pretrained(MODEL)\n",
    "model = AutoModelForSequenceClassification.from_pretrained(MODEL)"
   ]
  },
  {
   "cell_type": "code",
   "execution_count": null,
   "id": "6f474423",
   "metadata": {
    "_cell_guid": "d10a9418-5c05-43f4-bf68-7f2d314510de",
    "_uuid": "6dcad9fa-16c7-4757-95bd-2590f3b6ecc6",
    "collapsed": false,
    "jupyter": {
     "outputs_hidden": false
    },
    "papermill": {
     "duration": 0.012902,
     "end_time": "2023-04-09T19:23:23.580636",
     "exception": false,
     "start_time": "2023-04-09T19:23:23.567734",
     "status": "completed"
    },
    "tags": []
   },
   "outputs": [],
   "source": []
  },
  {
   "cell_type": "code",
   "execution_count": 25,
   "id": "b8ae85fe",
   "metadata": {
    "_cell_guid": "84263d5d-4767-466d-a3af-c28fb6330833",
    "_uuid": "6d9305b8-eb29-4297-a40b-78f764d8d584",
    "collapsed": false,
    "execution": {
     "iopub.execute_input": "2023-04-09T19:23:23.608227Z",
     "iopub.status.busy": "2023-04-09T19:23:23.607307Z",
     "iopub.status.idle": "2023-04-09T19:23:23.613706Z",
     "shell.execute_reply": "2023-04-09T19:23:23.612699Z"
    },
    "jupyter": {
     "outputs_hidden": false
    },
    "papermill": {
     "duration": 0.022557,
     "end_time": "2023-04-09T19:23:23.615905",
     "exception": false,
     "start_time": "2023-04-09T19:23:23.593348",
     "status": "completed"
    },
    "tags": []
   },
   "outputs": [],
   "source": [
    "def polarity_scores_roberta(example):\n",
    "    encoded_text = tokenizer(example, return_tensors='pt')\n",
    "    output = model(**encoded_text)\n",
    "    scores = output[0][0].detach().numpy()\n",
    "    scores = softmax(scores)\n",
    "    scores_dict = {\n",
    "        'roberta_neg' : scores[0],\n",
    "        'roberta_neu' : scores[1],\n",
    "        'roberta_pos' : scores[2]\n",
    "    }\n",
    "    return scores_dict"
   ]
  },
  {
   "cell_type": "code",
   "execution_count": 26,
   "id": "12e9c024",
   "metadata": {
    "_cell_guid": "a978376a-d52a-4cd5-825f-e666cb8019d1",
    "_uuid": "8e75a1f2-ac25-48ab-b716-98455a0cd466",
    "collapsed": false,
    "execution": {
     "iopub.execute_input": "2023-04-09T19:23:23.642675Z",
     "iopub.status.busy": "2023-04-09T19:23:23.642396Z",
     "iopub.status.idle": "2023-04-09T19:51:22.953439Z",
     "shell.execute_reply": "2023-04-09T19:51:22.952233Z"
    },
    "jupyter": {
     "outputs_hidden": false
    },
    "papermill": {
     "duration": 1679.327001,
     "end_time": "2023-04-09T19:51:22.955672",
     "exception": false,
     "start_time": "2023-04-09T19:23:23.628671",
     "status": "completed"
    },
    "tags": []
   },
   "outputs": [
    {
     "data": {
      "application/vnd.jupyter.widget-view+json": {
       "model_id": "6c3505c206a54e3b8e05b13e8ae61d25",
       "version_major": 2,
       "version_minor": 0
      },
      "text/plain": [
       "  0%|          | 0/14504 [00:00<?, ?it/s]"
      ]
     },
     "metadata": {},
     "output_type": "display_data"
    }
   ],
   "source": [
    "res = {}\n",
    "for i, row in tqdm(df.iterrows(), total=len(df)):\n",
    "        text = row['review_content']\n",
    "        myid = row['course_id']\n",
    "        roberta_result = polarity_scores_roberta(text)\n",
    "        res[myid] = roberta_result"
   ]
  },
  {
   "cell_type": "code",
   "execution_count": 27,
   "id": "647605e8",
   "metadata": {
    "_cell_guid": "9a5f06e2-3702-49ac-b991-7b65fb6d36a9",
    "_uuid": "d74d3e75-6a3d-4766-856e-b9100c9129a7",
    "collapsed": false,
    "execution": {
     "iopub.execute_input": "2023-04-09T19:51:22.983982Z",
     "iopub.status.busy": "2023-04-09T19:51:22.983682Z",
     "iopub.status.idle": "2023-04-09T19:51:23.032314Z",
     "shell.execute_reply": "2023-04-09T19:51:23.031295Z"
    },
    "jupyter": {
     "outputs_hidden": false
    },
    "papermill": {
     "duration": 0.065282,
     "end_time": "2023-04-09T19:51:23.034589",
     "exception": false,
     "start_time": "2023-04-09T19:51:22.969307",
     "status": "completed"
    },
    "tags": []
   },
   "outputs": [
    {
     "data": {
      "text/html": [
       "<div>\n",
       "<style scoped>\n",
       "    .dataframe tbody tr th:only-of-type {\n",
       "        vertical-align: middle;\n",
       "    }\n",
       "\n",
       "    .dataframe tbody tr th {\n",
       "        vertical-align: top;\n",
       "    }\n",
       "\n",
       "    .dataframe thead th {\n",
       "        text-align: right;\n",
       "    }\n",
       "</style>\n",
       "<table border=\"1\" class=\"dataframe\">\n",
       "  <thead>\n",
       "    <tr style=\"text-align: right;\">\n",
       "      <th></th>\n",
       "      <th>course_id</th>\n",
       "      <th>roberta_neg</th>\n",
       "      <th>roberta_neu</th>\n",
       "      <th>roberta_pos</th>\n",
       "      <th>review_id</th>\n",
       "      <th>review_content</th>\n",
       "      <th>review_rating</th>\n",
       "      <th>review_created</th>\n",
       "      <th>review_modified</th>\n",
       "    </tr>\n",
       "  </thead>\n",
       "  <tbody>\n",
       "    <tr>\n",
       "      <th>0</th>\n",
       "      <td>3703210</td>\n",
       "      <td>0.005098</td>\n",
       "      <td>0.043879</td>\n",
       "      <td>0.951024</td>\n",
       "      <td>95368032</td>\n",
       "      <td>Great Course!!</td>\n",
       "      <td>5.0</td>\n",
       "      <td>2021-09-13T21:16:57Z</td>\n",
       "      <td>2021-09-14T16:01:12Z</td>\n",
       "    </tr>\n",
       "    <tr>\n",
       "      <th>1</th>\n",
       "      <td>3703210</td>\n",
       "      <td>0.005098</td>\n",
       "      <td>0.043879</td>\n",
       "      <td>0.951024</td>\n",
       "      <td>95368032</td>\n",
       "      <td>Great Course!!</td>\n",
       "      <td>5.0</td>\n",
       "      <td>2021-09-13T21:16:57Z</td>\n",
       "      <td>2021-09-14T16:01:12Z</td>\n",
       "    </tr>\n",
       "    <tr>\n",
       "      <th>2</th>\n",
       "      <td>3703210</td>\n",
       "      <td>0.005098</td>\n",
       "      <td>0.043879</td>\n",
       "      <td>0.951024</td>\n",
       "      <td>95368032</td>\n",
       "      <td>Great Course!!</td>\n",
       "      <td>5.0</td>\n",
       "      <td>2021-09-13T21:16:57Z</td>\n",
       "      <td>2021-09-14T16:01:12Z</td>\n",
       "    </tr>\n",
       "    <tr>\n",
       "      <th>3</th>\n",
       "      <td>3703210</td>\n",
       "      <td>0.005098</td>\n",
       "      <td>0.043879</td>\n",
       "      <td>0.951024</td>\n",
       "      <td>95368032</td>\n",
       "      <td>Great Course!!</td>\n",
       "      <td>5.0</td>\n",
       "      <td>2021-09-13T21:16:57Z</td>\n",
       "      <td>2021-09-14T16:01:12Z</td>\n",
       "    </tr>\n",
       "    <tr>\n",
       "      <th>4</th>\n",
       "      <td>3703210</td>\n",
       "      <td>0.005098</td>\n",
       "      <td>0.043879</td>\n",
       "      <td>0.951024</td>\n",
       "      <td>95368032</td>\n",
       "      <td>Great Course!!</td>\n",
       "      <td>5.0</td>\n",
       "      <td>2021-09-13T21:16:57Z</td>\n",
       "      <td>2021-09-14T16:01:12Z</td>\n",
       "    </tr>\n",
       "    <tr>\n",
       "      <th>...</th>\n",
       "      <td>...</td>\n",
       "      <td>...</td>\n",
       "      <td>...</td>\n",
       "      <td>...</td>\n",
       "      <td>...</td>\n",
       "      <td>...</td>\n",
       "      <td>...</td>\n",
       "      <td>...</td>\n",
       "      <td>...</td>\n",
       "    </tr>\n",
       "    <tr>\n",
       "      <th>14499</th>\n",
       "      <td>3684408</td>\n",
       "      <td>0.001923</td>\n",
       "      <td>0.016316</td>\n",
       "      <td>0.981761</td>\n",
       "      <td>75740872</td>\n",
       "      <td>This is truly unique and amazing course on dev...</td>\n",
       "      <td>5.0</td>\n",
       "      <td>2021-01-20T02:54:33Z</td>\n",
       "      <td>2021-01-21T15:04:59Z</td>\n",
       "    </tr>\n",
       "    <tr>\n",
       "      <th>14500</th>\n",
       "      <td>3684408</td>\n",
       "      <td>0.001923</td>\n",
       "      <td>0.016316</td>\n",
       "      <td>0.981761</td>\n",
       "      <td>76052120</td>\n",
       "      <td>The course is very helpful and in detailed to ...</td>\n",
       "      <td>5.0</td>\n",
       "      <td>2021-01-23T23:36:11Z</td>\n",
       "      <td>2021-01-25T15:05:00Z</td>\n",
       "    </tr>\n",
       "    <tr>\n",
       "      <th>14501</th>\n",
       "      <td>3684408</td>\n",
       "      <td>0.001923</td>\n",
       "      <td>0.016316</td>\n",
       "      <td>0.981761</td>\n",
       "      <td>75740872</td>\n",
       "      <td>This is truly unique and amazing course on dev...</td>\n",
       "      <td>5.0</td>\n",
       "      <td>2021-01-20T02:54:33Z</td>\n",
       "      <td>2021-01-21T15:04:59Z</td>\n",
       "    </tr>\n",
       "    <tr>\n",
       "      <th>14502</th>\n",
       "      <td>3684408</td>\n",
       "      <td>0.001923</td>\n",
       "      <td>0.016316</td>\n",
       "      <td>0.981761</td>\n",
       "      <td>76052120</td>\n",
       "      <td>The course is very helpful and in detailed to ...</td>\n",
       "      <td>5.0</td>\n",
       "      <td>2021-01-23T23:36:11Z</td>\n",
       "      <td>2021-01-25T15:05:00Z</td>\n",
       "    </tr>\n",
       "    <tr>\n",
       "      <th>14503</th>\n",
       "      <td>3684408</td>\n",
       "      <td>0.001923</td>\n",
       "      <td>0.016316</td>\n",
       "      <td>0.981761</td>\n",
       "      <td>75740872</td>\n",
       "      <td>This is truly unique and amazing course on dev...</td>\n",
       "      <td>5.0</td>\n",
       "      <td>2021-01-20T02:54:33Z</td>\n",
       "      <td>2021-01-21T15:04:59Z</td>\n",
       "    </tr>\n",
       "  </tbody>\n",
       "</table>\n",
       "<p>14504 rows × 9 columns</p>\n",
       "</div>"
      ],
      "text/plain": [
       "       course_id  roberta_neg  roberta_neu  roberta_pos  review_id  \\\n",
       "0        3703210     0.005098     0.043879     0.951024   95368032   \n",
       "1        3703210     0.005098     0.043879     0.951024   95368032   \n",
       "2        3703210     0.005098     0.043879     0.951024   95368032   \n",
       "3        3703210     0.005098     0.043879     0.951024   95368032   \n",
       "4        3703210     0.005098     0.043879     0.951024   95368032   \n",
       "...          ...          ...          ...          ...        ...   \n",
       "14499    3684408     0.001923     0.016316     0.981761   75740872   \n",
       "14500    3684408     0.001923     0.016316     0.981761   76052120   \n",
       "14501    3684408     0.001923     0.016316     0.981761   75740872   \n",
       "14502    3684408     0.001923     0.016316     0.981761   76052120   \n",
       "14503    3684408     0.001923     0.016316     0.981761   75740872   \n",
       "\n",
       "                                          review_content  review_rating  \\\n",
       "0                                         Great Course!!            5.0   \n",
       "1                                         Great Course!!            5.0   \n",
       "2                                         Great Course!!            5.0   \n",
       "3                                         Great Course!!            5.0   \n",
       "4                                         Great Course!!            5.0   \n",
       "...                                                  ...            ...   \n",
       "14499  This is truly unique and amazing course on dev...            5.0   \n",
       "14500  The course is very helpful and in detailed to ...            5.0   \n",
       "14501  This is truly unique and amazing course on dev...            5.0   \n",
       "14502  The course is very helpful and in detailed to ...            5.0   \n",
       "14503  This is truly unique and amazing course on dev...            5.0   \n",
       "\n",
       "             review_created       review_modified  \n",
       "0      2021-09-13T21:16:57Z  2021-09-14T16:01:12Z  \n",
       "1      2021-09-13T21:16:57Z  2021-09-14T16:01:12Z  \n",
       "2      2021-09-13T21:16:57Z  2021-09-14T16:01:12Z  \n",
       "3      2021-09-13T21:16:57Z  2021-09-14T16:01:12Z  \n",
       "4      2021-09-13T21:16:57Z  2021-09-14T16:01:12Z  \n",
       "...                     ...                   ...  \n",
       "14499  2021-01-20T02:54:33Z  2021-01-21T15:04:59Z  \n",
       "14500  2021-01-23T23:36:11Z  2021-01-25T15:05:00Z  \n",
       "14501  2021-01-20T02:54:33Z  2021-01-21T15:04:59Z  \n",
       "14502  2021-01-23T23:36:11Z  2021-01-25T15:05:00Z  \n",
       "14503  2021-01-20T02:54:33Z  2021-01-21T15:04:59Z  \n",
       "\n",
       "[14504 rows x 9 columns]"
      ]
     },
     "execution_count": 27,
     "metadata": {},
     "output_type": "execute_result"
    }
   ],
   "source": [
    "results_df = pd.DataFrame(res).T\n",
    "results_df = results_df.reset_index().rename(columns={'index':'course_id'})\n",
    "results_df = results_df.merge(df, how = 'left')\n",
    "results_df\n"
   ]
  },
  {
   "cell_type": "code",
   "execution_count": 28,
   "id": "c0066fd0",
   "metadata": {
    "execution": {
     "iopub.execute_input": "2023-04-09T19:51:23.064610Z",
     "iopub.status.busy": "2023-04-09T19:51:23.062935Z",
     "iopub.status.idle": "2023-04-09T19:51:23.078456Z",
     "shell.execute_reply": "2023-04-09T19:51:23.077319Z"
    },
    "papermill": {
     "duration": 0.032604,
     "end_time": "2023-04-09T19:51:23.080721",
     "exception": false,
     "start_time": "2023-04-09T19:51:23.048117",
     "status": "completed"
    },
    "tags": []
   },
   "outputs": [
    {
     "name": "stdout",
     "output_type": "stream",
     "text": [
      "<class 'pandas.core.frame.DataFrame'>\n",
      "Int64Index: 14504 entries, 0 to 14503\n",
      "Data columns (total 9 columns):\n",
      " #   Column           Non-Null Count  Dtype  \n",
      "---  ------           --------------  -----  \n",
      " 0   course_id        14504 non-null  int64  \n",
      " 1   roberta_neg      14504 non-null  float32\n",
      " 2   roberta_neu      14504 non-null  float32\n",
      " 3   roberta_pos      14504 non-null  float32\n",
      " 4   review_id        14504 non-null  int64  \n",
      " 5   review_content   14504 non-null  object \n",
      " 6   review_rating    14504 non-null  float64\n",
      " 7   review_created   14504 non-null  object \n",
      " 8   review_modified  14504 non-null  object \n",
      "dtypes: float32(3), float64(1), int64(2), object(3)\n",
      "memory usage: 963.2+ KB\n"
     ]
    }
   ],
   "source": [
    "results_df.info()"
   ]
  },
  {
   "cell_type": "markdown",
   "id": "bb38ab27",
   "metadata": {
    "papermill": {
     "duration": 0.013243,
     "end_time": "2023-04-09T19:51:23.107527",
     "exception": false,
     "start_time": "2023-04-09T19:51:23.094284",
     "status": "completed"
    },
    "tags": []
   },
   "source": [
    "## Plot Reberta Results "
   ]
  },
  {
   "cell_type": "code",
   "execution_count": 29,
   "id": "6e33cdad",
   "metadata": {
    "_cell_guid": "2fc5a380-1e2d-468a-b293-fddebbd061d6",
    "_uuid": "40116407-0f2a-46db-ab9c-4cee28f12deb",
    "collapsed": false,
    "execution": {
     "iopub.execute_input": "2023-04-09T19:51:23.135772Z",
     "iopub.status.busy": "2023-04-09T19:51:23.135217Z",
     "iopub.status.idle": "2023-04-09T19:51:23.627276Z",
     "shell.execute_reply": "2023-04-09T19:51:23.626166Z"
    },
    "jupyter": {
     "outputs_hidden": false
    },
    "papermill": {
     "duration": 0.508726,
     "end_time": "2023-04-09T19:51:23.629550",
     "exception": false,
     "start_time": "2023-04-09T19:51:23.120824",
     "status": "completed"
    },
    "tags": []
   },
   "outputs": [
    {
     "data": {
      "image/png": "[encoded data removed]",
      "text/plain": [
       "<Figure size 640x480 with 1 Axes>"
      ]
     },
     "metadata": {},
     "output_type": "display_data"
    }
   ],
   "source": [
    "ax = sns.barplot(data=results_df, x = 'review_rating', y = 'roberta_pos')\n",
    "ax.set_xlabel('Review Rating')\n",
    "ax.set_ylabel('Positive Rating')\n",
    "ax.set_title('Positive Score by Udemy Review Rating')\n",
    "plt.show()"
   ]
  },
  {
   "cell_type": "code",
   "execution_count": 30,
   "id": "7c65ae1f",
   "metadata": {
    "execution": {
     "iopub.execute_input": "2023-04-09T19:51:23.659014Z",
     "iopub.status.busy": "2023-04-09T19:51:23.658724Z",
     "iopub.status.idle": "2023-04-09T19:51:24.169373Z",
     "shell.execute_reply": "2023-04-09T19:51:24.168309Z"
    },
    "papermill": {
     "duration": 0.527765,
     "end_time": "2023-04-09T19:51:24.171498",
     "exception": false,
     "start_time": "2023-04-09T19:51:23.643733",
     "status": "completed"
    },
    "tags": []
   },
   "outputs": [
    {
     "data": {
      "image/png": "[encoded data removed]",
      "text/plain": [
       "<Figure size 640x480 with 1 Axes>"
      ]
     },
     "metadata": {},
     "output_type": "display_data"
    }
   ],
   "source": [
    "ax = sns.barplot(data=results_df, x = 'review_rating', y = 'roberta_neg')\n",
    "ax.set_xlabel('Review Rating')\n",
    "ax.set_ylabel('Positive Rating')\n",
    "ax.set_title('Positive Score by Udemy Review Rating')\n",
    "plt.show()"
   ]
  },
  {
   "cell_type": "code",
   "execution_count": null,
   "id": "d80c10e1",
   "metadata": {
    "papermill": {
     "duration": 0.014075,
     "end_time": "2023-04-09T19:51:24.200299",
     "exception": false,
     "start_time": "2023-04-09T19:51:24.186224",
     "status": "completed"
    },
    "tags": []
   },
   "outputs": [],
   "source": []
  }
 ],
 "metadata": {
  "kernelspec": {
   "display_name": "Python 3",
   "language": "python",
   "name": "python3"
  },
  "language_info": {
   "codemirror_mode": {
    "name": "ipython",
    "version": 3
   },
   "file_extension": ".py",
   "mimetype": "text/x-python",
   "name": "python",
   "nbconvert_exporter": "python",
   "pygments_lexer": "ipython3",
   "version": "3.7.12"
  },
  "papermill": {
   "default_parameters": {},
   "duration": 1728.721492,
   "end_time": "2023-04-09T19:51:26.799993",
   "environment_variables": {},
   "exception": null,
   "input_path": "__notebook__.ipynb",
   "output_path": "__notebook__.ipynb",
   "parameters": {},
   "start_time": "2023-04-09T19:22:38.078501",
   "version": "2.4.0"
  },
  "widgets": {
   "application/vnd.jupyter.widget-state+json": {
    "state": {
     "00443a1b51764ba988ec714957aff4ab": {
      "model_module": "@jupyter-widgets/base",
      "model_module_version": "1.2.0",
      "model_name": "LayoutModel",
      "state": {
       "_model_module": "@jupyter-widgets/base",
       "_model_module_version": "1.2.0",
       "_model_name": "LayoutModel",
       "_view_count": null,
       "_view_module": "@jupyter-widgets/base",
       "_view_module_version": "1.2.0",
       "_view_name": "LayoutView",
       "align_content": null,
       "align_items": null,
       "align_self": null,
       "border": null,
       "bottom": null,
       "display": null,
       "flex": null,
       "flex_flow": null,
       "grid_area": null,
       "grid_auto_columns": null,
       "grid_auto_flow": null,
       "grid_auto_rows": null,
       "grid_column": null,
       "grid_gap": null,
       "grid_row": null,
       "grid_template_areas": null,
       "grid_template_columns": null,
       "grid_template_rows": null,
       "height": null,
       "justify_content": null,
       "justify_items": null,
       "left": null,
       "margin": null,
       "max_height": null,
       "max_width": null,
       "min_height": null,
       "min_width": null,
       "object_fit": null,
       "object_position": null,
       "order": null,
       "overflow": null,
       "overflow_x": null,
       "overflow_y": null,
       "padding": null,
       "right": null,
       "top": null,
       "visibility": null,
       "width": null
      }
     },
     "00b2d848800a4402b2fae6109a006869": {
      "model_module": "@jupyter-widgets/controls",
      "model_module_version": "1.5.0",
      "model_name": "HBoxModel",
      "state": {
       "_dom_classes": [],
       "_model_module": "@jupyter-widgets/controls",
       "_model_module_version": "1.5.0",
       "_model_name": "HBoxModel",
       "_view_count": null,
       "_view_module": "@jupyter-widgets/controls",
       "_view_module_version": "1.5.0",
       "_view_name": "HBoxView",
       "box_style": "",
       "children": [
        "IPY_MODEL_0376f7ddc6fb4aa387382a8650a0c933",
        "IPY_MODEL_a66ccc80e88d4b71bd8aecdbbb0e9442",
        "IPY_MODEL_40a6f0eb7f57426c9e7f28d8a104ff0e"
       ],
       "layout": "IPY_MODEL_0ba0d426559d4eb6abb4d57c63a0d6c4"
      }
     },
     "0376f7ddc6fb4aa387382a8650a0c933": {
      "model_module": "@jupyter-widgets/controls",
      "model_module_version": "1.5.0",
      "model_name": "HTMLModel",
      "state": {
       "_dom_classes": [],
       "_model_module": "@jupyter-widgets/controls",
       "_model_module_version": "1.5.0",
       "_model_name": "HTMLModel",
       "_view_count": null,
       "_view_module": "@jupyter-widgets/controls",
       "_view_module_version": "1.5.0",
       "_view_name": "HTMLView",
       "description": "",
       "description_tooltip": null,
       "layout": "IPY_MODEL_12c1fe2b0bdb449d8d06e5accee7a028",
       "placeholder": "​",
       "style": "IPY_MODEL_28537cd712c5448eb7b698babbe87541",
       "value": "Downloading (…)olve/main/merges.txt: 100%"
      }
     },
     "0ba0d426559d4eb6abb4d57c63a0d6c4": {
      "model_module": "@jupyter-widgets/base",
      "model_module_version": "1.2.0",
      "model_name": "LayoutModel",
      "state": {
       "_model_module": "@jupyter-widgets/base",
       "_model_module_version": "1.2.0",
       "_model_name": "LayoutModel",
       "_view_count": null,
       "_view_module": "@jupyter-widgets/base",
       "_view_module_version": "1.2.0",
       "_view_name": "LayoutView",
       "align_content": null,
       "align_items": null,
       "align_self": null,
       "border": null,
       "bottom": null,
       "display": null,
       "flex": null,
       "flex_flow": null,
       "grid_area": null,
       "grid_auto_columns": null,
       "grid_auto_flow": null,
       "grid_auto_rows": null,
       "grid_column": null,
       "grid_gap": null,
       "grid_row": null,
       "grid_template_areas": null,
       "grid_template_columns": null,
       "grid_template_rows": null,
       "height": null,
       "justify_content": null,
       "justify_items": null,
       "left": null,
       "margin": null,
       "max_height": null,
       "max_width": null,
       "min_height": null,
       "min_width": null,
       "object_fit": null,
       "object_position": null,
       "order": null,
       "overflow": null,
       "overflow_x": null,
       "overflow_y": null,
       "padding": null,
       "right": null,
       "top": null,
       "visibility": null,
       "width": null
      }
     },
     "0fe30a450a31401ba9cea29c22588618": {
      "model_module": "@jupyter-widgets/controls",
      "model_module_version": "1.5.0",
      "model_name": "FloatProgressModel",
      "state": {
       "_dom_classes": [],
       "_model_module": "@jupyter-widgets/controls",
       "_model_module_version": "1.5.0",
       "_model_name": "FloatProgressModel",
       "_view_count": null,
       "_view_module": "@jupyter-widgets/controls",
       "_view_module_version": "1.5.0",
       "_view_name": "ProgressView",
       "bar_style": "success",
       "description": "",
       "description_tooltip": null,
       "layout": "IPY_MODEL_82e169a884304a8dad9e663178aca86e",
       "max": 14504.0,
       "min": 0.0,
       "orientation": "horizontal",
       "style": "IPY_MODEL_c73aaf1673fc4fdd90a22801638d31cf",
       "value": 14504.0
      }
     },
     "10017bb9318a4822bc9e2e6014408a3b": {
      "model_module": "@jupyter-widgets/controls",
      "model_module_version": "1.5.0",
      "model_name": "ProgressStyleModel",
      "state": {
       "_model_module": "@jupyter-widgets/controls",
       "_model_module_version": "1.5.0",
       "_model_name": "ProgressStyleModel",
       "_view_count": null,
       "_view_module": "@jupyter-widgets/base",
       "_view_module_version": "1.2.0",
       "_view_name": "StyleView",
       "bar_color": null,
       "description_width": ""
      }
     },
     "1291841596384b6d9a6492f5143e03e0": {
      "model_module": "@jupyter-widgets/controls",
      "model_module_version": "1.5.0",
      "model_name": "ProgressStyleModel",
      "state": {
       "_model_module": "@jupyter-widgets/controls",
       "_model_module_version": "1.5.0",
       "_model_name": "ProgressStyleModel",
       "_view_count": null,
       "_view_module": "@jupyter-widgets/base",
       "_view_module_version": "1.2.0",
       "_view_name": "StyleView",
       "bar_color": null,
       "description_width": ""
      }
     },
     "12c1fe2b0bdb449d8d06e5accee7a028": {
      "model_module": "@jupyter-widgets/base",
      "model_module_version": "1.2.0",
      "model_name": "LayoutModel",
      "state": {
       "_model_module": "@jupyter-widgets/base",
       "_model_module_version": "1.2.0",
       "_model_name": "LayoutModel",
       "_view_count": null,
       "_view_module": "@jupyter-widgets/base",
       "_view_module_version": "1.2.0",
       "_view_name": "LayoutView",
       "align_content": null,
       "align_items": null,
       "align_self": null,
       "border": null,
       "bottom": null,
       "display": null,
       "flex": null,
       "flex_flow": null,
       "grid_area": null,
       "grid_auto_columns": null,
       "grid_auto_flow": null,
       "grid_auto_rows": null,
       "grid_column": null,
       "grid_gap": null,
       "grid_row": null,
       "grid_template_areas": null,
       "grid_template_columns": null,
       "grid_template_rows": null,
       "height": null,
       "justify_content": null,
       "justify_items": null,
       "left": null,
       "margin": null,
       "max_height": null,
       "max_width": null,
       "min_height": null,
       "min_width": null,
       "object_fit": null,
       "object_position": null,
       "order": null,
       "overflow": null,
       "overflow_x": null,
       "overflow_y": null,
       "padding": null,
       "right": null,
       "top": null,
       "visibility": null,
       "width": null
      }
     },
     "164667a4b9004b899bc9c3d4304cec2f": {
      "model_module": "@jupyter-widgets/controls",
      "model_module_version": "1.5.0",
      "model_name": "ProgressStyleModel",
      "state": {
       "_model_module": "@jupyter-widgets/controls",
       "_model_module_version": "1.5.0",
       "_model_name": "ProgressStyleModel",
       "_view_count": null,
       "_view_module": "@jupyter-widgets/base",
       "_view_module_version": "1.2.0",
       "_view_name": "StyleView",
       "bar_color": null,
       "description_width": ""
      }
     },
     "17647a19dcc64ad1be2430611cfe895b": {
      "model_module": "@jupyter-widgets/controls",
      "model_module_version": "1.5.0",
      "model_name": "DescriptionStyleModel",
      "state": {
       "_model_module": "@jupyter-widgets/controls",
       "_model_module_version": "1.5.0",
       "_model_name": "DescriptionStyleModel",
       "_view_count": null,
       "_view_module": "@jupyter-widgets/base",
       "_view_module_version": "1.2.0",
       "_view_name": "StyleView",
       "description_width": ""
      }
     },
     "1cd5c99f481147a6a0580926aaf5e133": {
      "model_module": "@jupyter-widgets/base",
      "model_module_version": "1.2.0",
      "model_name": "LayoutModel",
      "state": {
       "_model_module": "@jupyter-widgets/base",
       "_model_module_version": "1.2.0",
       "_model_name": "LayoutModel",
       "_view_count": null,
       "_view_module": "@jupyter-widgets/base",
       "_view_module_version": "1.2.0",
       "_view_name": "LayoutView",
       "align_content": null,
       "align_items": null,
       "align_self": null,
       "border": null,
       "bottom": null,
       "display": null,
       "flex": null,
       "flex_flow": null,
       "grid_area": null,
       "grid_auto_columns": null,
       "grid_auto_flow": null,
       "grid_auto_rows": null,
       "grid_column": null,
       "grid_gap": null,
       "grid_row": null,
       "grid_template_areas": null,
       "grid_template_columns": null,
       "grid_template_rows": null,
       "height": null,
       "justify_content": null,
       "justify_items": null,
       "left": null,
       "margin": null,
       "max_height": null,
       "max_width": null,
       "min_height": null,
       "min_width": null,
       "object_fit": null,
       "object_position": null,
       "order": null,
       "overflow": null,
       "overflow_x": null,
       "overflow_y": null,
       "padding": null,
       "right": null,
       "top": null,
       "visibility": null,
       "width": null
      }
     },
     "1e3a5a4c7b5b42aca22aa8a6fe704765": {
      "model_module": "@jupyter-widgets/controls",
      "model_module_version": "1.5.0",
      "model_name": "HTMLModel",
      "state": {
       "_dom_classes": [],
       "_model_module": "@jupyter-widgets/controls",
       "_model_module_version": "1.5.0",
       "_model_name": "HTMLModel",
       "_view_count": null,
       "_view_module": "@jupyter-widgets/controls",
       "_view_module_version": "1.5.0",
       "_view_name": "HTMLView",
       "description": "",
       "description_tooltip": null,
       "layout": "IPY_MODEL_9680338507314ad498996ebb57bb488b",
       "placeholder": "​",
       "style": "IPY_MODEL_6d04f880ad234070875675f33bfb45a1",
       "value": " 150/150 [00:00&lt;00:00, 10.2kB/s]"
      }
     },
     "1fd1d3d5465741aabd4542a1fff0ab53": {
      "model_module": "@jupyter-widgets/controls",
      "model_module_version": "1.5.0",
      "model_name": "HBoxModel",
      "state": {
       "_dom_classes": [],
       "_model_module": "@jupyter-widgets/controls",
       "_model_module_version": "1.5.0",
       "_model_name": "HBoxModel",
       "_view_count": null,
       "_view_module": "@jupyter-widgets/controls",
       "_view_module_version": "1.5.0",
       "_view_name": "HBoxView",
       "box_style": "",
       "children": [
        "IPY_MODEL_2fcf6fc08d824bca976be5c7476d3d25",
        "IPY_MODEL_63328b54bc1d4dc5ba64c5773988a5a8",
        "IPY_MODEL_3efe627144fa47598dc620a164af6b52"
       ],
       "layout": "IPY_MODEL_5c379c3d1287415399a868a41276464a"
      }
     },
     "245588bef2894fd0b9dd893a2afcee3c": {
      "model_module": "@jupyter-widgets/base",
      "model_module_version": "1.2.0",
      "model_name": "LayoutModel",
      "state": {
       "_model_module": "@jupyter-widgets/base",
       "_model_module_version": "1.2.0",
       "_model_name": "LayoutModel",
       "_view_count": null,
       "_view_module": "@jupyter-widgets/base",
       "_view_module_version": "1.2.0",
       "_view_name": "LayoutView",
       "align_content": null,
       "align_items": null,
       "align_self": null,
       "border": null,
       "bottom": null,
       "display": null,
       "flex": null,
       "flex_flow": null,
       "grid_area": null,
       "grid_auto_columns": null,
       "grid_auto_flow": null,
       "grid_auto_rows": null,
       "grid_column": null,
       "grid_gap": null,
       "grid_row": null,
       "grid_template_areas": null,
       "grid_template_columns": null,
       "grid_template_rows": null,
       "height": null,
       "justify_content": null,
       "justify_items": null,
       "left": null,
       "margin": null,
       "max_height": null,
       "max_width": null,
       "min_height": null,
       "min_width": null,
       "object_fit": null,
       "object_position": null,
       "order": null,
       "overflow": null,
       "overflow_x": null,
       "overflow_y": null,
       "padding": null,
       "right": null,
       "top": null,
       "visibility": null,
       "width": null
      }
     },
     "256cc3297db448f7b40d657cd77c8a5a": {
      "model_module": "@jupyter-widgets/base",
      "model_module_version": "1.2.0",
      "model_name": "LayoutModel",
      "state": {
       "_model_module": "@jupyter-widgets/base",
       "_model_module_version": "1.2.0",
       "_model_name": "LayoutModel",
       "_view_count": null,
       "_view_module": "@jupyter-widgets/base",
       "_view_module_version": "1.2.0",
       "_view_name": "LayoutView",
       "align_content": null,
       "align_items": null,
       "align_self": null,
       "border": null,
       "bottom": null,
       "display": null,
       "flex": null,
       "flex_flow": null,
       "grid_area": null,
       "grid_auto_columns": null,
       "grid_auto_flow": null,
       "grid_auto_rows": null,
       "grid_column": null,
       "grid_gap": null,
       "grid_row": null,
       "grid_template_areas": null,
       "grid_template_columns": null,
       "grid_template_rows": null,
       "height": null,
       "justify_content": null,
       "justify_items": null,
       "left": null,
       "margin": null,
       "max_height": null,
       "max_width": null,
       "min_height": null,
       "min_width": null,
       "object_fit": null,
       "object_position": null,
       "order": null,
       "overflow": null,
       "overflow_x": null,
       "overflow_y": null,
       "padding": null,
       "right": null,
       "top": null,
       "visibility": null,
       "width": null
      }
     },
     "28537cd712c5448eb7b698babbe87541": {
      "model_module": "@jupyter-widgets/controls",
      "model_module_version": "1.5.0",
      "model_name": "DescriptionStyleModel",
      "state": {
       "_model_module": "@jupyter-widgets/controls",
       "_model_module_version": "1.5.0",
       "_model_name": "DescriptionStyleModel",
       "_view_count": null,
       "_view_module": "@jupyter-widgets/base",
       "_view_module_version": "1.2.0",
       "_view_name": "StyleView",
       "description_width": ""
      }
     },
     "2ce6fcf223c8485aae9b7064327e5d9b": {
      "model_module": "@jupyter-widgets/controls",
      "model_module_version": "1.5.0",
      "model_name": "HTMLModel",
      "state": {
       "_dom_classes": [],
       "_model_module": "@jupyter-widgets/controls",
       "_model_module_version": "1.5.0",
       "_model_name": "HTMLModel",
       "_view_count": null,
       "_view_module": "@jupyter-widgets/controls",
       "_view_module_version": "1.5.0",
       "_view_name": "HTMLView",
       "description": "",
       "description_tooltip": null,
       "layout": "IPY_MODEL_af27d5d450834f0f9756bdb05bb99c99",
       "placeholder": "​",
       "style": "IPY_MODEL_d9dba5be861a424e9d88143d71fd50d2",
       "value": " 14504/14504 [00:04&lt;00:00, 3219.71it/s]"
      }
     },
     "2e5dccb7cd194f9c8d5f328a9fef1ab1": {
      "model_module": "@jupyter-widgets/controls",
      "model_module_version": "1.5.0",
      "model_name": "DescriptionStyleModel",
      "state": {
       "_model_module": "@jupyter-widgets/controls",
       "_model_module_version": "1.5.0",
       "_model_name": "DescriptionStyleModel",
       "_view_count": null,
       "_view_module": "@jupyter-widgets/base",
       "_view_module_version": "1.2.0",
       "_view_name": "StyleView",
       "description_width": ""
      }
     },
     "2ea0fdf54f8a42c4b3849857120240c8": {
      "model_module": "@jupyter-widgets/controls",
      "model_module_version": "1.5.0",
      "model_name": "DescriptionStyleModel",
      "state": {
       "_model_module": "@jupyter-widgets/controls",
       "_model_module_version": "1.5.0",
       "_model_name": "DescriptionStyleModel",
       "_view_count": null,
       "_view_module": "@jupyter-widgets/base",
       "_view_module_version": "1.2.0",
       "_view_name": "StyleView",
       "description_width": ""
      }
     },
     "2f8f6933a1d8445584931b2d33e0a19e": {
      "model_module": "@jupyter-widgets/controls",
      "model_module_version": "1.5.0",
      "model_name": "DescriptionStyleModel",
      "state": {
       "_model_module": "@jupyter-widgets/controls",
       "_model_module_version": "1.5.0",
       "_model_name": "DescriptionStyleModel",
       "_view_count": null,
       "_view_module": "@jupyter-widgets/base",
       "_view_module_version": "1.2.0",
       "_view_name": "StyleView",
       "description_width": ""
      }
     },
     "2fcf6fc08d824bca976be5c7476d3d25": {
      "model_module": "@jupyter-widgets/controls",
      "model_module_version": "1.5.0",
      "model_name": "HTMLModel",
      "state": {
       "_dom_classes": [],
       "_model_module": "@jupyter-widgets/controls",
       "_model_module_version": "1.5.0",
       "_model_name": "HTMLModel",
       "_view_count": null,
       "_view_module": "@jupyter-widgets/controls",
       "_view_module_version": "1.5.0",
       "_view_name": "HTMLView",
       "description": "",
       "description_tooltip": null,
       "layout": "IPY_MODEL_eb12a70840704b02be0422823f5f0e16",
       "placeholder": "​",
       "style": "IPY_MODEL_2e5dccb7cd194f9c8d5f328a9fef1ab1",
       "value": "Downloading (…)lve/main/config.json: 100%"
      }
     },
     "325448a82cc24a1b928be49ef15a3416": {
      "model_module": "@jupyter-widgets/base",
      "model_module_version": "1.2.0",
      "model_name": "LayoutModel",
      "state": {
       "_model_module": "@jupyter-widgets/base",
       "_model_module_version": "1.2.0",
       "_model_name": "LayoutModel",
       "_view_count": null,
       "_view_module": "@jupyter-widgets/base",
       "_view_module_version": "1.2.0",
       "_view_name": "LayoutView",
       "align_content": null,
       "align_items": null,
       "align_self": null,
       "border": null,
       "bottom": null,
       "display": null,
       "flex": null,
       "flex_flow": null,
       "grid_area": null,
       "grid_auto_columns": null,
       "grid_auto_flow": null,
       "grid_auto_rows": null,
       "grid_column": null,
       "grid_gap": null,
       "grid_row": null,
       "grid_template_areas": null,
       "grid_template_columns": null,
       "grid_template_rows": null,
       "height": null,
       "justify_content": null,
       "justify_items": null,
       "left": null,
       "margin": null,
       "max_height": null,
       "max_width": null,
       "min_height": null,
       "min_width": null,
       "object_fit": null,
       "object_position": null,
       "order": null,
       "overflow": null,
       "overflow_x": null,
       "overflow_y": null,
       "padding": null,
       "right": null,
       "top": null,
       "visibility": null,
       "width": null
      }
     },
     "3655823b41b140c0bd816d5d3c21d8b6": {
      "model_module": "@jupyter-widgets/controls",
      "model_module_version": "1.5.0",
      "model_name": "HBoxModel",
      "state": {
       "_dom_classes": [],
       "_model_module": "@jupyter-widgets/controls",
       "_model_module_version": "1.5.0",
       "_model_name": "HBoxModel",
       "_view_count": null,
       "_view_module": "@jupyter-widgets/controls",
       "_view_module_version": "1.5.0",
       "_view_name": "HBoxView",
       "box_style": "",
       "children": [
        "IPY_MODEL_9b7f23058a7341d0a7682fe3659b18cf",
        "IPY_MODEL_a9f524750fc44d25a45881513a9b2c0e",
        "IPY_MODEL_1e3a5a4c7b5b42aca22aa8a6fe704765"
       ],
       "layout": "IPY_MODEL_f72a4ea5f92b4886a9789ab8273c9402"
      }
     },
     "3670766161d74552a77d2a57b25c2a14": {
      "model_module": "@jupyter-widgets/controls",
      "model_module_version": "1.5.0",
      "model_name": "DescriptionStyleModel",
      "state": {
       "_model_module": "@jupyter-widgets/controls",
       "_model_module_version": "1.5.0",
       "_model_name": "DescriptionStyleModel",
       "_view_count": null,
       "_view_module": "@jupyter-widgets/base",
       "_view_module_version": "1.2.0",
       "_view_name": "StyleView",
       "description_width": ""
      }
     },
     "3a799945591b408bbd69b46a2d65448c": {
      "model_module": "@jupyter-widgets/base",
      "model_module_version": "1.2.0",
      "model_name": "LayoutModel",
      "state": {
       "_model_module": "@jupyter-widgets/base",
       "_model_module_version": "1.2.0",
       "_model_name": "LayoutModel",
       "_view_count": null,
       "_view_module": "@jupyter-widgets/base",
       "_view_module_version": "1.2.0",
       "_view_name": "LayoutView",
       "align_content": null,
       "align_items": null,
       "align_self": null,
       "border": null,
       "bottom": null,
       "display": null,
       "flex": null,
       "flex_flow": null,
       "grid_area": null,
       "grid_auto_columns": null,
       "grid_auto_flow": null,
       "grid_auto_rows": null,
       "grid_column": null,
       "grid_gap": null,
       "grid_row": null,
       "grid_template_areas": null,
       "grid_template_columns": null,
       "grid_template_rows": null,
       "height": null,
       "justify_content": null,
       "justify_items": null,
       "left": null,
       "margin": null,
       "max_height": null,
       "max_width": null,
       "min_height": null,
       "min_width": null,
       "object_fit": null,
       "object_position": null,
       "order": null,
       "overflow": null,
       "overflow_x": null,
       "overflow_y": null,
       "padding": null,
       "right": null,
       "top": null,
       "visibility": null,
       "width": null
      }
     },
     "3b42bf70f7524700b409bb02e58dc449": {
      "model_module": "@jupyter-widgets/controls",
      "model_module_version": "1.5.0",
      "model_name": "HTMLModel",
      "state": {
       "_dom_classes": [],
       "_model_module": "@jupyter-widgets/controls",
       "_model_module_version": "1.5.0",
       "_model_name": "HTMLModel",
       "_view_count": null,
       "_view_module": "@jupyter-widgets/controls",
       "_view_module_version": "1.5.0",
       "_view_name": "HTMLView",
       "description": "",
       "description_tooltip": null,
       "layout": "IPY_MODEL_e265d927d80844db9a89dff320668cb7",
       "placeholder": "​",
       "style": "IPY_MODEL_7d6e28d104574f0fa9f764a1295c33f0",
       "value": " 14504/14504 [27:59&lt;00:00,  8.57it/s]"
      }
     },
     "3e61cc7209e648f3a55ce2a7b97b6f0c": {
      "model_module": "@jupyter-widgets/controls",
      "model_module_version": "1.5.0",
      "model_name": "DescriptionStyleModel",
      "state": {
       "_model_module": "@jupyter-widgets/controls",
       "_model_module_version": "1.5.0",
       "_model_name": "DescriptionStyleModel",
       "_view_count": null,
       "_view_module": "@jupyter-widgets/base",
       "_view_module_version": "1.2.0",
       "_view_name": "StyleView",
       "description_width": ""
      }
     },
     "3efe627144fa47598dc620a164af6b52": {
      "model_module": "@jupyter-widgets/controls",
      "model_module_version": "1.5.0",
      "model_name": "HTMLModel",
      "state": {
       "_dom_classes": [],
       "_model_module": "@jupyter-widgets/controls",
       "_model_module_version": "1.5.0",
       "_model_name": "HTMLModel",
       "_view_count": null,
       "_view_module": "@jupyter-widgets/controls",
       "_view_module_version": "1.5.0",
       "_view_name": "HTMLView",
       "description": "",
       "description_tooltip": null,
       "layout": "IPY_MODEL_f97272abca86458a9aef39d66c854e3c",
       "placeholder": "​",
       "style": "IPY_MODEL_c2ebf2e8b1434deeb0581eb79afdfd53",
       "value": " 747/747 [00:00&lt;00:00, 32.5kB/s]"
      }
     },
     "40a6f0eb7f57426c9e7f28d8a104ff0e": {
      "model_module": "@jupyter-widgets/controls",
      "model_module_version": "1.5.0",
      "model_name": "HTMLModel",
      "state": {
       "_dom_classes": [],
       "_model_module": "@jupyter-widgets/controls",
       "_model_module_version": "1.5.0",
       "_model_name": "HTMLModel",
       "_view_count": null,
       "_view_module": "@jupyter-widgets/controls",
       "_view_module_version": "1.5.0",
       "_view_name": "HTMLView",
       "description": "",
       "description_tooltip": null,
       "layout": "IPY_MODEL_7f32438231c6403392a9b81c3828a190",
       "placeholder": "​",
       "style": "IPY_MODEL_2f8f6933a1d8445584931b2d33e0a19e",
       "value": " 456k/456k [00:00&lt;00:00, 7.02MB/s]"
      }
     },
     "49b48cc6b1144a7a96635c36ea663bcf": {
      "model_module": "@jupyter-widgets/controls",
      "model_module_version": "1.5.0",
      "model_name": "FloatProgressModel",
      "state": {
       "_dom_classes": [],
       "_model_module": "@jupyter-widgets/controls",
       "_model_module_version": "1.5.0",
       "_model_name": "FloatProgressModel",
       "_view_count": null,
       "_view_module": "@jupyter-widgets/controls",
       "_view_module_version": "1.5.0",
       "_view_name": "ProgressView",
       "bar_style": "success",
       "description": "",
       "description_tooltip": null,
       "layout": "IPY_MODEL_c25789e7783f411ba546e2fed8d8f7c8",
       "max": 14504.0,
       "min": 0.0,
       "orientation": "horizontal",
       "style": "IPY_MODEL_73217c556346456892b08d738dc4f1fc",
       "value": 14504.0
      }
     },
     "49ceeeba795b4de2a7ac1d3202825d50": {
      "model_module": "@jupyter-widgets/base",
      "model_module_version": "1.2.0",
      "model_name": "LayoutModel",
      "state": {
       "_model_module": "@jupyter-widgets/base",
       "_model_module_version": "1.2.0",
       "_model_name": "LayoutModel",
       "_view_count": null,
       "_view_module": "@jupyter-widgets/base",
       "_view_module_version": "1.2.0",
       "_view_name": "LayoutView",
       "align_content": null,
       "align_items": null,
       "align_self": null,
       "border": null,
       "bottom": null,
       "display": null,
       "flex": null,
       "flex_flow": null,
       "grid_area": null,
       "grid_auto_columns": null,
       "grid_auto_flow": null,
       "grid_auto_rows": null,
       "grid_column": null,
       "grid_gap": null,
       "grid_row": null,
       "grid_template_areas": null,
       "grid_template_columns": null,
       "grid_template_rows": null,
       "height": null,
       "justify_content": null,
       "justify_items": null,
       "left": null,
       "margin": null,
       "max_height": null,
       "max_width": null,
       "min_height": null,
       "min_width": null,
       "object_fit": null,
       "object_position": null,
       "order": null,
       "overflow": null,
       "overflow_x": null,
       "overflow_y": null,
       "padding": null,
       "right": null,
       "top": null,
       "visibility": null,
       "width": null
      }
     },
     "4b86b8c2681a47e1a4c6a2f06d670e7f": {
      "model_module": "@jupyter-widgets/controls",
      "model_module_version": "1.5.0",
      "model_name": "DescriptionStyleModel",
      "state": {
       "_model_module": "@jupyter-widgets/controls",
       "_model_module_version": "1.5.0",
       "_model_name": "DescriptionStyleModel",
       "_view_count": null,
       "_view_module": "@jupyter-widgets/base",
       "_view_module_version": "1.2.0",
       "_view_name": "StyleView",
       "description_width": ""
      }
     },
     "5477c597ec624be5b40a5a0d4a4b6240": {
      "model_module": "@jupyter-widgets/controls",
      "model_module_version": "1.5.0",
      "model_name": "FloatProgressModel",
      "state": {
       "_dom_classes": [],
       "_model_module": "@jupyter-widgets/controls",
       "_model_module_version": "1.5.0",
       "_model_name": "FloatProgressModel",
       "_view_count": null,
       "_view_module": "@jupyter-widgets/controls",
       "_view_module_version": "1.5.0",
       "_view_name": "ProgressView",
       "bar_style": "success",
       "description": "",
       "description_tooltip": null,
       "layout": "IPY_MODEL_7b55aecf7d41443594fb9e146e8d8c8b",
       "max": 498679497.0,
       "min": 0.0,
       "orientation": "horizontal",
       "style": "IPY_MODEL_ff1dd7c0e3de4b17bf706f199871c6db",
       "value": 498679497.0
      }
     },
     "59767a99ea354ab198784c6825e11913": {
      "model_module": "@jupyter-widgets/controls",
      "model_module_version": "1.5.0",
      "model_name": "HTMLModel",
      "state": {
       "_dom_classes": [],
       "_model_module": "@jupyter-widgets/controls",
       "_model_module_version": "1.5.0",
       "_model_name": "HTMLModel",
       "_view_count": null,
       "_view_module": "@jupyter-widgets/controls",
       "_view_module_version": "1.5.0",
       "_view_name": "HTMLView",
       "description": "",
       "description_tooltip": null,
       "layout": "IPY_MODEL_f620205a788a4ae28a9ea3dfa244e1b8",
       "placeholder": "​",
       "style": "IPY_MODEL_4b86b8c2681a47e1a4c6a2f06d670e7f",
       "value": "Downloading pytorch_model.bin: 100%"
      }
     },
     "5c379c3d1287415399a868a41276464a": {
      "model_module": "@jupyter-widgets/base",
      "model_module_version": "1.2.0",
      "model_name": "LayoutModel",
      "state": {
       "_model_module": "@jupyter-widgets/base",
       "_model_module_version": "1.2.0",
       "_model_name": "LayoutModel",
       "_view_count": null,
       "_view_module": "@jupyter-widgets/base",
       "_view_module_version": "1.2.0",
       "_view_name": "LayoutView",
       "align_content": null,
       "align_items": null,
       "align_self": null,
       "border": null,
       "bottom": null,
       "display": null,
       "flex": null,
       "flex_flow": null,
       "grid_area": null,
       "grid_auto_columns": null,
       "grid_auto_flow": null,
       "grid_auto_rows": null,
       "grid_column": null,
       "grid_gap": null,
       "grid_row": null,
       "grid_template_areas": null,
       "grid_template_columns": null,
       "grid_template_rows": null,
       "height": null,
       "justify_content": null,
       "justify_items": null,
       "left": null,
       "margin": null,
       "max_height": null,
       "max_width": null,
       "min_height": null,
       "min_width": null,
       "object_fit": null,
       "object_position": null,
       "order": null,
       "overflow": null,
       "overflow_x": null,
       "overflow_y": null,
       "padding": null,
       "right": null,
       "top": null,
       "visibility": null,
       "width": null
      }
     },
     "63328b54bc1d4dc5ba64c5773988a5a8": {
      "model_module": "@jupyter-widgets/controls",
      "model_module_version": "1.5.0",
      "model_name": "FloatProgressModel",
      "state": {
       "_dom_classes": [],
       "_model_module": "@jupyter-widgets/controls",
       "_model_module_version": "1.5.0",
       "_model_name": "FloatProgressModel",
       "_view_count": null,
       "_view_module": "@jupyter-widgets/controls",
       "_view_module_version": "1.5.0",
       "_view_name": "ProgressView",
       "bar_style": "success",
       "description": "",
       "description_tooltip": null,
       "layout": "IPY_MODEL_85da9dce26d040a4a4b1f471cfaa0dc9",
       "max": 747.0,
       "min": 0.0,
       "orientation": "horizontal",
       "style": "IPY_MODEL_164667a4b9004b899bc9c3d4304cec2f",
       "value": 747.0
      }
     },
     "6768b749e3a344888480b7bfecaa52ab": {
      "model_module": "@jupyter-widgets/controls",
      "model_module_version": "1.5.0",
      "model_name": "HTMLModel",
      "state": {
       "_dom_classes": [],
       "_model_module": "@jupyter-widgets/controls",
       "_model_module_version": "1.5.0",
       "_model_name": "HTMLModel",
       "_view_count": null,
       "_view_module": "@jupyter-widgets/controls",
       "_view_module_version": "1.5.0",
       "_view_name": "HTMLView",
       "description": "",
       "description_tooltip": null,
       "layout": "IPY_MODEL_afd8211b65a044c887e92cacbd10f70f",
       "placeholder": "​",
       "style": "IPY_MODEL_fa392a4c54ba4e62b0613cce55765502",
       "value": " 899k/899k [00:00&lt;00:00, 10.6MB/s]"
      }
     },
     "6c3505c206a54e3b8e05b13e8ae61d25": {
      "model_module": "@jupyter-widgets/controls",
      "model_module_version": "1.5.0",
      "model_name": "HBoxModel",
      "state": {
       "_dom_classes": [],
       "_model_module": "@jupyter-widgets/controls",
       "_model_module_version": "1.5.0",
       "_model_name": "HBoxModel",
       "_view_count": null,
       "_view_module": "@jupyter-widgets/controls",
       "_view_module_version": "1.5.0",
       "_view_name": "HBoxView",
       "box_style": "",
       "children": [
        "IPY_MODEL_cc07da802e2f446c89ef5db0817ff974",
        "IPY_MODEL_0fe30a450a31401ba9cea29c22588618",
        "IPY_MODEL_3b42bf70f7524700b409bb02e58dc449"
       ],
       "layout": "IPY_MODEL_8a71dcbb808c4d6e912a88713fe317ff"
      }
     },
     "6d04f880ad234070875675f33bfb45a1": {
      "model_module": "@jupyter-widgets/controls",
      "model_module_version": "1.5.0",
      "model_name": "DescriptionStyleModel",
      "state": {
       "_model_module": "@jupyter-widgets/controls",
       "_model_module_version": "1.5.0",
       "_model_name": "DescriptionStyleModel",
       "_view_count": null,
       "_view_module": "@jupyter-widgets/base",
       "_view_module_version": "1.2.0",
       "_view_name": "StyleView",
       "description_width": ""
      }
     },
     "6ddcca39a34647f699a2dc14b475a29a": {
      "model_module": "@jupyter-widgets/base",
      "model_module_version": "1.2.0",
      "model_name": "LayoutModel",
      "state": {
       "_model_module": "@jupyter-widgets/base",
       "_model_module_version": "1.2.0",
       "_model_name": "LayoutModel",
       "_view_count": null,
       "_view_module": "@jupyter-widgets/base",
       "_view_module_version": "1.2.0",
       "_view_name": "LayoutView",
       "align_content": null,
       "align_items": null,
       "align_self": null,
       "border": null,
       "bottom": null,
       "display": null,
       "flex": null,
       "flex_flow": null,
       "grid_area": null,
       "grid_auto_columns": null,
       "grid_auto_flow": null,
       "grid_auto_rows": null,
       "grid_column": null,
       "grid_gap": null,
       "grid_row": null,
       "grid_template_areas": null,
       "grid_template_columns": null,
       "grid_template_rows": null,
       "height": null,
       "justify_content": null,
       "justify_items": null,
       "left": null,
       "margin": null,
       "max_height": null,
       "max_width": null,
       "min_height": null,
       "min_width": null,
       "object_fit": null,
       "object_position": null,
       "order": null,
       "overflow": null,
       "overflow_x": null,
       "overflow_y": null,
       "padding": null,
       "right": null,
       "top": null,
       "visibility": null,
       "width": null
      }
     },
     "73217c556346456892b08d738dc4f1fc": {
      "model_module": "@jupyter-widgets/controls",
      "model_module_version": "1.5.0",
      "model_name": "ProgressStyleModel",
      "state": {
       "_model_module": "@jupyter-widgets/controls",
       "_model_module_version": "1.5.0",
       "_model_name": "ProgressStyleModel",
       "_view_count": null,
       "_view_module": "@jupyter-widgets/base",
       "_view_module_version": "1.2.0",
       "_view_name": "StyleView",
       "bar_color": null,
       "description_width": ""
      }
     },
     "79ea2f24f449426eb300a6288c462b06": {
      "model_module": "@jupyter-widgets/controls",
      "model_module_version": "1.5.0",
      "model_name": "HBoxModel",
      "state": {
       "_dom_classes": [],
       "_model_module": "@jupyter-widgets/controls",
       "_model_module_version": "1.5.0",
       "_model_name": "HBoxModel",
       "_view_count": null,
       "_view_module": "@jupyter-widgets/controls",
       "_view_module_version": "1.5.0",
       "_view_name": "HBoxView",
       "box_style": "",
       "children": [
        "IPY_MODEL_59767a99ea354ab198784c6825e11913",
        "IPY_MODEL_5477c597ec624be5b40a5a0d4a4b6240",
        "IPY_MODEL_da4af29eea7a4f54a890d929a9cf6c6d"
       ],
       "layout": "IPY_MODEL_00443a1b51764ba988ec714957aff4ab"
      }
     },
     "7a605a72d243402f9298df7f9feb737a": {
      "model_module": "@jupyter-widgets/base",
      "model_module_version": "1.2.0",
      "model_name": "LayoutModel",
      "state": {
       "_model_module": "@jupyter-widgets/base",
       "_model_module_version": "1.2.0",
       "_model_name": "LayoutModel",
       "_view_count": null,
       "_view_module": "@jupyter-widgets/base",
       "_view_module_version": "1.2.0",
       "_view_name": "LayoutView",
       "align_content": null,
       "align_items": null,
       "align_self": null,
       "border": null,
       "bottom": null,
       "display": null,
       "flex": null,
       "flex_flow": null,
       "grid_area": null,
       "grid_auto_columns": null,
       "grid_auto_flow": null,
       "grid_auto_rows": null,
       "grid_column": null,
       "grid_gap": null,
       "grid_row": null,
       "grid_template_areas": null,
       "grid_template_columns": null,
       "grid_template_rows": null,
       "height": null,
       "justify_content": null,
       "justify_items": null,
       "left": null,
       "margin": null,
       "max_height": null,
       "max_width": null,
       "min_height": null,
       "min_width": null,
       "object_fit": null,
       "object_position": null,
       "order": null,
       "overflow": null,
       "overflow_x": null,
       "overflow_y": null,
       "padding": null,
       "right": null,
       "top": null,
       "visibility": null,
       "width": null
      }
     },
     "7b55aecf7d41443594fb9e146e8d8c8b": {
      "model_module": "@jupyter-widgets/base",
      "model_module_version": "1.2.0",
      "model_name": "LayoutModel",
      "state": {
       "_model_module": "@jupyter-widgets/base",
       "_model_module_version": "1.2.0",
       "_model_name": "LayoutModel",
       "_view_count": null,
       "_view_module": "@jupyter-widgets/base",
       "_view_module_version": "1.2.0",
       "_view_name": "LayoutView",
       "align_content": null,
       "align_items": null,
       "align_self": null,
       "border": null,
       "bottom": null,
       "display": null,
       "flex": null,
       "flex_flow": null,
       "grid_area": null,
       "grid_auto_columns": null,
       "grid_auto_flow": null,
       "grid_auto_rows": null,
       "grid_column": null,
       "grid_gap": null,
       "grid_row": null,
       "grid_template_areas": null,
       "grid_template_columns": null,
       "grid_template_rows": null,
       "height": null,
       "justify_content": null,
       "justify_items": null,
       "left": null,
       "margin": null,
       "max_height": null,
       "max_width": null,
       "min_height": null,
       "min_width": null,
       "object_fit": null,
       "object_position": null,
       "order": null,
       "overflow": null,
       "overflow_x": null,
       "overflow_y": null,
       "padding": null,
       "right": null,
       "top": null,
       "visibility": null,
       "width": null
      }
     },
     "7d6e28d104574f0fa9f764a1295c33f0": {
      "model_module": "@jupyter-widgets/controls",
      "model_module_version": "1.5.0",
      "model_name": "DescriptionStyleModel",
      "state": {
       "_model_module": "@jupyter-widgets/controls",
       "_model_module_version": "1.5.0",
       "_model_name": "DescriptionStyleModel",
       "_view_count": null,
       "_view_module": "@jupyter-widgets/base",
       "_view_module_version": "1.2.0",
       "_view_name": "StyleView",
       "description_width": ""
      }
     },
     "7f32438231c6403392a9b81c3828a190": {
      "model_module": "@jupyter-widgets/base",
      "model_module_version": "1.2.0",
      "model_name": "LayoutModel",
      "state": {
       "_model_module": "@jupyter-widgets/base",
       "_model_module_version": "1.2.0",
       "_model_name": "LayoutModel",
       "_view_count": null,
       "_view_module": "@jupyter-widgets/base",
       "_view_module_version": "1.2.0",
       "_view_name": "LayoutView",
       "align_content": null,
       "align_items": null,
       "align_self": null,
       "border": null,
       "bottom": null,
       "display": null,
       "flex": null,
       "flex_flow": null,
       "grid_area": null,
       "grid_auto_columns": null,
       "grid_auto_flow": null,
       "grid_auto_rows": null,
       "grid_column": null,
       "grid_gap": null,
       "grid_row": null,
       "grid_template_areas": null,
       "grid_template_columns": null,
       "grid_template_rows": null,
       "height": null,
       "justify_content": null,
       "justify_items": null,
       "left": null,
       "margin": null,
       "max_height": null,
       "max_width": null,
       "min_height": null,
       "min_width": null,
       "object_fit": null,
       "object_position": null,
       "order": null,
       "overflow": null,
       "overflow_x": null,
       "overflow_y": null,
       "padding": null,
       "right": null,
       "top": null,
       "visibility": null,
       "width": null
      }
     },
     "7f677f0a669e4f7f95c038fd63719946": {
      "model_module": "@jupyter-widgets/controls",
      "model_module_version": "1.5.0",
      "model_name": "HTMLModel",
      "state": {
       "_dom_classes": [],
       "_model_module": "@jupyter-widgets/controls",
       "_model_module_version": "1.5.0",
       "_model_name": "HTMLModel",
       "_view_count": null,
       "_view_module": "@jupyter-widgets/controls",
       "_view_module_version": "1.5.0",
       "_view_name": "HTMLView",
       "description": "",
       "description_tooltip": null,
       "layout": "IPY_MODEL_3a799945591b408bbd69b46a2d65448c",
       "placeholder": "​",
       "style": "IPY_MODEL_17647a19dcc64ad1be2430611cfe895b",
       "value": "Downloading (…)olve/main/vocab.json: 100%"
      }
     },
     "82e169a884304a8dad9e663178aca86e": {
      "model_module": "@jupyter-widgets/base",
      "model_module_version": "1.2.0",
      "model_name": "LayoutModel",
      "state": {
       "_model_module": "@jupyter-widgets/base",
       "_model_module_version": "1.2.0",
       "_model_name": "LayoutModel",
       "_view_count": null,
       "_view_module": "@jupyter-widgets/base",
       "_view_module_version": "1.2.0",
       "_view_name": "LayoutView",
       "align_content": null,
       "align_items": null,
       "align_self": null,
       "border": null,
       "bottom": null,
       "display": null,
       "flex": null,
       "flex_flow": null,
       "grid_area": null,
       "grid_auto_columns": null,
       "grid_auto_flow": null,
       "grid_auto_rows": null,
       "grid_column": null,
       "grid_gap": null,
       "grid_row": null,
       "grid_template_areas": null,
       "grid_template_columns": null,
       "grid_template_rows": null,
       "height": null,
       "justify_content": null,
       "justify_items": null,
       "left": null,
       "margin": null,
       "max_height": null,
       "max_width": null,
       "min_height": null,
       "min_width": null,
       "object_fit": null,
       "object_position": null,
       "order": null,
       "overflow": null,
       "overflow_x": null,
       "overflow_y": null,
       "padding": null,
       "right": null,
       "top": null,
       "visibility": null,
       "width": null
      }
     },
     "85da9dce26d040a4a4b1f471cfaa0dc9": {
      "model_module": "@jupyter-widgets/base",
      "model_module_version": "1.2.0",
      "model_name": "LayoutModel",
      "state": {
       "_model_module": "@jupyter-widgets/base",
       "_model_module_version": "1.2.0",
       "_model_name": "LayoutModel",
       "_view_count": null,
       "_view_module": "@jupyter-widgets/base",
       "_view_module_version": "1.2.0",
       "_view_name": "LayoutView",
       "align_content": null,
       "align_items": null,
       "align_self": null,
       "border": null,
       "bottom": null,
       "display": null,
       "flex": null,
       "flex_flow": null,
       "grid_area": null,
       "grid_auto_columns": null,
       "grid_auto_flow": null,
       "grid_auto_rows": null,
       "grid_column": null,
       "grid_gap": null,
       "grid_row": null,
       "grid_template_areas": null,
       "grid_template_columns": null,
       "grid_template_rows": null,
       "height": null,
       "justify_content": null,
       "justify_items": null,
       "left": null,
       "margin": null,
       "max_height": null,
       "max_width": null,
       "min_height": null,
       "min_width": null,
       "object_fit": null,
       "object_position": null,
       "order": null,
       "overflow": null,
       "overflow_x": null,
       "overflow_y": null,
       "padding": null,
       "right": null,
       "top": null,
       "visibility": null,
       "width": null
      }
     },
     "8969da1e1e034ec0a3146a912b0dff00": {
      "model_module": "@jupyter-widgets/controls",
      "model_module_version": "1.5.0",
      "model_name": "HTMLModel",
      "state": {
       "_dom_classes": [],
       "_model_module": "@jupyter-widgets/controls",
       "_model_module_version": "1.5.0",
       "_model_name": "HTMLModel",
       "_view_count": null,
       "_view_module": "@jupyter-widgets/controls",
       "_view_module_version": "1.5.0",
       "_view_name": "HTMLView",
       "description": "",
       "description_tooltip": null,
       "layout": "IPY_MODEL_245588bef2894fd0b9dd893a2afcee3c",
       "placeholder": "​",
       "style": "IPY_MODEL_3670766161d74552a77d2a57b25c2a14",
       "value": "100%"
      }
     },
     "8a71dcbb808c4d6e912a88713fe317ff": {
      "model_module": "@jupyter-widgets/base",
      "model_module_version": "1.2.0",
      "model_name": "LayoutModel",
      "state": {
       "_model_module": "@jupyter-widgets/base",
       "_model_module_version": "1.2.0",
       "_model_name": "LayoutModel",
       "_view_count": null,
       "_view_module": "@jupyter-widgets/base",
       "_view_module_version": "1.2.0",
       "_view_name": "LayoutView",
       "align_content": null,
       "align_items": null,
       "align_self": null,
       "border": null,
       "bottom": null,
       "display": null,
       "flex": null,
       "flex_flow": null,
       "grid_area": null,
       "grid_auto_columns": null,
       "grid_auto_flow": null,
       "grid_auto_rows": null,
       "grid_column": null,
       "grid_gap": null,
       "grid_row": null,
       "grid_template_areas": null,
       "grid_template_columns": null,
       "grid_template_rows": null,
       "height": null,
       "justify_content": null,
       "justify_items": null,
       "left": null,
       "margin": null,
       "max_height": null,
       "max_width": null,
       "min_height": null,
       "min_width": null,
       "object_fit": null,
       "object_position": null,
       "order": null,
       "overflow": null,
       "overflow_x": null,
       "overflow_y": null,
       "padding": null,
       "right": null,
       "top": null,
       "visibility": null,
       "width": null
      }
     },
     "93729db1c6024f3e8145273ed0575097": {
      "model_module": "@jupyter-widgets/controls",
      "model_module_version": "1.5.0",
      "model_name": "HBoxModel",
      "state": {
       "_dom_classes": [],
       "_model_module": "@jupyter-widgets/controls",
       "_model_module_version": "1.5.0",
       "_model_name": "HBoxModel",
       "_view_count": null,
       "_view_module": "@jupyter-widgets/controls",
       "_view_module_version": "1.5.0",
       "_view_name": "HBoxView",
       "box_style": "",
       "children": [
        "IPY_MODEL_8969da1e1e034ec0a3146a912b0dff00",
        "IPY_MODEL_49b48cc6b1144a7a96635c36ea663bcf",
        "IPY_MODEL_2ce6fcf223c8485aae9b7064327e5d9b"
       ],
       "layout": "IPY_MODEL_b55178f96c4a4774babc067e3322ee77"
      }
     },
     "9680338507314ad498996ebb57bb488b": {
      "model_module": "@jupyter-widgets/base",
      "model_module_version": "1.2.0",
      "model_name": "LayoutModel",
      "state": {
       "_model_module": "@jupyter-widgets/base",
       "_model_module_version": "1.2.0",
       "_model_name": "LayoutModel",
       "_view_count": null,
       "_view_module": "@jupyter-widgets/base",
       "_view_module_version": "1.2.0",
       "_view_name": "LayoutView",
       "align_content": null,
       "align_items": null,
       "align_self": null,
       "border": null,
       "bottom": null,
       "display": null,
       "flex": null,
       "flex_flow": null,
       "grid_area": null,
       "grid_auto_columns": null,
       "grid_auto_flow": null,
       "grid_auto_rows": null,
       "grid_column": null,
       "grid_gap": null,
       "grid_row": null,
       "grid_template_areas": null,
       "grid_template_columns": null,
       "grid_template_rows": null,
       "height": null,
       "justify_content": null,
       "justify_items": null,
       "left": null,
       "margin": null,
       "max_height": null,
       "max_width": null,
       "min_height": null,
       "min_width": null,
       "object_fit": null,
       "object_position": null,
       "order": null,
       "overflow": null,
       "overflow_x": null,
       "overflow_y": null,
       "padding": null,
       "right": null,
       "top": null,
       "visibility": null,
       "width": null
      }
     },
     "9b7f23058a7341d0a7682fe3659b18cf": {
      "model_module": "@jupyter-widgets/controls",
      "model_module_version": "1.5.0",
      "model_name": "HTMLModel",
      "state": {
       "_dom_classes": [],
       "_model_module": "@jupyter-widgets/controls",
       "_model_module_version": "1.5.0",
       "_model_name": "HTMLModel",
       "_view_count": null,
       "_view_module": "@jupyter-widgets/controls",
       "_view_module_version": "1.5.0",
       "_view_name": "HTMLView",
       "description": "",
       "description_tooltip": null,
       "layout": "IPY_MODEL_7a605a72d243402f9298df7f9feb737a",
       "placeholder": "​",
       "style": "IPY_MODEL_2ea0fdf54f8a42c4b3849857120240c8",
       "value": "Downloading (…)cial_tokens_map.json: 100%"
      }
     },
     "a66ccc80e88d4b71bd8aecdbbb0e9442": {
      "model_module": "@jupyter-widgets/controls",
      "model_module_version": "1.5.0",
      "model_name": "FloatProgressModel",
      "state": {
       "_dom_classes": [],
       "_model_module": "@jupyter-widgets/controls",
       "_model_module_version": "1.5.0",
       "_model_name": "FloatProgressModel",
       "_view_count": null,
       "_view_module": "@jupyter-widgets/controls",
       "_view_module_version": "1.5.0",
       "_view_name": "ProgressView",
       "bar_style": "success",
       "description": "",
       "description_tooltip": null,
       "layout": "IPY_MODEL_325448a82cc24a1b928be49ef15a3416",
       "max": 456318.0,
       "min": 0.0,
       "orientation": "horizontal",
       "style": "IPY_MODEL_fa4fe2508f9f422cbbb9aa2b78f5e9aa",
       "value": 456318.0
      }
     },
     "a9f524750fc44d25a45881513a9b2c0e": {
      "model_module": "@jupyter-widgets/controls",
      "model_module_version": "1.5.0",
      "model_name": "FloatProgressModel",
      "state": {
       "_dom_classes": [],
       "_model_module": "@jupyter-widgets/controls",
       "_model_module_version": "1.5.0",
       "_model_name": "FloatProgressModel",
       "_view_count": null,
       "_view_module": "@jupyter-widgets/controls",
       "_view_module_version": "1.5.0",
       "_view_name": "ProgressView",
       "bar_style": "success",
       "description": "",
       "description_tooltip": null,
       "layout": "IPY_MODEL_256cc3297db448f7b40d657cd77c8a5a",
       "max": 150.0,
       "min": 0.0,
       "orientation": "horizontal",
       "style": "IPY_MODEL_10017bb9318a4822bc9e2e6014408a3b",
       "value": 150.0
      }
     },
     "ac3067e8070247d0bec9a309b6046de5": {
      "model_module": "@jupyter-widgets/base",
      "model_module_version": "1.2.0",
      "model_name": "LayoutModel",
      "state": {
       "_model_module": "@jupyter-widgets/base",
       "_model_module_version": "1.2.0",
       "_model_name": "LayoutModel",
       "_view_count": null,
       "_view_module": "@jupyter-widgets/base",
       "_view_module_version": "1.2.0",
       "_view_name": "LayoutView",
       "align_content": null,
       "align_items": null,
       "align_self": null,
       "border": null,
       "bottom": null,
       "display": null,
       "flex": null,
       "flex_flow": null,
       "grid_area": null,
       "grid_auto_columns": null,
       "grid_auto_flow": null,
       "grid_auto_rows": null,
       "grid_column": null,
       "grid_gap": null,
       "grid_row": null,
       "grid_template_areas": null,
       "grid_template_columns": null,
       "grid_template_rows": null,
       "height": null,
       "justify_content": null,
       "justify_items": null,
       "left": null,
       "margin": null,
       "max_height": null,
       "max_width": null,
       "min_height": null,
       "min_width": null,
       "object_fit": null,
       "object_position": null,
       "order": null,
       "overflow": null,
       "overflow_x": null,
       "overflow_y": null,
       "padding": null,
       "right": null,
       "top": null,
       "visibility": null,
       "width": null
      }
     },
     "af27d5d450834f0f9756bdb05bb99c99": {
      "model_module": "@jupyter-widgets/base",
      "model_module_version": "1.2.0",
      "model_name": "LayoutModel",
      "state": {
       "_model_module": "@jupyter-widgets/base",
       "_model_module_version": "1.2.0",
       "_model_name": "LayoutModel",
       "_view_count": null,
       "_view_module": "@jupyter-widgets/base",
       "_view_module_version": "1.2.0",
       "_view_name": "LayoutView",
       "align_content": null,
       "align_items": null,
       "align_self": null,
       "border": null,
       "bottom": null,
       "display": null,
       "flex": null,
       "flex_flow": null,
       "grid_area": null,
       "grid_auto_columns": null,
       "grid_auto_flow": null,
       "grid_auto_rows": null,
       "grid_column": null,
       "grid_gap": null,
       "grid_row": null,
       "grid_template_areas": null,
       "grid_template_columns": null,
       "grid_template_rows": null,
       "height": null,
       "justify_content": null,
       "justify_items": null,
       "left": null,
       "margin": null,
       "max_height": null,
       "max_width": null,
       "min_height": null,
       "min_width": null,
       "object_fit": null,
       "object_position": null,
       "order": null,
       "overflow": null,
       "overflow_x": null,
       "overflow_y": null,
       "padding": null,
       "right": null,
       "top": null,
       "visibility": null,
       "width": null
      }
     },
     "afd8211b65a044c887e92cacbd10f70f": {
      "model_module": "@jupyter-widgets/base",
      "model_module_version": "1.2.0",
      "model_name": "LayoutModel",
      "state": {
       "_model_module": "@jupyter-widgets/base",
       "_model_module_version": "1.2.0",
       "_model_name": "LayoutModel",
       "_view_count": null,
       "_view_module": "@jupyter-widgets/base",
       "_view_module_version": "1.2.0",
       "_view_name": "LayoutView",
       "align_content": null,
       "align_items": null,
       "align_self": null,
       "border": null,
       "bottom": null,
       "display": null,
       "flex": null,
       "flex_flow": null,
       "grid_area": null,
       "grid_auto_columns": null,
       "grid_auto_flow": null,
       "grid_auto_rows": null,
       "grid_column": null,
       "grid_gap": null,
       "grid_row": null,
       "grid_template_areas": null,
       "grid_template_columns": null,
       "grid_template_rows": null,
       "height": null,
       "justify_content": null,
       "justify_items": null,
       "left": null,
       "margin": null,
       "max_height": null,
       "max_width": null,
       "min_height": null,
       "min_width": null,
       "object_fit": null,
       "object_position": null,
       "order": null,
       "overflow": null,
       "overflow_x": null,
       "overflow_y": null,
       "padding": null,
       "right": null,
       "top": null,
       "visibility": null,
       "width": null
      }
     },
     "b4b2c4d7d5444ce7b3b2be812637583c": {
      "model_module": "@jupyter-widgets/controls",
      "model_module_version": "1.5.0",
      "model_name": "FloatProgressModel",
      "state": {
       "_dom_classes": [],
       "_model_module": "@jupyter-widgets/controls",
       "_model_module_version": "1.5.0",
       "_model_name": "FloatProgressModel",
       "_view_count": null,
       "_view_module": "@jupyter-widgets/controls",
       "_view_module_version": "1.5.0",
       "_view_name": "ProgressView",
       "bar_style": "success",
       "description": "",
       "description_tooltip": null,
       "layout": "IPY_MODEL_ac3067e8070247d0bec9a309b6046de5",
       "max": 898822.0,
       "min": 0.0,
       "orientation": "horizontal",
       "style": "IPY_MODEL_1291841596384b6d9a6492f5143e03e0",
       "value": 898822.0
      }
     },
     "b55178f96c4a4774babc067e3322ee77": {
      "model_module": "@jupyter-widgets/base",
      "model_module_version": "1.2.0",
      "model_name": "LayoutModel",
      "state": {
       "_model_module": "@jupyter-widgets/base",
       "_model_module_version": "1.2.0",
       "_model_name": "LayoutModel",
       "_view_count": null,
       "_view_module": "@jupyter-widgets/base",
       "_view_module_version": "1.2.0",
       "_view_name": "LayoutView",
       "align_content": null,
       "align_items": null,
       "align_self": null,
       "border": null,
       "bottom": null,
       "display": null,
       "flex": null,
       "flex_flow": null,
       "grid_area": null,
       "grid_auto_columns": null,
       "grid_auto_flow": null,
       "grid_auto_rows": null,
       "grid_column": null,
       "grid_gap": null,
       "grid_row": null,
       "grid_template_areas": null,
       "grid_template_columns": null,
       "grid_template_rows": null,
       "height": null,
       "justify_content": null,
       "justify_items": null,
       "left": null,
       "margin": null,
       "max_height": null,
       "max_width": null,
       "min_height": null,
       "min_width": null,
       "object_fit": null,
       "object_position": null,
       "order": null,
       "overflow": null,
       "overflow_x": null,
       "overflow_y": null,
       "padding": null,
       "right": null,
       "top": null,
       "visibility": null,
       "width": null
      }
     },
     "c25789e7783f411ba546e2fed8d8f7c8": {
      "model_module": "@jupyter-widgets/base",
      "model_module_version": "1.2.0",
      "model_name": "LayoutModel",
      "state": {
       "_model_module": "@jupyter-widgets/base",
       "_model_module_version": "1.2.0",
       "_model_name": "LayoutModel",
       "_view_count": null,
       "_view_module": "@jupyter-widgets/base",
       "_view_module_version": "1.2.0",
       "_view_name": "LayoutView",
       "align_content": null,
       "align_items": null,
       "align_self": null,
       "border": null,
       "bottom": null,
       "display": null,
       "flex": null,
       "flex_flow": null,
       "grid_area": null,
       "grid_auto_columns": null,
       "grid_auto_flow": null,
       "grid_auto_rows": null,
       "grid_column": null,
       "grid_gap": null,
       "grid_row": null,
       "grid_template_areas": null,
       "grid_template_columns": null,
       "grid_template_rows": null,
       "height": null,
       "justify_content": null,
       "justify_items": null,
       "left": null,
       "margin": null,
       "max_height": null,
       "max_width": null,
       "min_height": null,
       "min_width": null,
       "object_fit": null,
       "object_position": null,
       "order": null,
       "overflow": null,
       "overflow_x": null,
       "overflow_y": null,
       "padding": null,
       "right": null,
       "top": null,
       "visibility": null,
       "width": null
      }
     },
     "c2ebf2e8b1434deeb0581eb79afdfd53": {
      "model_module": "@jupyter-widgets/controls",
      "model_module_version": "1.5.0",
      "model_name": "DescriptionStyleModel",
      "state": {
       "_model_module": "@jupyter-widgets/controls",
       "_model_module_version": "1.5.0",
       "_model_name": "DescriptionStyleModel",
       "_view_count": null,
       "_view_module": "@jupyter-widgets/base",
       "_view_module_version": "1.2.0",
       "_view_name": "StyleView",
       "description_width": ""
      }
     },
     "c73aaf1673fc4fdd90a22801638d31cf": {
      "model_module": "@jupyter-widgets/controls",
      "model_module_version": "1.5.0",
      "model_name": "ProgressStyleModel",
      "state": {
       "_model_module": "@jupyter-widgets/controls",
       "_model_module_version": "1.5.0",
       "_model_name": "ProgressStyleModel",
       "_view_count": null,
       "_view_module": "@jupyter-widgets/base",
       "_view_module_version": "1.2.0",
       "_view_name": "StyleView",
       "bar_color": null,
       "description_width": ""
      }
     },
     "cc07da802e2f446c89ef5db0817ff974": {
      "model_module": "@jupyter-widgets/controls",
      "model_module_version": "1.5.0",
      "model_name": "HTMLModel",
      "state": {
       "_dom_classes": [],
       "_model_module": "@jupyter-widgets/controls",
       "_model_module_version": "1.5.0",
       "_model_name": "HTMLModel",
       "_view_count": null,
       "_view_module": "@jupyter-widgets/controls",
       "_view_module_version": "1.5.0",
       "_view_name": "HTMLView",
       "description": "",
       "description_tooltip": null,
       "layout": "IPY_MODEL_1cd5c99f481147a6a0580926aaf5e133",
       "placeholder": "​",
       "style": "IPY_MODEL_3e61cc7209e648f3a55ce2a7b97b6f0c",
       "value": "100%"
      }
     },
     "d9dba5be861a424e9d88143d71fd50d2": {
      "model_module": "@jupyter-widgets/controls",
      "model_module_version": "1.5.0",
      "model_name": "DescriptionStyleModel",
      "state": {
       "_model_module": "@jupyter-widgets/controls",
       "_model_module_version": "1.5.0",
       "_model_name": "DescriptionStyleModel",
       "_view_count": null,
       "_view_module": "@jupyter-widgets/base",
       "_view_module_version": "1.2.0",
       "_view_name": "StyleView",
       "description_width": ""
      }
     },
     "da4af29eea7a4f54a890d929a9cf6c6d": {
      "model_module": "@jupyter-widgets/controls",
      "model_module_version": "1.5.0",
      "model_name": "HTMLModel",
      "state": {
       "_dom_classes": [],
       "_model_module": "@jupyter-widgets/controls",
       "_model_module_version": "1.5.0",
       "_model_name": "HTMLModel",
       "_view_count": null,
       "_view_module": "@jupyter-widgets/controls",
       "_view_module_version": "1.5.0",
       "_view_name": "HTMLView",
       "description": "",
       "description_tooltip": null,
       "layout": "IPY_MODEL_6ddcca39a34647f699a2dc14b475a29a",
       "placeholder": "​",
       "style": "IPY_MODEL_fdb7a132da474910a62e011a6fc9b990",
       "value": " 499M/499M [00:02&lt;00:00, 204MB/s]"
      }
     },
     "dd9e2925e2334fde8196ac1a8eb4904c": {
      "model_module": "@jupyter-widgets/controls",
      "model_module_version": "1.5.0",
      "model_name": "HBoxModel",
      "state": {
       "_dom_classes": [],
       "_model_module": "@jupyter-widgets/controls",
       "_model_module_version": "1.5.0",
       "_model_name": "HBoxModel",
       "_view_count": null,
       "_view_module": "@jupyter-widgets/controls",
       "_view_module_version": "1.5.0",
       "_view_name": "HBoxView",
       "box_style": "",
       "children": [
        "IPY_MODEL_7f677f0a669e4f7f95c038fd63719946",
        "IPY_MODEL_b4b2c4d7d5444ce7b3b2be812637583c",
        "IPY_MODEL_6768b749e3a344888480b7bfecaa52ab"
       ],
       "layout": "IPY_MODEL_49ceeeba795b4de2a7ac1d3202825d50"
      }
     },
     "e265d927d80844db9a89dff320668cb7": {
      "model_module": "@jupyter-widgets/base",
      "model_module_version": "1.2.0",
      "model_name": "LayoutModel",
      "state": {
       "_model_module": "@jupyter-widgets/base",
       "_model_module_version": "1.2.0",
       "_model_name": "LayoutModel",
       "_view_count": null,
       "_view_module": "@jupyter-widgets/base",
       "_view_module_version": "1.2.0",
       "_view_name": "LayoutView",
       "align_content": null,
       "align_items": null,
       "align_self": null,
       "border": null,
       "bottom": null,
       "display": null,
       "flex": null,
       "flex_flow": null,
       "grid_area": null,
       "grid_auto_columns": null,
       "grid_auto_flow": null,
       "grid_auto_rows": null,
       "grid_column": null,
       "grid_gap": null,
       "grid_row": null,
       "grid_template_areas": null,
       "grid_template_columns": null,
       "grid_template_rows": null,
       "height": null,
       "justify_content": null,
       "justify_items": null,
       "left": null,
       "margin": null,
       "max_height": null,
       "max_width": null,
       "min_height": null,
       "min_width": null,
       "object_fit": null,
       "object_position": null,
       "order": null,
       "overflow": null,
       "overflow_x": null,
       "overflow_y": null,
       "padding": null,
       "right": null,
       "top": null,
       "visibility": null,
       "width": null
      }
     },
     "eb12a70840704b02be0422823f5f0e16": {
      "model_module": "@jupyter-widgets/base",
      "model_module_version": "1.2.0",
      "model_name": "LayoutModel",
      "state": {
       "_model_module": "@jupyter-widgets/base",
       "_model_module_version": "1.2.0",
       "_model_name": "LayoutModel",
       "_view_count": null,
       "_view_module": "@jupyter-widgets/base",
       "_view_module_version": "1.2.0",
       "_view_name": "LayoutView",
       "align_content": null,
       "align_items": null,
       "align_self": null,
       "border": null,
       "bottom": null,
       "display": null,
       "flex": null,
       "flex_flow": null,
       "grid_area": null,
       "grid_auto_columns": null,
       "grid_auto_flow": null,
       "grid_auto_rows": null,
       "grid_column": null,
       "grid_gap": null,
       "grid_row": null,
       "grid_template_areas": null,
       "grid_template_columns": null,
       "grid_template_rows": null,
       "height": null,
       "justify_content": null,
       "justify_items": null,
       "left": null,
       "margin": null,
       "max_height": null,
       "max_width": null,
       "min_height": null,
       "min_width": null,
       "object_fit": null,
       "object_position": null,
       "order": null,
       "overflow": null,
       "overflow_x": null,
       "overflow_y": null,
       "padding": null,
       "right": null,
       "top": null,
       "visibility": null,
       "width": null
      }
     },
     "f620205a788a4ae28a9ea3dfa244e1b8": {
      "model_module": "@jupyter-widgets/base",
      "model_module_version": "1.2.0",
      "model_name": "LayoutModel",
      "state": {
       "_model_module": "@jupyter-widgets/base",
       "_model_module_version": "1.2.0",
       "_model_name": "LayoutModel",
       "_view_count": null,
       "_view_module": "@jupyter-widgets/base",
       "_view_module_version": "1.2.0",
       "_view_name": "LayoutView",
       "align_content": null,
       "align_items": null,
       "align_self": null,
       "border": null,
       "bottom": null,
       "display": null,
       "flex": null,
       "flex_flow": null,
       "grid_area": null,
       "grid_auto_columns": null,
       "grid_auto_flow": null,
       "grid_auto_rows": null,
       "grid_column": null,
       "grid_gap": null,
       "grid_row": null,
       "grid_template_areas": null,
       "grid_template_columns": null,
       "grid_template_rows": null,
       "height": null,
       "justify_content": null,
       "justify_items": null,
       "left": null,
       "margin": null,
       "max_height": null,
       "max_width": null,
       "min_height": null,
       "min_width": null,
       "object_fit": null,
       "object_position": null,
       "order": null,
       "overflow": null,
       "overflow_x": null,
       "overflow_y": null,
       "padding": null,
       "right": null,
       "top": null,
       "visibility": null,
       "width": null
      }
     },
     "f72a4ea5f92b4886a9789ab8273c9402": {
      "model_module": "@jupyter-widgets/base",
      "model_module_version": "1.2.0",
      "model_name": "LayoutModel",
      "state": {
       "_model_module": "@jupyter-widgets/base",
       "_model_module_version": "1.2.0",
       "_model_name": "LayoutModel",
       "_view_count": null,
       "_view_module": "@jupyter-widgets/base",
       "_view_module_version": "1.2.0",
       "_view_name": "LayoutView",
       "align_content": null,
       "align_items": null,
       "align_self": null,
       "border": null,
       "bottom": null,
       "display": null,
       "flex": null,
       "flex_flow": null,
       "grid_area": null,
       "grid_auto_columns": null,
       "grid_auto_flow": null,
       "grid_auto_rows": null,
       "grid_column": null,
       "grid_gap": null,
       "grid_row": null,
       "grid_template_areas": null,
       "grid_template_columns": null,
       "grid_template_rows": null,
       "height": null,
       "justify_content": null,
       "justify_items": null,
       "left": null,
       "margin": null,
       "max_height": null,
       "max_width": null,
       "min_height": null,
       "min_width": null,
       "object_fit": null,
       "object_position": null,
       "order": null,
       "overflow": null,
       "overflow_x": null,
       "overflow_y": null,
       "padding": null,
       "right": null,
       "top": null,
       "visibility": null,
       "width": null
      }
     },
     "f97272abca86458a9aef39d66c854e3c": {
      "model_module": "@jupyter-widgets/base",
      "model_module_version": "1.2.0",
      "model_name": "LayoutModel",
      "state": {
       "_model_module": "@jupyter-widgets/base",
       "_model_module_version": "1.2.0",
       "_model_name": "LayoutModel",
       "_view_count": null,
       "_view_module": "@jupyter-widgets/base",
       "_view_module_version": "1.2.0",
       "_view_name": "LayoutView",
       "align_content": null,
       "align_items": null,
       "align_self": null,
       "border": null,
       "bottom": null,
       "display": null,
       "flex": null,
       "flex_flow": null,
       "grid_area": null,
       "grid_auto_columns": null,
       "grid_auto_flow": null,
       "grid_auto_rows": null,
       "grid_column": null,
       "grid_gap": null,
       "grid_row": null,
       "grid_template_areas": null,
       "grid_template_columns": null,
       "grid_template_rows": null,
       "height": null,
       "justify_content": null,
       "justify_items": null,
       "left": null,
       "margin": null,
       "max_height": null,
       "max_width": null,
       "min_height": null,
       "min_width": null,
       "object_fit": null,
       "object_position": null,
       "order": null,
       "overflow": null,
       "overflow_x": null,
       "overflow_y": null,
       "padding": null,
       "right": null,
       "top": null,
       "visibility": null,
       "width": null
      }
     },
     "fa392a4c54ba4e62b0613cce55765502": {
      "model_module": "@jupyter-widgets/controls",
      "model_module_version": "1.5.0",
      "model_name": "DescriptionStyleModel",
      "state": {
       "_model_module": "@jupyter-widgets/controls",
       "_model_module_version": "1.5.0",
       "_model_name": "DescriptionStyleModel",
       "_view_count": null,
       "_view_module": "@jupyter-widgets/base",
       "_view_module_version": "1.2.0",
       "_view_name": "StyleView",
       "description_width": ""
      }
     },
     "fa4fe2508f9f422cbbb9aa2b78f5e9aa": {
      "model_module": "@jupyter-widgets/controls",
      "model_module_version": "1.5.0",
      "model_name": "ProgressStyleModel",
      "state": {
       "_model_module": "@jupyter-widgets/controls",
       "_model_module_version": "1.5.0",
       "_model_name": "ProgressStyleModel",
       "_view_count": null,
       "_view_module": "@jupyter-widgets/base",
       "_view_module_version": "1.2.0",
       "_view_name": "StyleView",
       "bar_color": null,
       "description_width": ""
      }
     },
     "fdb7a132da474910a62e011a6fc9b990": {
      "model_module": "@jupyter-widgets/controls",
      "model_module_version": "1.5.0",
      "model_name": "DescriptionStyleModel",
      "state": {
       "_model_module": "@jupyter-widgets/controls",
       "_model_module_version": "1.5.0",
       "_model_name": "DescriptionStyleModel",
       "_view_count": null,
       "_view_module": "@jupyter-widgets/base",
       "_view_module_version": "1.2.0",
       "_view_name": "StyleView",
       "description_width": ""
      }
     },
     "ff1dd7c0e3de4b17bf706f199871c6db": {
      "model_module": "@jupyter-widgets/controls",
      "model_module_version": "1.5.0",
      "model_name": "ProgressStyleModel",
      "state": {
       "_model_module": "@jupyter-widgets/controls",
       "_model_module_version": "1.5.0",
       "_model_name": "ProgressStyleModel",
       "_view_count": null,
       "_view_module": "@jupyter-widgets/base",
       "_view_module_version": "1.2.0",
       "_view_name": "StyleView",
       "bar_color": null,
       "description_width": ""
      }
     }
    },
    "version_major": 2,
    "version_minor": 0
   }
  }
 },
 "nbformat": 4,
 "nbformat_minor": 5
}
