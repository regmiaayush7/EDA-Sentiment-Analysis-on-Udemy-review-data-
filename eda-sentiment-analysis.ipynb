{
 "cells": [
  {
   "cell_type": "code",
   "execution_count": 1,
   "id": "b7b7bf55",
   "metadata": {
    "_cell_guid": "68c41a66-e0fd-4286-99e5-3e362bd72659",
    "_uuid": "ffda22d1-3645-436c-8128-3cc520348915",
    "collapsed": false,
    "execution": {
     "iopub.execute_input": "2023-04-09T19:16:33.522522Z",
     "iopub.status.busy": "2023-04-09T19:16:33.521215Z",
     "iopub.status.idle": "2023-04-09T19:16:35.314211Z",
     "shell.execute_reply": "2023-04-09T19:16:35.313022Z"
    },
    "jupyter": {
     "outputs_hidden": false
    },
    "papermill": {
     "duration": 1.809032,
     "end_time": "2023-04-09T19:16:35.317248",
     "exception": false,
     "start_time": "2023-04-09T19:16:33.508216",
     "status": "completed"
    },
    "tags": []
   },
   "outputs": [],
   "source": [
    "import pandas as pd\n",
    "import numpy as np \n",
    "import matplotlib.pyplot as plt\n",
    "import seaborn as sns \n",
    "\n",
    "plt.style.use('ggplot')\n",
    "\n",
    "import nltk"
   ]
  },
  {
   "cell_type": "code",
   "execution_count": 2,
   "id": "3f8a2876",
   "metadata": {
    "_cell_guid": "03d78913-72b7-4605-9ba9-759fa95caae3",
    "_uuid": "765c8972-d38d-4870-9c90-c51474e7de0b",
    "collapsed": false,
    "execution": {
     "iopub.execute_input": "2023-04-09T19:16:35.338547Z",
     "iopub.status.busy": "2023-04-09T19:16:35.337823Z",
     "iopub.status.idle": "2023-04-09T19:16:41.950167Z",
     "shell.execute_reply": "2023-04-09T19:16:41.949017Z"
    },
    "jupyter": {
     "outputs_hidden": false
    },
    "papermill": {
     "duration": 6.626441,
     "end_time": "2023-04-09T19:16:41.953463",
     "exception": false,
     "start_time": "2023-04-09T19:16:35.327022",
     "status": "completed"
    },
    "tags": []
   },
   "outputs": [],
   "source": [
    "#Read the Dataset \n",
    "df = pd.read_excel('/kaggle/input/udemy-review/Udemy review.xlsx')"
   ]
  },
  {
   "cell_type": "code",
   "execution_count": 3,
   "id": "6685cc74",
   "metadata": {
    "_cell_guid": "9d92af43-8987-4856-9493-72dd394a00ff",
    "_uuid": "0dffc662-b526-4e8b-ae43-73604470ec4b",
    "collapsed": false,
    "execution": {
     "iopub.execute_input": "2023-04-09T19:16:41.975601Z",
     "iopub.status.busy": "2023-04-09T19:16:41.974992Z",
     "iopub.status.idle": "2023-04-09T19:16:42.008658Z",
     "shell.execute_reply": "2023-04-09T19:16:42.007312Z"
    },
    "jupyter": {
     "outputs_hidden": false
    },
    "papermill": {
     "duration": 0.048091,
     "end_time": "2023-04-09T19:16:42.011843",
     "exception": false,
     "start_time": "2023-04-09T19:16:41.963752",
     "status": "completed"
    },
    "tags": []
   },
   "outputs": [
    {
     "data": {
      "text/html": [
       "<div>\n",
       "<style scoped>\n",
       "    .dataframe tbody tr th:only-of-type {\n",
       "        vertical-align: middle;\n",
       "    }\n",
       "\n",
       "    .dataframe tbody tr th {\n",
       "        vertical-align: top;\n",
       "    }\n",
       "\n",
       "    .dataframe thead th {\n",
       "        text-align: right;\n",
       "    }\n",
       "</style>\n",
       "<table border=\"1\" class=\"dataframe\">\n",
       "  <thead>\n",
       "    <tr style=\"text-align: right;\">\n",
       "      <th></th>\n",
       "      <th>course_id</th>\n",
       "      <th>review_id</th>\n",
       "      <th>review_title</th>\n",
       "      <th>review_content</th>\n",
       "      <th>review_rating</th>\n",
       "      <th>review_created</th>\n",
       "      <th>review_modified</th>\n",
       "    </tr>\n",
       "  </thead>\n",
       "  <tbody>\n",
       "    <tr>\n",
       "      <th>0</th>\n",
       "      <td>3701752</td>\n",
       "      <td>95068444</td>\n",
       "      <td>NaN</td>\n",
       "      <td>NaN</td>\n",
       "      <td>5.0</td>\n",
       "      <td>2021-09-09T14:56:26Z</td>\n",
       "      <td>2021-09-10T16:03:43Z</td>\n",
       "    </tr>\n",
       "    <tr>\n",
       "      <th>1</th>\n",
       "      <td>3701752</td>\n",
       "      <td>78858128</td>\n",
       "      <td>NaN</td>\n",
       "      <td>NaN</td>\n",
       "      <td>5.0</td>\n",
       "      <td>2021-02-27T09:25:46Z</td>\n",
       "      <td>2021-02-28T19:08:43Z</td>\n",
       "    </tr>\n",
       "    <tr>\n",
       "      <th>2</th>\n",
       "      <td>3701752</td>\n",
       "      <td>73928174</td>\n",
       "      <td>NaN</td>\n",
       "      <td>NaN</td>\n",
       "      <td>5.0</td>\n",
       "      <td>2020-12-30T05:38:34Z</td>\n",
       "      <td>2020-12-31T15:06:33Z</td>\n",
       "    </tr>\n",
       "    <tr>\n",
       "      <th>3</th>\n",
       "      <td>3701752</td>\n",
       "      <td>73551404</td>\n",
       "      <td>NaN</td>\n",
       "      <td>NaN</td>\n",
       "      <td>5.0</td>\n",
       "      <td>2020-12-25T10:40:56Z</td>\n",
       "      <td>2020-12-26T15:06:34Z</td>\n",
       "    </tr>\n",
       "    <tr>\n",
       "      <th>4</th>\n",
       "      <td>3702930</td>\n",
       "      <td>91764932</td>\n",
       "      <td>NaN</td>\n",
       "      <td>NaN</td>\n",
       "      <td>4.0</td>\n",
       "      <td>2021-07-31T18:37:57Z</td>\n",
       "      <td>2021-08-01T16:06:37Z</td>\n",
       "    </tr>\n",
       "  </tbody>\n",
       "</table>\n",
       "</div>"
      ],
      "text/plain": [
       "   course_id  review_id  review_title review_content  review_rating  \\\n",
       "0    3701752   95068444           NaN            NaN            5.0   \n",
       "1    3701752   78858128           NaN            NaN            5.0   \n",
       "2    3701752   73928174           NaN            NaN            5.0   \n",
       "3    3701752   73551404           NaN            NaN            5.0   \n",
       "4    3702930   91764932           NaN            NaN            4.0   \n",
       "\n",
       "         review_created       review_modified  \n",
       "0  2021-09-09T14:56:26Z  2021-09-10T16:03:43Z  \n",
       "1  2021-02-27T09:25:46Z  2021-02-28T19:08:43Z  \n",
       "2  2020-12-30T05:38:34Z  2020-12-31T15:06:33Z  \n",
       "3  2020-12-25T10:40:56Z  2020-12-26T15:06:34Z  \n",
       "4  2021-07-31T18:37:57Z  2021-08-01T16:06:37Z  "
      ]
     },
     "execution_count": 3,
     "metadata": {},
     "output_type": "execute_result"
    }
   ],
   "source": [
    "df.head()"
   ]
  },
  {
   "cell_type": "code",
   "execution_count": 4,
   "id": "4e13fd63",
   "metadata": {
    "_cell_guid": "598e5e93-4cf4-41d2-8771-c44fb0b67f0d",
    "_uuid": "d9138c26-9b15-4638-bbf5-28e420e64fca",
    "collapsed": false,
    "execution": {
     "iopub.execute_input": "2023-04-09T19:16:42.034637Z",
     "iopub.status.busy": "2023-04-09T19:16:42.033448Z",
     "iopub.status.idle": "2023-04-09T19:16:42.041445Z",
     "shell.execute_reply": "2023-04-09T19:16:42.040035Z"
    },
    "jupyter": {
     "outputs_hidden": false
    },
    "papermill": {
     "duration": 0.022334,
     "end_time": "2023-04-09T19:16:42.044234",
     "exception": false,
     "start_time": "2023-04-09T19:16:42.021900",
     "status": "completed"
    },
    "tags": []
   },
   "outputs": [
    {
     "name": "stdout",
     "output_type": "stream",
     "text": [
      "(58408, 7)\n"
     ]
    }
   ],
   "source": [
    "print(df.shape)"
   ]
  },
  {
   "cell_type": "code",
   "execution_count": 5,
   "id": "0d61e298",
   "metadata": {
    "_cell_guid": "d5f8ca60-175b-4141-8965-c562d00e9b78",
    "_uuid": "7e00a00c-d44b-49eb-952b-50dd5b4b7012",
    "collapsed": false,
    "execution": {
     "iopub.execute_input": "2023-04-09T19:16:42.068672Z",
     "iopub.status.busy": "2023-04-09T19:16:42.067409Z",
     "iopub.status.idle": "2023-04-09T19:16:42.104361Z",
     "shell.execute_reply": "2023-04-09T19:16:42.103054Z"
    },
    "jupyter": {
     "outputs_hidden": false
    },
    "papermill": {
     "duration": 0.051541,
     "end_time": "2023-04-09T19:16:42.107287",
     "exception": false,
     "start_time": "2023-04-09T19:16:42.055746",
     "status": "completed"
    },
    "tags": []
   },
   "outputs": [
    {
     "name": "stdout",
     "output_type": "stream",
     "text": [
      "<class 'pandas.core.frame.DataFrame'>\n",
      "RangeIndex: 58408 entries, 0 to 58407\n",
      "Data columns (total 7 columns):\n",
      " #   Column           Non-Null Count  Dtype  \n",
      "---  ------           --------------  -----  \n",
      " 0   course_id        58408 non-null  int64  \n",
      " 1   review_id        58408 non-null  int64  \n",
      " 2   review_title     0 non-null      float64\n",
      " 3   review_content   14504 non-null  object \n",
      " 4   review_rating    58408 non-null  float64\n",
      " 5   review_created   58408 non-null  object \n",
      " 6   review_modified  58408 non-null  object \n",
      "dtypes: float64(2), int64(2), object(3)\n",
      "memory usage: 3.1+ MB\n"
     ]
    }
   ],
   "source": [
    "df.info()"
   ]
  },
  {
   "cell_type": "markdown",
   "id": "41bb1af7",
   "metadata": {
    "_cell_guid": "785db04c-ff70-47bc-aa60-2f7954368bfd",
    "_uuid": "c55b3718-fa59-4be8-8d07-0dbaa937e100",
    "papermill": {
     "duration": 0.009987,
     "end_time": "2023-04-09T19:16:42.128008",
     "exception": false,
     "start_time": "2023-04-09T19:16:42.118021",
     "status": "completed"
    },
    "tags": []
   },
   "source": [
    "## Cleaning Data"
   ]
  },
  {
   "cell_type": "code",
   "execution_count": 6,
   "id": "c4437588",
   "metadata": {
    "_cell_guid": "4f7e46b0-7a0f-499b-8ebe-51878e23bc33",
    "_uuid": "d88d2367-6d2f-42a7-a8a4-ddc791909122",
    "collapsed": false,
    "execution": {
     "iopub.execute_input": "2023-04-09T19:16:42.151580Z",
     "iopub.status.busy": "2023-04-09T19:16:42.150438Z",
     "iopub.status.idle": "2023-04-09T19:16:42.169130Z",
     "shell.execute_reply": "2023-04-09T19:16:42.167885Z"
    },
    "jupyter": {
     "outputs_hidden": false
    },
    "papermill": {
     "duration": 0.03325,
     "end_time": "2023-04-09T19:16:42.171785",
     "exception": false,
     "start_time": "2023-04-09T19:16:42.138535",
     "status": "completed"
    },
    "tags": []
   },
   "outputs": [
    {
     "data": {
      "text/plain": [
       "course_id              0\n",
       "review_id              0\n",
       "review_title       58408\n",
       "review_content     43904\n",
       "review_rating          0\n",
       "review_created         0\n",
       "review_modified        0\n",
       "dtype: int64"
      ]
     },
     "execution_count": 6,
     "metadata": {},
     "output_type": "execute_result"
    }
   ],
   "source": [
    "df.isnull().sum()"
   ]
  },
  {
   "cell_type": "code",
   "execution_count": 7,
   "id": "5ffc198b",
   "metadata": {
    "_cell_guid": "bb3cbc34-da7c-4aa2-8aba-fb60435de8df",
    "_uuid": "ca02bacf-d6c4-4c2e-9d19-fb3865bac0fd",
    "collapsed": false,
    "execution": {
     "iopub.execute_input": "2023-04-09T19:16:42.194373Z",
     "iopub.status.busy": "2023-04-09T19:16:42.193967Z",
     "iopub.status.idle": "2023-04-09T19:16:42.203509Z",
     "shell.execute_reply": "2023-04-09T19:16:42.202377Z"
    },
    "jupyter": {
     "outputs_hidden": false
    },
    "papermill": {
     "duration": 0.023882,
     "end_time": "2023-04-09T19:16:42.206012",
     "exception": false,
     "start_time": "2023-04-09T19:16:42.182130",
     "status": "completed"
    },
    "tags": []
   },
   "outputs": [],
   "source": [
    "df1 = df.drop('review_title', axis=1)"
   ]
  },
  {
   "cell_type": "code",
   "execution_count": 8,
   "id": "6c9465d4",
   "metadata": {
    "_cell_guid": "37a8fbb0-aac2-4a10-9c8d-ed0261af46a0",
    "_uuid": "dd9b1771-547e-4601-a9e5-91de6a97162e",
    "collapsed": false,
    "execution": {
     "iopub.execute_input": "2023-04-09T19:16:42.228301Z",
     "iopub.status.busy": "2023-04-09T19:16:42.227902Z",
     "iopub.status.idle": "2023-04-09T19:16:42.246756Z",
     "shell.execute_reply": "2023-04-09T19:16:42.245419Z"
    },
    "jupyter": {
     "outputs_hidden": false
    },
    "papermill": {
     "duration": 0.033067,
     "end_time": "2023-04-09T19:16:42.249290",
     "exception": false,
     "start_time": "2023-04-09T19:16:42.216223",
     "status": "completed"
    },
    "tags": []
   },
   "outputs": [
    {
     "data": {
      "text/plain": [
       "course_id              0\n",
       "review_id              0\n",
       "review_content     43904\n",
       "review_rating          0\n",
       "review_created         0\n",
       "review_modified        0\n",
       "dtype: int64"
      ]
     },
     "execution_count": 8,
     "metadata": {},
     "output_type": "execute_result"
    }
   ],
   "source": [
    "df1.isnull().sum()"
   ]
  },
  {
   "cell_type": "code",
   "execution_count": 9,
   "id": "6541f099",
   "metadata": {
    "_cell_guid": "a6873e49-0176-4297-ac48-301894c6d8ba",
    "_uuid": "40a5d490-3b8e-402b-bae8-eaeb1119935f",
    "collapsed": false,
    "execution": {
     "iopub.execute_input": "2023-04-09T19:16:42.272487Z",
     "iopub.status.busy": "2023-04-09T19:16:42.271292Z",
     "iopub.status.idle": "2023-04-09T19:16:42.292792Z",
     "shell.execute_reply": "2023-04-09T19:16:42.291210Z"
    },
    "jupyter": {
     "outputs_hidden": false
    },
    "papermill": {
     "duration": 0.036138,
     "end_time": "2023-04-09T19:16:42.295893",
     "exception": false,
     "start_time": "2023-04-09T19:16:42.259755",
     "status": "completed"
    },
    "tags": []
   },
   "outputs": [
    {
     "name": "stdout",
     "output_type": "stream",
     "text": [
      "<class 'pandas.core.frame.DataFrame'>\n",
      "RangeIndex: 58408 entries, 0 to 58407\n",
      "Data columns (total 6 columns):\n",
      " #   Column           Non-Null Count  Dtype  \n",
      "---  ------           --------------  -----  \n",
      " 0   course_id        58408 non-null  int64  \n",
      " 1   review_id        58408 non-null  int64  \n",
      " 2   review_content   14504 non-null  object \n",
      " 3   review_rating    58408 non-null  float64\n",
      " 4   review_created   58408 non-null  object \n",
      " 5   review_modified  58408 non-null  object \n",
      "dtypes: float64(1), int64(2), object(3)\n",
      "memory usage: 2.7+ MB\n"
     ]
    }
   ],
   "source": [
    "df1.info()"
   ]
  },
  {
   "cell_type": "code",
   "execution_count": 10,
   "id": "afe5dfb2",
   "metadata": {
    "_cell_guid": "6cc52383-3c20-4851-ac93-2fec673526e2",
    "_uuid": "7e5db422-d9f3-46f1-9295-265386fc04f3",
    "collapsed": false,
    "execution": {
     "iopub.execute_input": "2023-04-09T19:16:42.320569Z",
     "iopub.status.busy": "2023-04-09T19:16:42.319576Z",
     "iopub.status.idle": "2023-04-09T19:16:42.337761Z",
     "shell.execute_reply": "2023-04-09T19:16:42.336528Z"
    },
    "jupyter": {
     "outputs_hidden": false
    },
    "papermill": {
     "duration": 0.033106,
     "end_time": "2023-04-09T19:16:42.340409",
     "exception": false,
     "start_time": "2023-04-09T19:16:42.307303",
     "status": "completed"
    },
    "tags": []
   },
   "outputs": [],
   "source": [
    "df = df1.dropna()"
   ]
  },
  {
   "cell_type": "code",
   "execution_count": 11,
   "id": "fe381f6c",
   "metadata": {
    "_cell_guid": "9927e793-6ef3-49e3-b5b6-30cbcfa87eeb",
    "_uuid": "9d9a9f7e-2daa-4acb-9f36-b3105d239183",
    "collapsed": false,
    "execution": {
     "iopub.execute_input": "2023-04-09T19:16:42.371229Z",
     "iopub.status.busy": "2023-04-09T19:16:42.370300Z",
     "iopub.status.idle": "2023-04-09T19:16:42.397149Z",
     "shell.execute_reply": "2023-04-09T19:16:42.395487Z"
    },
    "jupyter": {
     "outputs_hidden": false
    },
    "papermill": {
     "duration": 0.048929,
     "end_time": "2023-04-09T19:16:42.400514",
     "exception": false,
     "start_time": "2023-04-09T19:16:42.351585",
     "status": "completed"
    },
    "tags": []
   },
   "outputs": [
    {
     "name": "stdout",
     "output_type": "stream",
     "text": [
      "<class 'pandas.core.frame.DataFrame'>\n",
      "Int64Index: 14504 entries, 15 to 58407\n",
      "Data columns (total 6 columns):\n",
      " #   Column           Non-Null Count  Dtype  \n",
      "---  ------           --------------  -----  \n",
      " 0   course_id        14504 non-null  int64  \n",
      " 1   review_id        14504 non-null  int64  \n",
      " 2   review_content   14504 non-null  object \n",
      " 3   review_rating    14504 non-null  float64\n",
      " 4   review_created   14504 non-null  object \n",
      " 5   review_modified  14504 non-null  object \n",
      "dtypes: float64(1), int64(2), object(3)\n",
      "memory usage: 793.2+ KB\n"
     ]
    }
   ],
   "source": [
    "df.info()"
   ]
  },
  {
   "cell_type": "markdown",
   "id": "e5ec9743",
   "metadata": {
    "_cell_guid": "21951b10-d698-45d4-b910-995434599ff0",
    "_uuid": "c11dfb7f-dfd3-4d76-aac8-9f65d0cffbd8",
    "papermill": {
     "duration": 0.010873,
     "end_time": "2023-04-09T19:16:42.423760",
     "exception": false,
     "start_time": "2023-04-09T19:16:42.412887",
     "status": "completed"
    },
    "tags": []
   },
   "source": [
    "### Quick EDA"
   ]
  },
  {
   "cell_type": "code",
   "execution_count": 12,
   "id": "14e8017b",
   "metadata": {
    "_cell_guid": "43c591a8-5028-4e46-98b5-c6a9973546f6",
    "_uuid": "1d20bc9e-e8e3-41bf-96e0-f3b0786dc007",
    "collapsed": false,
    "execution": {
     "iopub.execute_input": "2023-04-09T19:16:42.448061Z",
     "iopub.status.busy": "2023-04-09T19:16:42.447659Z",
     "iopub.status.idle": "2023-04-09T19:16:42.760358Z",
     "shell.execute_reply": "2023-04-09T19:16:42.759120Z"
    },
    "jupyter": {
     "outputs_hidden": false
    },
    "papermill": {
     "duration": 0.327957,
     "end_time": "2023-04-09T19:16:42.762929",
     "exception": false,
     "start_time": "2023-04-09T19:16:42.434972",
     "status": "completed"
    },
    "tags": []
   },
   "outputs": [
    {
     "data": {
      "text/plain": [
       "Text(0.5, 0, 'Review Stars')"
      ]
     },
     "execution_count": 12,
     "metadata": {},
     "output_type": "execute_result"
    },
    {
     "data": {
      "image/png": "[encoded data removed]",
      "text/plain": [
       "<Figure size 1000x500 with 1 Axes>"
      ]
     },
     "metadata": {},
     "output_type": "display_data"
    }
   ],
   "source": [
    "ax = df['review_rating'].value_counts().sort_index() \\\n",
    ".plot(kind='bar',title='Count of Reviews', figsize=(10,5))\n",
    "ax.set_xlabel('Review Stars')"
   ]
  },
  {
   "cell_type": "markdown",
   "id": "4ebe1384",
   "metadata": {
    "_cell_guid": "6a2e64b5-cc77-499d-b5a3-a30bc751ad53",
    "_uuid": "d9ec50b1-26d5-408d-89de-6ed947065751",
    "papermill": {
     "duration": 0.010907,
     "end_time": "2023-04-09T19:16:42.784823",
     "exception": false,
     "start_time": "2023-04-09T19:16:42.773916",
     "status": "completed"
    },
    "tags": []
   },
   "source": []
  },
  {
   "cell_type": "markdown",
   "id": "7bc76618",
   "metadata": {
    "_cell_guid": "df9cb650-837f-414b-9009-071d47ac33c6",
    "_uuid": "d4033992-19f4-4a55-a52c-98324a65586c",
    "papermill": {
     "duration": 0.010761,
     "end_time": "2023-04-09T19:16:42.806684",
     "exception": false,
     "start_time": "2023-04-09T19:16:42.795923",
     "status": "completed"
    },
    "tags": []
   },
   "source": [
    "## VADER Sentiment Scoring\n",
    "This uses \"bag of words\" approach:\n",
    "\n",
    "\n",
    "1. Stop words are removed\n",
    "\n",
    "2. each word is scored and combined to a total score"
   ]
  },
  {
   "cell_type": "code",
   "execution_count": 13,
   "id": "a539afbc",
   "metadata": {
    "_cell_guid": "097f4ccf-0ee5-44b8-a29b-6a5945e077da",
    "_uuid": "89dd9b96-682b-421d-88ea-a03e220026fb",
    "collapsed": false,
    "execution": {
     "iopub.execute_input": "2023-04-09T19:16:42.831532Z",
     "iopub.status.busy": "2023-04-09T19:16:42.830288Z",
     "iopub.status.idle": "2023-04-09T19:16:42.870332Z",
     "shell.execute_reply": "2023-04-09T19:16:42.869098Z"
    },
    "jupyter": {
     "outputs_hidden": false
    },
    "papermill": {
     "duration": 0.055877,
     "end_time": "2023-04-09T19:16:42.873727",
     "exception": false,
     "start_time": "2023-04-09T19:16:42.817850",
     "status": "completed"
    },
    "tags": []
   },
   "outputs": [
    {
     "name": "stderr",
     "output_type": "stream",
     "text": [
      "/opt/conda/lib/python3.7/site-packages/nltk/twitter/__init__.py:20: UserWarning: The twython library has not been installed. Some functionality from the twitter package will not be available.\n",
      "  warnings.warn(\"The twython library has not been installed. \"\n"
     ]
    }
   ],
   "source": [
    "from nltk.sentiment import SentimentIntensityAnalyzer \n",
    "from tqdm.notebook import tqdm\n",
    "\n",
    "sia =  SentimentIntensityAnalyzer()"
   ]
  },
  {
   "cell_type": "code",
   "execution_count": 14,
   "id": "e6a0a73f",
   "metadata": {
    "_cell_guid": "bad73ad6-d5bb-4739-a18c-d25e43eb1d61",
    "_uuid": "5ad7b3c5-c536-4be7-85e2-6d4da9b91116",
    "collapsed": false,
    "execution": {
     "iopub.execute_input": "2023-04-09T19:16:42.897479Z",
     "iopub.status.busy": "2023-04-09T19:16:42.897046Z",
     "iopub.status.idle": "2023-04-09T19:16:42.904707Z",
     "shell.execute_reply": "2023-04-09T19:16:42.903509Z"
    },
    "jupyter": {
     "outputs_hidden": false
    },
    "papermill": {
     "duration": 0.022441,
     "end_time": "2023-04-09T19:16:42.907136",
     "exception": false,
     "start_time": "2023-04-09T19:16:42.884695",
     "status": "completed"
    },
    "tags": []
   },
   "outputs": [
    {
     "data": {
      "text/plain": [
       "{'neg': 0.0, 'neu': 0.448, 'pos': 0.552, 'compound': 0.5719}"
      ]
     },
     "execution_count": 14,
     "metadata": {},
     "output_type": "execute_result"
    }
   ],
   "source": [
    "sia.polarity_scores('The course was excellent')"
   ]
  },
  {
   "cell_type": "code",
   "execution_count": 15,
   "id": "cdd32dcb",
   "metadata": {
    "_cell_guid": "8b62a341-f57b-4754-aa43-1be2296b237e",
    "_uuid": "a1bf73e8-9d44-4ace-b490-e9c06be71f6e",
    "collapsed": false,
    "execution": {
     "iopub.execute_input": "2023-04-09T19:16:42.931771Z",
     "iopub.status.busy": "2023-04-09T19:16:42.930675Z",
     "iopub.status.idle": "2023-04-09T19:16:48.377588Z",
     "shell.execute_reply": "2023-04-09T19:16:48.376191Z"
    },
    "jupyter": {
     "outputs_hidden": false
    },
    "papermill": {
     "duration": 5.463896,
     "end_time": "2023-04-09T19:16:48.382293",
     "exception": false,
     "start_time": "2023-04-09T19:16:42.918397",
     "status": "completed"
    },
    "tags": []
   },
   "outputs": [
    {
     "data": {
      "application/vnd.jupyter.widget-view+json": {
       "model_id": "0a2bbabee17346c6915dd406457c2f39",
       "version_major": 2,
       "version_minor": 0
      },
      "text/plain": [
       "  0%|          | 0/14504 [00:00<?, ?it/s]"
      ]
     },
     "metadata": {},
     "output_type": "display_data"
    }
   ],
   "source": [
    "#Run the polarity score on the entire dataset \n",
    "res = {}\n",
    "for i, row in tqdm(df.iterrows(), total=len(df)):\n",
    "    text = row['review_content']\n",
    "    course_id = row['course_id']\n",
    "    res[course_id] = sia.polarity_scores(text)"
   ]
  },
  {
   "cell_type": "code",
   "execution_count": 16,
   "id": "08f85f18",
   "metadata": {
    "_cell_guid": "ae84f094-6293-47f0-a3c5-a739e0a843fc",
    "_uuid": "6a39f2fb-edf4-4fe3-929a-bac194bb22ca",
    "collapsed": false,
    "execution": {
     "iopub.execute_input": "2023-04-09T19:16:48.406588Z",
     "iopub.status.busy": "2023-04-09T19:16:48.406076Z",
     "iopub.status.idle": "2023-04-09T19:16:48.429405Z",
     "shell.execute_reply": "2023-04-09T19:16:48.428187Z"
    },
    "jupyter": {
     "outputs_hidden": false
    },
    "papermill": {
     "duration": 0.039,
     "end_time": "2023-04-09T19:16:48.432637",
     "exception": false,
     "start_time": "2023-04-09T19:16:48.393637",
     "status": "completed"
    },
    "tags": []
   },
   "outputs": [],
   "source": [
    "vaders = pd.DataFrame(res).T\n",
    "vaders = vaders.reset_index().rename(columns={'index':'course_id'})\n",
    "vaders = vaders.merge(df, how='left')"
   ]
  },
  {
   "cell_type": "code",
   "execution_count": 17,
   "id": "31082709",
   "metadata": {
    "_cell_guid": "ef127824-b69f-47f0-bdc0-5d95c4b5a5e8",
    "_uuid": "cc370fe5-1448-4738-8831-7dd06fd3886b",
    "collapsed": false,
    "execution": {
     "iopub.execute_input": "2023-04-09T19:16:48.457234Z",
     "iopub.status.busy": "2023-04-09T19:16:48.456868Z",
     "iopub.status.idle": "2023-04-09T19:16:48.482519Z",
     "shell.execute_reply": "2023-04-09T19:16:48.481173Z"
    },
    "jupyter": {
     "outputs_hidden": false
    },
    "papermill": {
     "duration": 0.040504,
     "end_time": "2023-04-09T19:16:48.485241",
     "exception": false,
     "start_time": "2023-04-09T19:16:48.444737",
     "status": "completed"
    },
    "tags": []
   },
   "outputs": [
    {
     "data": {
      "text/html": [
       "<div>\n",
       "<style scoped>\n",
       "    .dataframe tbody tr th:only-of-type {\n",
       "        vertical-align: middle;\n",
       "    }\n",
       "\n",
       "    .dataframe tbody tr th {\n",
       "        vertical-align: top;\n",
       "    }\n",
       "\n",
       "    .dataframe thead th {\n",
       "        text-align: right;\n",
       "    }\n",
       "</style>\n",
       "<table border=\"1\" class=\"dataframe\">\n",
       "  <thead>\n",
       "    <tr style=\"text-align: right;\">\n",
       "      <th></th>\n",
       "      <th>course_id</th>\n",
       "      <th>neg</th>\n",
       "      <th>neu</th>\n",
       "      <th>pos</th>\n",
       "      <th>compound</th>\n",
       "      <th>review_id</th>\n",
       "      <th>review_content</th>\n",
       "      <th>review_rating</th>\n",
       "      <th>review_created</th>\n",
       "      <th>review_modified</th>\n",
       "    </tr>\n",
       "  </thead>\n",
       "  <tbody>\n",
       "    <tr>\n",
       "      <th>0</th>\n",
       "      <td>3703210</td>\n",
       "      <td>0.0</td>\n",
       "      <td>0.176</td>\n",
       "      <td>0.824</td>\n",
       "      <td>0.6892</td>\n",
       "      <td>95368032</td>\n",
       "      <td>Great Course!!</td>\n",
       "      <td>5.0</td>\n",
       "      <td>2021-09-13T21:16:57Z</td>\n",
       "      <td>2021-09-14T16:01:12Z</td>\n",
       "    </tr>\n",
       "    <tr>\n",
       "      <th>1</th>\n",
       "      <td>3703210</td>\n",
       "      <td>0.0</td>\n",
       "      <td>0.176</td>\n",
       "      <td>0.824</td>\n",
       "      <td>0.6892</td>\n",
       "      <td>95368032</td>\n",
       "      <td>Great Course!!</td>\n",
       "      <td>5.0</td>\n",
       "      <td>2021-09-13T21:16:57Z</td>\n",
       "      <td>2021-09-14T16:01:12Z</td>\n",
       "    </tr>\n",
       "    <tr>\n",
       "      <th>2</th>\n",
       "      <td>3703210</td>\n",
       "      <td>0.0</td>\n",
       "      <td>0.176</td>\n",
       "      <td>0.824</td>\n",
       "      <td>0.6892</td>\n",
       "      <td>95368032</td>\n",
       "      <td>Great Course!!</td>\n",
       "      <td>5.0</td>\n",
       "      <td>2021-09-13T21:16:57Z</td>\n",
       "      <td>2021-09-14T16:01:12Z</td>\n",
       "    </tr>\n",
       "    <tr>\n",
       "      <th>3</th>\n",
       "      <td>3703210</td>\n",
       "      <td>0.0</td>\n",
       "      <td>0.176</td>\n",
       "      <td>0.824</td>\n",
       "      <td>0.6892</td>\n",
       "      <td>95368032</td>\n",
       "      <td>Great Course!!</td>\n",
       "      <td>5.0</td>\n",
       "      <td>2021-09-13T21:16:57Z</td>\n",
       "      <td>2021-09-14T16:01:12Z</td>\n",
       "    </tr>\n",
       "    <tr>\n",
       "      <th>4</th>\n",
       "      <td>3703210</td>\n",
       "      <td>0.0</td>\n",
       "      <td>0.176</td>\n",
       "      <td>0.824</td>\n",
       "      <td>0.6892</td>\n",
       "      <td>95368032</td>\n",
       "      <td>Great Course!!</td>\n",
       "      <td>5.0</td>\n",
       "      <td>2021-09-13T21:16:57Z</td>\n",
       "      <td>2021-09-14T16:01:12Z</td>\n",
       "    </tr>\n",
       "    <tr>\n",
       "      <th>...</th>\n",
       "      <td>...</td>\n",
       "      <td>...</td>\n",
       "      <td>...</td>\n",
       "      <td>...</td>\n",
       "      <td>...</td>\n",
       "      <td>...</td>\n",
       "      <td>...</td>\n",
       "      <td>...</td>\n",
       "      <td>...</td>\n",
       "      <td>...</td>\n",
       "    </tr>\n",
       "    <tr>\n",
       "      <th>14499</th>\n",
       "      <td>3684408</td>\n",
       "      <td>0.0</td>\n",
       "      <td>0.577</td>\n",
       "      <td>0.423</td>\n",
       "      <td>0.9368</td>\n",
       "      <td>75740872</td>\n",
       "      <td>This is truly unique and amazing course on dev...</td>\n",
       "      <td>5.0</td>\n",
       "      <td>2021-01-20T02:54:33Z</td>\n",
       "      <td>2021-01-21T15:04:59Z</td>\n",
       "    </tr>\n",
       "    <tr>\n",
       "      <th>14500</th>\n",
       "      <td>3684408</td>\n",
       "      <td>0.0</td>\n",
       "      <td>0.577</td>\n",
       "      <td>0.423</td>\n",
       "      <td>0.9368</td>\n",
       "      <td>76052120</td>\n",
       "      <td>The course is very helpful and in detailed to ...</td>\n",
       "      <td>5.0</td>\n",
       "      <td>2021-01-23T23:36:11Z</td>\n",
       "      <td>2021-01-25T15:05:00Z</td>\n",
       "    </tr>\n",
       "    <tr>\n",
       "      <th>14501</th>\n",
       "      <td>3684408</td>\n",
       "      <td>0.0</td>\n",
       "      <td>0.577</td>\n",
       "      <td>0.423</td>\n",
       "      <td>0.9368</td>\n",
       "      <td>75740872</td>\n",
       "      <td>This is truly unique and amazing course on dev...</td>\n",
       "      <td>5.0</td>\n",
       "      <td>2021-01-20T02:54:33Z</td>\n",
       "      <td>2021-01-21T15:04:59Z</td>\n",
       "    </tr>\n",
       "    <tr>\n",
       "      <th>14502</th>\n",
       "      <td>3684408</td>\n",
       "      <td>0.0</td>\n",
       "      <td>0.577</td>\n",
       "      <td>0.423</td>\n",
       "      <td>0.9368</td>\n",
       "      <td>76052120</td>\n",
       "      <td>The course is very helpful and in detailed to ...</td>\n",
       "      <td>5.0</td>\n",
       "      <td>2021-01-23T23:36:11Z</td>\n",
       "      <td>2021-01-25T15:05:00Z</td>\n",
       "    </tr>\n",
       "    <tr>\n",
       "      <th>14503</th>\n",
       "      <td>3684408</td>\n",
       "      <td>0.0</td>\n",
       "      <td>0.577</td>\n",
       "      <td>0.423</td>\n",
       "      <td>0.9368</td>\n",
       "      <td>75740872</td>\n",
       "      <td>This is truly unique and amazing course on dev...</td>\n",
       "      <td>5.0</td>\n",
       "      <td>2021-01-20T02:54:33Z</td>\n",
       "      <td>2021-01-21T15:04:59Z</td>\n",
       "    </tr>\n",
       "  </tbody>\n",
       "</table>\n",
       "<p>14504 rows × 10 columns</p>\n",
       "</div>"
      ],
      "text/plain": [
       "       course_id  neg    neu    pos  compound  review_id  \\\n",
       "0        3703210  0.0  0.176  0.824    0.6892   95368032   \n",
       "1        3703210  0.0  0.176  0.824    0.6892   95368032   \n",
       "2        3703210  0.0  0.176  0.824    0.6892   95368032   \n",
       "3        3703210  0.0  0.176  0.824    0.6892   95368032   \n",
       "4        3703210  0.0  0.176  0.824    0.6892   95368032   \n",
       "...          ...  ...    ...    ...       ...        ...   \n",
       "14499    3684408  0.0  0.577  0.423    0.9368   75740872   \n",
       "14500    3684408  0.0  0.577  0.423    0.9368   76052120   \n",
       "14501    3684408  0.0  0.577  0.423    0.9368   75740872   \n",
       "14502    3684408  0.0  0.577  0.423    0.9368   76052120   \n",
       "14503    3684408  0.0  0.577  0.423    0.9368   75740872   \n",
       "\n",
       "                                          review_content  review_rating  \\\n",
       "0                                         Great Course!!            5.0   \n",
       "1                                         Great Course!!            5.0   \n",
       "2                                         Great Course!!            5.0   \n",
       "3                                         Great Course!!            5.0   \n",
       "4                                         Great Course!!            5.0   \n",
       "...                                                  ...            ...   \n",
       "14499  This is truly unique and amazing course on dev...            5.0   \n",
       "14500  The course is very helpful and in detailed to ...            5.0   \n",
       "14501  This is truly unique and amazing course on dev...            5.0   \n",
       "14502  The course is very helpful and in detailed to ...            5.0   \n",
       "14503  This is truly unique and amazing course on dev...            5.0   \n",
       "\n",
       "             review_created       review_modified  \n",
       "0      2021-09-13T21:16:57Z  2021-09-14T16:01:12Z  \n",
       "1      2021-09-13T21:16:57Z  2021-09-14T16:01:12Z  \n",
       "2      2021-09-13T21:16:57Z  2021-09-14T16:01:12Z  \n",
       "3      2021-09-13T21:16:57Z  2021-09-14T16:01:12Z  \n",
       "4      2021-09-13T21:16:57Z  2021-09-14T16:01:12Z  \n",
       "...                     ...                   ...  \n",
       "14499  2021-01-20T02:54:33Z  2021-01-21T15:04:59Z  \n",
       "14500  2021-01-23T23:36:11Z  2021-01-25T15:05:00Z  \n",
       "14501  2021-01-20T02:54:33Z  2021-01-21T15:04:59Z  \n",
       "14502  2021-01-23T23:36:11Z  2021-01-25T15:05:00Z  \n",
       "14503  2021-01-20T02:54:33Z  2021-01-21T15:04:59Z  \n",
       "\n",
       "[14504 rows x 10 columns]"
      ]
     },
     "execution_count": 17,
     "metadata": {},
     "output_type": "execute_result"
    }
   ],
   "source": [
    "vaders"
   ]
  },
  {
   "cell_type": "markdown",
   "id": "b065807d",
   "metadata": {
    "_cell_guid": "0c28e927-68cc-4b80-883f-a522c42b4196",
    "_uuid": "3529ee4f-a776-472a-9c34-4f6c92357e29",
    "papermill": {
     "duration": 0.011414,
     "end_time": "2023-04-09T19:16:48.508911",
     "exception": false,
     "start_time": "2023-04-09T19:16:48.497497",
     "status": "completed"
    },
    "tags": []
   },
   "source": [
    "## Plot VADER results"
   ]
  },
  {
   "cell_type": "code",
   "execution_count": 18,
   "id": "640fcf2d",
   "metadata": {
    "_cell_guid": "a76fd20f-82ea-4558-8f57-59238f898d12",
    "_uuid": "7c900f29-5345-40c0-bb70-181d91989f7d",
    "collapsed": false,
    "execution": {
     "iopub.execute_input": "2023-04-09T19:16:48.534290Z",
     "iopub.status.busy": "2023-04-09T19:16:48.533171Z",
     "iopub.status.idle": "2023-04-09T19:16:49.106717Z",
     "shell.execute_reply": "2023-04-09T19:16:49.105411Z"
    },
    "jupyter": {
     "outputs_hidden": false
    },
    "papermill": {
     "duration": 0.588822,
     "end_time": "2023-04-09T19:16:49.109234",
     "exception": false,
     "start_time": "2023-04-09T19:16:48.520412",
     "status": "completed"
    },
    "tags": []
   },
   "outputs": [
    {
     "data": {
      "image/png": "[encoded data removed]",
      "text/plain": [
       "<Figure size 640x480 with 1 Axes>"
      ]
     },
     "metadata": {},
     "output_type": "display_data"
    }
   ],
   "source": [
    "ax = sns.barplot(data=vaders, x='review_rating', y='compound')\n",
    "ax.set_title('Compound Score by Udemy Review Rating')\n",
    "ax.set_xlabel('Review Rating')\n",
    "ax.set_ylabel('Compound Score')\n",
    "plt.show()"
   ]
  },
  {
   "cell_type": "code",
   "execution_count": 19,
   "id": "db88631d",
   "metadata": {
    "_cell_guid": "d6936296-4008-4da2-a3dc-7c2d7e92092b",
    "_uuid": "af20473b-2a9c-4856-8a81-6e50d49fc810",
    "collapsed": false,
    "execution": {
     "iopub.execute_input": "2023-04-09T19:16:49.135119Z",
     "iopub.status.busy": "2023-04-09T19:16:49.134747Z",
     "iopub.status.idle": "2023-04-09T19:16:49.711550Z",
     "shell.execute_reply": "2023-04-09T19:16:49.710309Z"
    },
    "jupyter": {
     "outputs_hidden": false
    },
    "papermill": {
     "duration": 0.592551,
     "end_time": "2023-04-09T19:16:49.714135",
     "exception": false,
     "start_time": "2023-04-09T19:16:49.121584",
     "status": "completed"
    },
    "tags": []
   },
   "outputs": [
    {
     "data": {
      "image/png": "[encoded data removed]",
      "text/plain": [
       "<Figure size 640x480 with 1 Axes>"
      ]
     },
     "metadata": {},
     "output_type": "display_data"
    }
   ],
   "source": [
    "ax = sns.barplot(data=vaders, x = 'review_rating', y = 'pos')\n",
    "ax.set_xlabel('Review Rating')\n",
    "ax.set_ylabel('Positive Rating')\n",
    "ax.set_title('Positive Score by Udemy Review Rating')\n",
    "plt.show()"
   ]
  },
  {
   "cell_type": "code",
   "execution_count": 20,
   "id": "ec747da3",
   "metadata": {
    "_cell_guid": "65d9b963-6b7e-498c-9101-c699dfb4b157",
    "_uuid": "ce161756-6f3a-4058-bb57-96289a6c9d5c",
    "collapsed": false,
    "execution": {
     "iopub.execute_input": "2023-04-09T19:16:49.744423Z",
     "iopub.status.busy": "2023-04-09T19:16:49.743258Z",
     "iopub.status.idle": "2023-04-09T19:16:50.303535Z",
     "shell.execute_reply": "2023-04-09T19:16:50.302371Z"
    },
    "jupyter": {
     "outputs_hidden": false
    },
    "papermill": {
     "duration": 0.579263,
     "end_time": "2023-04-09T19:16:50.306373",
     "exception": false,
     "start_time": "2023-04-09T19:16:49.727110",
     "status": "completed"
    },
    "tags": []
   },
   "outputs": [
    {
     "data": {
      "image/png": "[encoded data removed]",
      "text/plain": [
       "<Figure size 640x480 with 1 Axes>"
      ]
     },
     "metadata": {},
     "output_type": "display_data"
    }
   ],
   "source": [
    "ax = sns.barplot(data=vaders, x = 'review_rating', y = 'neu')\n",
    "ax.set_xlabel('Review Rating')\n",
    "ax.set_ylabel('Neutral Rating')\n",
    "ax.set_title('Neutral Score by Udemy Review Rating')\n",
    "plt.show()"
   ]
  },
  {
   "cell_type": "code",
   "execution_count": 21,
   "id": "78d1ac7d",
   "metadata": {
    "_cell_guid": "0c313ce9-5c3a-4a02-b062-c43161b14aa2",
    "_uuid": "24253bec-a13d-4f41-8ee3-d710d5ef858a",
    "collapsed": false,
    "execution": {
     "iopub.execute_input": "2023-04-09T19:16:50.334884Z",
     "iopub.status.busy": "2023-04-09T19:16:50.334222Z",
     "iopub.status.idle": "2023-04-09T19:16:50.950442Z",
     "shell.execute_reply": "2023-04-09T19:16:50.949264Z"
    },
    "jupyter": {
     "outputs_hidden": false
    },
    "papermill": {
     "duration": 0.632959,
     "end_time": "2023-04-09T19:16:50.952885",
     "exception": false,
     "start_time": "2023-04-09T19:16:50.319926",
     "status": "completed"
    },
    "tags": []
   },
   "outputs": [
    {
     "data": {
      "text/plain": [
       "Text(0.5, 1.0, 'Negetive Score by Review Rating')"
      ]
     },
     "execution_count": 21,
     "metadata": {},
     "output_type": "execute_result"
    },
    {
     "data": {
      "image/png": "[encoded data removed]",
      "text/plain": [
       "<Figure size 640x480 with 1 Axes>"
      ]
     },
     "metadata": {},
     "output_type": "display_data"
    }
   ],
   "source": [
    "ax = sns.barplot(data = vaders, x = 'review_rating', y='neg')\n",
    "ax.set_xlabel(\"Review Rating\")\n",
    "ax.set_ylabel(\"Negetive Rating\")\n",
    "ax.set_title('Negetive Score by Review Rating')"
   ]
  },
  {
   "cell_type": "markdown",
   "id": "ed477ccb",
   "metadata": {
    "_cell_guid": "33d826b8-7b70-4057-836d-7675382e6a20",
    "_uuid": "9cd3fe55-1a72-4572-83fe-6b0791e3f300",
    "papermill": {
     "duration": 0.013607,
     "end_time": "2023-04-09T19:16:50.980807",
     "exception": false,
     "start_time": "2023-04-09T19:16:50.967200",
     "status": "completed"
    },
    "tags": []
   },
   "source": [
    "## All in One plot Positive, Neutral and Negetive reviews"
   ]
  },
  {
   "cell_type": "code",
   "execution_count": 22,
   "id": "7ce32dbc",
   "metadata": {
    "_cell_guid": "0eb63570-f797-4f25-8244-55c0061c2560",
    "_uuid": "f1946798-efef-4c18-a84f-53b7e921321d",
    "collapsed": false,
    "execution": {
     "iopub.execute_input": "2023-04-09T19:16:51.010792Z",
     "iopub.status.busy": "2023-04-09T19:16:51.009630Z",
     "iopub.status.idle": "2023-04-09T19:16:52.732793Z",
     "shell.execute_reply": "2023-04-09T19:16:52.731545Z"
    },
    "jupyter": {
     "outputs_hidden": false
    },
    "papermill": {
     "duration": 1.741219,
     "end_time": "2023-04-09T19:16:52.735721",
     "exception": false,
     "start_time": "2023-04-09T19:16:50.994502",
     "status": "completed"
    },
    "tags": []
   },
   "outputs": [
    {
     "data": {
      "image/png": "[encoded data removed]",
      "text/plain": [
       "<Figure size 1500x500 with 3 Axes>"
      ]
     },
     "metadata": {},
     "output_type": "display_data"
    }
   ],
   "source": [
    "fig, axs = plt.subplots(1,3, figsize=(15,5))\n",
    "sns.barplot(data=vaders, x = 'review_rating', y = 'pos',ax= axs[0] )\n",
    "sns.barplot(data=vaders, x = 'review_rating', y = 'neu', ax= axs[1])\n",
    "sns.barplot(data = vaders, x = 'review_rating', y='neg', ax= axs[2])\n",
    "axs[0].set_xlabel('Review Rating')\n",
    "axs[0].set_ylabel('Positive Rating')\n",
    "axs[0].set_title('Positive Score by Udemy Review Rating')\n",
    "axs[1].set_xlabel('Review Rating')\n",
    "axs[1].set_ylabel('Neutral Rating')\n",
    "axs[1].set_title('Neutral Score by Udemy Review Rating')\n",
    "axs[2].set_xlabel('Review Rating')\n",
    "axs[2].set_ylabel('Negetive Rating')\n",
    "axs[2].set_title('Negetive Score by Udemy Review Rating')\n",
    "plt.tight_layout()\n",
    "plt.show()"
   ]
  },
  {
   "cell_type": "markdown",
   "id": "b36009f2",
   "metadata": {
    "_cell_guid": "2952f00a-a1bf-41d3-98fb-05e65fa4d9de",
    "_uuid": "b91bdc2a-dd00-4780-be16-2cf8c7884bb2",
    "papermill": {
     "duration": 0.014099,
     "end_time": "2023-04-09T19:16:52.764107",
     "exception": false,
     "start_time": "2023-04-09T19:16:52.750008",
     "status": "completed"
    },
    "tags": []
   },
   "source": [
    "## Roberta Pretrained Model"
   ]
  },
  {
   "cell_type": "markdown",
   "id": "72570f63",
   "metadata": {
    "_cell_guid": "76ae46a0-f453-406c-938b-e91da9002e87",
    "_uuid": "d684f695-cbe9-4f6b-a2b7-353fb580e1c5",
    "papermill": {
     "duration": 0.014024,
     "end_time": "2023-04-09T19:16:52.792500",
     "exception": false,
     "start_time": "2023-04-09T19:16:52.778476",
     "status": "completed"
    },
    "tags": []
   },
   "source": [
    "* Use a model trained of a large corpus of data\n",
    "* Transformer model accounts for the words but also the context related to other words"
   ]
  },
  {
   "cell_type": "code",
   "execution_count": 23,
   "id": "071823c2",
   "metadata": {
    "_cell_guid": "b420bdb7-3506-4a0e-88ab-2d07965378bb",
    "_uuid": "47357805-0df2-4fe9-9969-9bdcbf8dfe4b",
    "collapsed": false,
    "execution": {
     "iopub.execute_input": "2023-04-09T19:16:52.824595Z",
     "iopub.status.busy": "2023-04-09T19:16:52.823605Z",
     "iopub.status.idle": "2023-04-09T19:16:54.699651Z",
     "shell.execute_reply": "2023-04-09T19:16:54.698405Z"
    },
    "jupyter": {
     "outputs_hidden": false
    },
    "papermill": {
     "duration": 1.895418,
     "end_time": "2023-04-09T19:16:54.702530",
     "exception": false,
     "start_time": "2023-04-09T19:16:52.807112",
     "status": "completed"
    },
    "tags": []
   },
   "outputs": [],
   "source": [
    "from transformers import AutoTokenizer\n",
    "from transformers import AutoModelForSequenceClassification\n",
    "from scipy.special import softmax"
   ]
  },
  {
   "cell_type": "code",
   "execution_count": 24,
   "id": "430a5218",
   "metadata": {
    "_cell_guid": "86a2e8e4-5ea7-4b85-9beb-d81602c94464",
    "_uuid": "6f9aedce-a6a7-4967-bd10-65a8e014569c",
    "collapsed": false,
    "execution": {
     "iopub.execute_input": "2023-04-09T19:16:54.735248Z",
     "iopub.status.busy": "2023-04-09T19:16:54.733689Z",
     "iopub.status.idle": "2023-04-09T19:17:07.665732Z",
     "shell.execute_reply": "2023-04-09T19:17:07.664379Z"
    },
    "jupyter": {
     "outputs_hidden": false
    },
    "papermill": {
     "duration": 12.95128,
     "end_time": "2023-04-09T19:17:07.668821",
     "exception": false,
     "start_time": "2023-04-09T19:16:54.717541",
     "status": "completed"
    },
    "tags": []
   },
   "outputs": [
    {
     "data": {
      "application/vnd.jupyter.widget-view+json": {
       "model_id": "119dd612e05a4f00a23a03d0adc3a244",
       "version_major": 2,
       "version_minor": 0
      },
      "text/plain": [
       "Downloading (…)lve/main/config.json:   0%|          | 0.00/747 [00:00<?, ?B/s]"
      ]
     },
     "metadata": {},
     "output_type": "display_data"
    },
    {
     "data": {
      "application/vnd.jupyter.widget-view+json": {
       "model_id": "c1a5041488774e97b48997c17c442d2d",
       "version_major": 2,
       "version_minor": 0
      },
      "text/plain": [
       "Downloading (…)olve/main/vocab.json:   0%|          | 0.00/899k [00:00<?, ?B/s]"
      ]
     },
     "metadata": {},
     "output_type": "display_data"
    },
    {
     "data": {
      "application/vnd.jupyter.widget-view+json": {
       "model_id": "53667ae08c034fcebfa2b7685a6463ed",
       "version_major": 2,
       "version_minor": 0
      },
      "text/plain": [
       "Downloading (…)olve/main/merges.txt:   0%|          | 0.00/456k [00:00<?, ?B/s]"
      ]
     },
     "metadata": {},
     "output_type": "display_data"
    },
    {
     "data": {
      "application/vnd.jupyter.widget-view+json": {
       "model_id": "051e947b528c4ed0976f7c70e786a19d",
       "version_major": 2,
       "version_minor": 0
      },
      "text/plain": [
       "Downloading (…)cial_tokens_map.json:   0%|          | 0.00/150 [00:00<?, ?B/s]"
      ]
     },
     "metadata": {},
     "output_type": "display_data"
    },
    {
     "data": {
      "application/vnd.jupyter.widget-view+json": {
       "model_id": "caf806f7e0164ab9ab9950d5ee4e0d17",
       "version_major": 2,
       "version_minor": 0
      },
      "text/plain": [
       "Downloading pytorch_model.bin:   0%|          | 0.00/499M [00:00<?, ?B/s]"
      ]
     },
     "metadata": {},
     "output_type": "display_data"
    }
   ],
   "source": [
    "MODEL = f\"cardiffnlp/twitter-roberta-base-sentiment\"\n",
    "tokenizer = AutoTokenizer.from_pretrained(MODEL)\n",
    "model = AutoModelForSequenceClassification.from_pretrained(MODEL)"
   ]
  },
  {
   "cell_type": "code",
   "execution_count": null,
   "id": "736eeeae",
   "metadata": {
    "_cell_guid": "d10a9418-5c05-43f4-bf68-7f2d314510de",
    "_uuid": "6dcad9fa-16c7-4757-95bd-2590f3b6ecc6",
    "collapsed": false,
    "jupyter": {
     "outputs_hidden": false
    },
    "papermill": {
     "duration": 0.015282,
     "end_time": "2023-04-09T19:17:07.700517",
     "exception": false,
     "start_time": "2023-04-09T19:17:07.685235",
     "status": "completed"
    },
    "tags": []
   },
   "outputs": [],
   "source": []
  },
  {
   "cell_type": "code",
   "execution_count": 25,
   "id": "dcd04ede",
   "metadata": {
    "_cell_guid": "84263d5d-4767-466d-a3af-c28fb6330833",
    "_uuid": "6d9305b8-eb29-4297-a40b-78f764d8d584",
    "collapsed": false,
    "execution": {
     "iopub.execute_input": "2023-04-09T19:17:07.733371Z",
     "iopub.status.busy": "2023-04-09T19:17:07.732931Z",
     "iopub.status.idle": "2023-04-09T19:17:07.740154Z",
     "shell.execute_reply": "2023-04-09T19:17:07.738847Z"
    },
    "jupyter": {
     "outputs_hidden": false
    },
    "papermill": {
     "duration": 0.026682,
     "end_time": "2023-04-09T19:17:07.742648",
     "exception": false,
     "start_time": "2023-04-09T19:17:07.715966",
     "status": "completed"
    },
    "tags": []
   },
   "outputs": [],
   "source": [
    "def polarity_scores_roberta(example):\n",
    "    encoded_text = tokenizer(example, return_tensors='pt')\n",
    "    output = model(**encoded_text)\n",
    "    scores = output[0][0].detach().numpy()\n",
    "    scores = softmax(scores)\n",
    "    scores_dict = {\n",
    "        'roberta_neg' : scores[0],\n",
    "        'roberta_neu' : scores[1],\n",
    "        'roberta_pos' : scores[2]\n",
    "    }\n",
    "    return scores_dict"
   ]
  },
  {
   "cell_type": "code",
   "execution_count": 26,
   "id": "a0d378bc",
   "metadata": {
    "_cell_guid": "a978376a-d52a-4cd5-825f-e666cb8019d1",
    "_uuid": "8e75a1f2-ac25-48ab-b716-98455a0cd466",
    "collapsed": false,
    "execution": {
     "iopub.execute_input": "2023-04-09T19:17:07.775238Z",
     "iopub.status.busy": "2023-04-09T19:17:07.774832Z",
     "iopub.status.idle": "2023-04-09T19:49:12.051666Z",
     "shell.execute_reply": "2023-04-09T19:49:12.050417Z"
    },
    "jupyter": {
     "outputs_hidden": false
    },
    "papermill": {
     "duration": 1924.296063,
     "end_time": "2023-04-09T19:49:12.054207",
     "exception": false,
     "start_time": "2023-04-09T19:17:07.758144",
     "status": "completed"
    },
    "tags": []
   },
   "outputs": [
    {
     "data": {
      "application/vnd.jupyter.widget-view+json": {
       "model_id": "383e17413dc74331a66ad75a14340523",
       "version_major": 2,
       "version_minor": 0
      },
      "text/plain": [
       "  0%|          | 0/14504 [00:00<?, ?it/s]"
      ]
     },
     "metadata": {},
     "output_type": "display_data"
    }
   ],
   "source": [
    "res = {}\n",
    "for i, row in tqdm(df.iterrows(), total=len(df)):\n",
    "        text = row['review_content']\n",
    "        myid = row['course_id']\n",
    "        roberta_result = polarity_scores_roberta(text)\n",
    "        res[myid] = roberta_result"
   ]
  },
  {
   "cell_type": "code",
   "execution_count": 27,
   "id": "97107fc0",
   "metadata": {
    "_cell_guid": "9a5f06e2-3702-49ac-b991-7b65fb6d36a9",
    "_uuid": "d74d3e75-6a3d-4766-856e-b9100c9129a7",
    "collapsed": false,
    "execution": {
     "iopub.execute_input": "2023-04-09T19:49:12.088225Z",
     "iopub.status.busy": "2023-04-09T19:49:12.087218Z",
     "iopub.status.idle": "2023-04-09T19:49:12.126326Z",
     "shell.execute_reply": "2023-04-09T19:49:12.123849Z"
    },
    "jupyter": {
     "outputs_hidden": false
    },
    "papermill": {
     "duration": 0.059222,
     "end_time": "2023-04-09T19:49:12.129271",
     "exception": false,
     "start_time": "2023-04-09T19:49:12.070049",
     "status": "completed"
    },
    "tags": []
   },
   "outputs": [
    {
     "name": "stdout",
     "output_type": "stream",
     "text": [
      "<class 'pandas.core.frame.DataFrame'>\n",
      "Int64Index: 14504 entries, 0 to 14503\n",
      "Data columns (total 9 columns):\n",
      " #   Column           Non-Null Count  Dtype  \n",
      "---  ------           --------------  -----  \n",
      " 0   course_id        14504 non-null  int64  \n",
      " 1   roberta_neg      14504 non-null  float32\n",
      " 2   roberta_neu      14504 non-null  float32\n",
      " 3   roberta_pos      14504 non-null  float32\n",
      " 4   review_id        14504 non-null  int64  \n",
      " 5   review_content   14504 non-null  object \n",
      " 6   review_rating    14504 non-null  float64\n",
      " 7   review_created   14504 non-null  object \n",
      " 8   review_modified  14504 non-null  object \n",
      "dtypes: float32(3), float64(1), int64(2), object(3)\n",
      "memory usage: 963.2+ KB\n"
     ]
    }
   ],
   "source": [
    "results_df = pd.DataFrame(res).T\n",
    "results_df = results_df.reset_index().rename(columns={'index':'course_id'})\n",
    "results_df = results_df.merge(df, how = 'left')\n",
    "results_df.info()"
   ]
  },
  {
   "cell_type": "markdown",
   "id": "af4d924e",
   "metadata": {
    "papermill": {
     "duration": 0.015105,
     "end_time": "2023-04-09T19:49:12.159777",
     "exception": false,
     "start_time": "2023-04-09T19:49:12.144672",
     "status": "completed"
    },
    "tags": []
   },
   "source": [
    "## Plot Reberta Results "
   ]
  },
  {
   "cell_type": "code",
   "execution_count": 28,
   "id": "f4bcce9d",
   "metadata": {
    "_cell_guid": "2fc5a380-1e2d-468a-b293-fddebbd061d6",
    "_uuid": "40116407-0f2a-46db-ab9c-4cee28f12deb",
    "collapsed": false,
    "execution": {
     "iopub.execute_input": "2023-04-09T19:49:12.191474Z",
     "iopub.status.busy": "2023-04-09T19:49:12.191049Z",
     "iopub.status.idle": "2023-04-09T19:49:12.800309Z",
     "shell.execute_reply": "2023-04-09T19:49:12.799156Z"
    },
    "jupyter": {
     "outputs_hidden": false
    },
    "papermill": {
     "duration": 0.627865,
     "end_time": "2023-04-09T19:49:12.802739",
     "exception": false,
     "start_time": "2023-04-09T19:49:12.174874",
     "status": "completed"
    },
    "tags": []
   },
   "outputs": [
    {
     "data": {
      "image/png": "[encoded data removed]",
      "text/plain": [
       "<Figure size 640x480 with 1 Axes>"
      ]
     },
     "metadata": {},
     "output_type": "display_data"
    }
   ],
   "source": [
    "ax = sns.barplot(data=results_df, x = 'review_rating', y = 'roberta_pos')\n",
    "ax.set_xlabel('Review Rating')\n",
    "ax.set_ylabel('Positive Rating')\n",
    "ax.set_title('Positive Score by Udemy Review Rating')\n",
    "plt.show()"
   ]
  },
  {
   "cell_type": "code",
   "execution_count": 29,
   "id": "526a64e4",
   "metadata": {
    "execution": {
     "iopub.execute_input": "2023-04-09T19:49:12.836284Z",
     "iopub.status.busy": "2023-04-09T19:49:12.835412Z",
     "iopub.status.idle": "2023-04-09T19:49:13.446447Z",
     "shell.execute_reply": "2023-04-09T19:49:13.445318Z"
    },
    "papermill": {
     "duration": 0.630938,
     "end_time": "2023-04-09T19:49:13.449035",
     "exception": false,
     "start_time": "2023-04-09T19:49:12.818097",
     "status": "completed"
    },
    "tags": []
   },
   "outputs": [
    {
     "data": {
      "image/png": "[encoded data removed]",
      "text/plain": [
       "<Figure size 640x480 with 1 Axes>"
      ]
     },
     "metadata": {},
     "output_type": "display_data"
    }
   ],
   "source": [
    "ax = sns.barplot(data=results_df, x = 'review_rating', y = 'roberta_neg')\n",
    "ax.set_xlabel('Review Rating')\n",
    "ax.set_ylabel('Positive Rating')\n",
    "ax.set_title('Positive Score by Udemy Review Rating')\n",
    "plt.show()"
   ]
  },
  {
   "cell_type": "code",
   "execution_count": null,
   "id": "d9e2cb0f",
   "metadata": {
    "papermill": {
     "duration": 0.015662,
     "end_time": "2023-04-09T19:49:13.481288",
     "exception": false,
     "start_time": "2023-04-09T19:49:13.465626",
     "status": "completed"
    },
    "tags": []
   },
   "outputs": [],
   "source": []
  }
 ],
 "metadata": {
  "kernelspec": {
   "display_name": "Python 3",
   "language": "python",
   "name": "python3"
  },
  "language_info": {
   "codemirror_mode": {
    "name": "ipython",
    "version": 3
   },
   "file_extension": ".py",
   "mimetype": "text/x-python",
   "name": "python",
   "nbconvert_exporter": "python",
   "pygments_lexer": "ipython3",
   "version": "3.7.12"
  },
  "papermill": {
   "default_parameters": {},
   "duration": 1973.525174,
   "end_time": "2023-04-09T19:49:16.292956",
   "environment_variables": {},
   "exception": null,
   "input_path": "__notebook__.ipynb",
   "output_path": "__notebook__.ipynb",
   "parameters": {},
   "start_time": "2023-04-09T19:16:22.767782",
   "version": "2.4.0"
  },
  "widgets": {
   "application/vnd.jupyter.widget-state+json": {
    "state": {
     "04cbe72b2f29412ba716068b22168e9c": {
      "model_module": "@jupyter-widgets/base",
      "model_module_version": "1.2.0",
      "model_name": "LayoutModel",
      "state": {
       "_model_module": "@jupyter-widgets/base",
       "_model_module_version": "1.2.0",
       "_model_name": "LayoutModel",
       "_view_count": null,
       "_view_module": "@jupyter-widgets/base",
       "_view_module_version": "1.2.0",
       "_view_name": "LayoutView",
       "align_content": null,
       "align_items": null,
       "align_self": null,
       "border": null,
       "bottom": null,
       "display": null,
       "flex": null,
       "flex_flow": null,
       "grid_area": null,
       "grid_auto_columns": null,
       "grid_auto_flow": null,
       "grid_auto_rows": null,
       "grid_column": null,
       "grid_gap": null,
       "grid_row": null,
       "grid_template_areas": null,
       "grid_template_columns": null,
       "grid_template_rows": null,
       "height": null,
       "justify_content": null,
       "justify_items": null,
       "left": null,
       "margin": null,
       "max_height": null,
       "max_width": null,
       "min_height": null,
       "min_width": null,
       "object_fit": null,
       "object_position": null,
       "order": null,
       "overflow": null,
       "overflow_x": null,
       "overflow_y": null,
       "padding": null,
       "right": null,
       "top": null,
       "visibility": null,
       "width": null
      }
     },
     "051e947b528c4ed0976f7c70e786a19d": {
      "model_module": "@jupyter-widgets/controls",
      "model_module_version": "1.5.0",
      "model_name": "HBoxModel",
      "state": {
       "_dom_classes": [],
       "_model_module": "@jupyter-widgets/controls",
       "_model_module_version": "1.5.0",
       "_model_name": "HBoxModel",
       "_view_count": null,
       "_view_module": "@jupyter-widgets/controls",
       "_view_module_version": "1.5.0",
       "_view_name": "HBoxView",
       "box_style": "",
       "children": [
        "IPY_MODEL_11a329c3ef6040c2aae66cda00ab89f2",
        "IPY_MODEL_e64caf8fecb043dc9cff34403d523df2",
        "IPY_MODEL_9723c02f9c454edb82cd55e67756b315"
       ],
       "layout": "IPY_MODEL_d78a733d0c9f4a52bc0e012d317d1048"
      }
     },
     "07f96cab2dbc4883b4899eda63644c0e": {
      "model_module": "@jupyter-widgets/base",
      "model_module_version": "1.2.0",
      "model_name": "LayoutModel",
      "state": {
       "_model_module": "@jupyter-widgets/base",
       "_model_module_version": "1.2.0",
       "_model_name": "LayoutModel",
       "_view_count": null,
       "_view_module": "@jupyter-widgets/base",
       "_view_module_version": "1.2.0",
       "_view_name": "LayoutView",
       "align_content": null,
       "align_items": null,
       "align_self": null,
       "border": null,
       "bottom": null,
       "display": null,
       "flex": null,
       "flex_flow": null,
       "grid_area": null,
       "grid_auto_columns": null,
       "grid_auto_flow": null,
       "grid_auto_rows": null,
       "grid_column": null,
       "grid_gap": null,
       "grid_row": null,
       "grid_template_areas": null,
       "grid_template_columns": null,
       "grid_template_rows": null,
       "height": null,
       "justify_content": null,
       "justify_items": null,
       "left": null,
       "margin": null,
       "max_height": null,
       "max_width": null,
       "min_height": null,
       "min_width": null,
       "object_fit": null,
       "object_position": null,
       "order": null,
       "overflow": null,
       "overflow_x": null,
       "overflow_y": null,
       "padding": null,
       "right": null,
       "top": null,
       "visibility": null,
       "width": null
      }
     },
     "0948a47d0b1f4073ba73c7b7f8e0a343": {
      "model_module": "@jupyter-widgets/controls",
      "model_module_version": "1.5.0",
      "model_name": "ProgressStyleModel",
      "state": {
       "_model_module": "@jupyter-widgets/controls",
       "_model_module_version": "1.5.0",
       "_model_name": "ProgressStyleModel",
       "_view_count": null,
       "_view_module": "@jupyter-widgets/base",
       "_view_module_version": "1.2.0",
       "_view_name": "StyleView",
       "bar_color": null,
       "description_width": ""
      }
     },
     "09a328c7b83743e58a50a384122dd3d2": {
      "model_module": "@jupyter-widgets/controls",
      "model_module_version": "1.5.0",
      "model_name": "HTMLModel",
      "state": {
       "_dom_classes": [],
       "_model_module": "@jupyter-widgets/controls",
       "_model_module_version": "1.5.0",
       "_model_name": "HTMLModel",
       "_view_count": null,
       "_view_module": "@jupyter-widgets/controls",
       "_view_module_version": "1.5.0",
       "_view_name": "HTMLView",
       "description": "",
       "description_tooltip": null,
       "layout": "IPY_MODEL_e878f2b457a44a3abfeace71eab4d42e",
       "placeholder": "​",
       "style": "IPY_MODEL_2700d2f9d9574208a17d05af237139c4",
       "value": " 14504/14504 [00:05&lt;00:00, 2654.02it/s]"
      }
     },
     "0a2bbabee17346c6915dd406457c2f39": {
      "model_module": "@jupyter-widgets/controls",
      "model_module_version": "1.5.0",
      "model_name": "HBoxModel",
      "state": {
       "_dom_classes": [],
       "_model_module": "@jupyter-widgets/controls",
       "_model_module_version": "1.5.0",
       "_model_name": "HBoxModel",
       "_view_count": null,
       "_view_module": "@jupyter-widgets/controls",
       "_view_module_version": "1.5.0",
       "_view_name": "HBoxView",
       "box_style": "",
       "children": [
        "IPY_MODEL_39845524d22741f99daf00f61a2de99a",
        "IPY_MODEL_411531f7018145ed986ca768c6322252",
        "IPY_MODEL_09a328c7b83743e58a50a384122dd3d2"
       ],
       "layout": "IPY_MODEL_78722dd1e1094b4fb45352020904cbab"
      }
     },
     "0db8486a866d4fa9ade7458281f64e26": {
      "model_module": "@jupyter-widgets/controls",
      "model_module_version": "1.5.0",
      "model_name": "ProgressStyleModel",
      "state": {
       "_model_module": "@jupyter-widgets/controls",
       "_model_module_version": "1.5.0",
       "_model_name": "ProgressStyleModel",
       "_view_count": null,
       "_view_module": "@jupyter-widgets/base",
       "_view_module_version": "1.2.0",
       "_view_name": "StyleView",
       "bar_color": null,
       "description_width": ""
      }
     },
     "0e0a467c775541bc95c5a75b6c6e6403": {
      "model_module": "@jupyter-widgets/controls",
      "model_module_version": "1.5.0",
      "model_name": "DescriptionStyleModel",
      "state": {
       "_model_module": "@jupyter-widgets/controls",
       "_model_module_version": "1.5.0",
       "_model_name": "DescriptionStyleModel",
       "_view_count": null,
       "_view_module": "@jupyter-widgets/base",
       "_view_module_version": "1.2.0",
       "_view_name": "StyleView",
       "description_width": ""
      }
     },
     "105092662e6543ecb2f35d9a180b7fe2": {
      "model_module": "@jupyter-widgets/controls",
      "model_module_version": "1.5.0",
      "model_name": "FloatProgressModel",
      "state": {
       "_dom_classes": [],
       "_model_module": "@jupyter-widgets/controls",
       "_model_module_version": "1.5.0",
       "_model_name": "FloatProgressModel",
       "_view_count": null,
       "_view_module": "@jupyter-widgets/controls",
       "_view_module_version": "1.5.0",
       "_view_name": "ProgressView",
       "bar_style": "success",
       "description": "",
       "description_tooltip": null,
       "layout": "IPY_MODEL_bedb26066662431c8404e89c88d8abc0",
       "max": 14504.0,
       "min": 0.0,
       "orientation": "horizontal",
       "style": "IPY_MODEL_e0d28f5dbf384c83a1d56734671093f0",
       "value": 14504.0
      }
     },
     "1198009bfc494a48ab7eb081815839aa": {
      "model_module": "@jupyter-widgets/base",
      "model_module_version": "1.2.0",
      "model_name": "LayoutModel",
      "state": {
       "_model_module": "@jupyter-widgets/base",
       "_model_module_version": "1.2.0",
       "_model_name": "LayoutModel",
       "_view_count": null,
       "_view_module": "@jupyter-widgets/base",
       "_view_module_version": "1.2.0",
       "_view_name": "LayoutView",
       "align_content": null,
       "align_items": null,
       "align_self": null,
       "border": null,
       "bottom": null,
       "display": null,
       "flex": null,
       "flex_flow": null,
       "grid_area": null,
       "grid_auto_columns": null,
       "grid_auto_flow": null,
       "grid_auto_rows": null,
       "grid_column": null,
       "grid_gap": null,
       "grid_row": null,
       "grid_template_areas": null,
       "grid_template_columns": null,
       "grid_template_rows": null,
       "height": null,
       "justify_content": null,
       "justify_items": null,
       "left": null,
       "margin": null,
       "max_height": null,
       "max_width": null,
       "min_height": null,
       "min_width": null,
       "object_fit": null,
       "object_position": null,
       "order": null,
       "overflow": null,
       "overflow_x": null,
       "overflow_y": null,
       "padding": null,
       "right": null,
       "top": null,
       "visibility": null,
       "width": null
      }
     },
     "119dd612e05a4f00a23a03d0adc3a244": {
      "model_module": "@jupyter-widgets/controls",
      "model_module_version": "1.5.0",
      "model_name": "HBoxModel",
      "state": {
       "_dom_classes": [],
       "_model_module": "@jupyter-widgets/controls",
       "_model_module_version": "1.5.0",
       "_model_name": "HBoxModel",
       "_view_count": null,
       "_view_module": "@jupyter-widgets/controls",
       "_view_module_version": "1.5.0",
       "_view_name": "HBoxView",
       "box_style": "",
       "children": [
        "IPY_MODEL_5c9412a8da8c49e6b3bb296d0e91f568",
        "IPY_MODEL_cdbeec70176e4232b9fded4855e8e021",
        "IPY_MODEL_8078cd3176a0424cb88123a71f89ba54"
       ],
       "layout": "IPY_MODEL_f6b597f07eec4083b82a9b05bbfa713f"
      }
     },
     "11a329c3ef6040c2aae66cda00ab89f2": {
      "model_module": "@jupyter-widgets/controls",
      "model_module_version": "1.5.0",
      "model_name": "HTMLModel",
      "state": {
       "_dom_classes": [],
       "_model_module": "@jupyter-widgets/controls",
       "_model_module_version": "1.5.0",
       "_model_name": "HTMLModel",
       "_view_count": null,
       "_view_module": "@jupyter-widgets/controls",
       "_view_module_version": "1.5.0",
       "_view_name": "HTMLView",
       "description": "",
       "description_tooltip": null,
       "layout": "IPY_MODEL_1198009bfc494a48ab7eb081815839aa",
       "placeholder": "​",
       "style": "IPY_MODEL_7b2535e44b234c6992fa80f09216ca8d",
       "value": "Downloading (…)cial_tokens_map.json: 100%"
      }
     },
     "13a1a41f51b3419896a8af919604fae1": {
      "model_module": "@jupyter-widgets/controls",
      "model_module_version": "1.5.0",
      "model_name": "HTMLModel",
      "state": {
       "_dom_classes": [],
       "_model_module": "@jupyter-widgets/controls",
       "_model_module_version": "1.5.0",
       "_model_name": "HTMLModel",
       "_view_count": null,
       "_view_module": "@jupyter-widgets/controls",
       "_view_module_version": "1.5.0",
       "_view_name": "HTMLView",
       "description": "",
       "description_tooltip": null,
       "layout": "IPY_MODEL_1a16029a2237445ba8af347762bf9670",
       "placeholder": "​",
       "style": "IPY_MODEL_7a5b8dd3ccd74dbd8bc2ab33aab1dc94",
       "value": "100%"
      }
     },
     "16c7859c50364616aa8dcdfe30bd7ba3": {
      "model_module": "@jupyter-widgets/controls",
      "model_module_version": "1.5.0",
      "model_name": "HTMLModel",
      "state": {
       "_dom_classes": [],
       "_model_module": "@jupyter-widgets/controls",
       "_model_module_version": "1.5.0",
       "_model_name": "HTMLModel",
       "_view_count": null,
       "_view_module": "@jupyter-widgets/controls",
       "_view_module_version": "1.5.0",
       "_view_name": "HTMLView",
       "description": "",
       "description_tooltip": null,
       "layout": "IPY_MODEL_d401d1a429bd4e8b83221799ab1c92e9",
       "placeholder": "​",
       "style": "IPY_MODEL_d9455c2aba9749f2ba24b2f8609931d9",
       "value": "Downloading (…)olve/main/merges.txt: 100%"
      }
     },
     "180b38c6ea4a4a1294fed1d675f7db6a": {
      "model_module": "@jupyter-widgets/controls",
      "model_module_version": "1.5.0",
      "model_name": "HTMLModel",
      "state": {
       "_dom_classes": [],
       "_model_module": "@jupyter-widgets/controls",
       "_model_module_version": "1.5.0",
       "_model_name": "HTMLModel",
       "_view_count": null,
       "_view_module": "@jupyter-widgets/controls",
       "_view_module_version": "1.5.0",
       "_view_name": "HTMLView",
       "description": "",
       "description_tooltip": null,
       "layout": "IPY_MODEL_8a651c1073004c65a532de743803d0cb",
       "placeholder": "​",
       "style": "IPY_MODEL_a314bb34ed6743079041125e7240ca8a",
       "value": " 14504/14504 [32:04&lt;00:00,  7.59it/s]"
      }
     },
     "1a16029a2237445ba8af347762bf9670": {
      "model_module": "@jupyter-widgets/base",
      "model_module_version": "1.2.0",
      "model_name": "LayoutModel",
      "state": {
       "_model_module": "@jupyter-widgets/base",
       "_model_module_version": "1.2.0",
       "_model_name": "LayoutModel",
       "_view_count": null,
       "_view_module": "@jupyter-widgets/base",
       "_view_module_version": "1.2.0",
       "_view_name": "LayoutView",
       "align_content": null,
       "align_items": null,
       "align_self": null,
       "border": null,
       "bottom": null,
       "display": null,
       "flex": null,
       "flex_flow": null,
       "grid_area": null,
       "grid_auto_columns": null,
       "grid_auto_flow": null,
       "grid_auto_rows": null,
       "grid_column": null,
       "grid_gap": null,
       "grid_row": null,
       "grid_template_areas": null,
       "grid_template_columns": null,
       "grid_template_rows": null,
       "height": null,
       "justify_content": null,
       "justify_items": null,
       "left": null,
       "margin": null,
       "max_height": null,
       "max_width": null,
       "min_height": null,
       "min_width": null,
       "object_fit": null,
       "object_position": null,
       "order": null,
       "overflow": null,
       "overflow_x": null,
       "overflow_y": null,
       "padding": null,
       "right": null,
       "top": null,
       "visibility": null,
       "width": null
      }
     },
     "2700d2f9d9574208a17d05af237139c4": {
      "model_module": "@jupyter-widgets/controls",
      "model_module_version": "1.5.0",
      "model_name": "DescriptionStyleModel",
      "state": {
       "_model_module": "@jupyter-widgets/controls",
       "_model_module_version": "1.5.0",
       "_model_name": "DescriptionStyleModel",
       "_view_count": null,
       "_view_module": "@jupyter-widgets/base",
       "_view_module_version": "1.2.0",
       "_view_name": "StyleView",
       "description_width": ""
      }
     },
     "2fd4a7b752294f8fbfad97c58080866e": {
      "model_module": "@jupyter-widgets/controls",
      "model_module_version": "1.5.0",
      "model_name": "HTMLModel",
      "state": {
       "_dom_classes": [],
       "_model_module": "@jupyter-widgets/controls",
       "_model_module_version": "1.5.0",
       "_model_name": "HTMLModel",
       "_view_count": null,
       "_view_module": "@jupyter-widgets/controls",
       "_view_module_version": "1.5.0",
       "_view_name": "HTMLView",
       "description": "",
       "description_tooltip": null,
       "layout": "IPY_MODEL_07f96cab2dbc4883b4899eda63644c0e",
       "placeholder": "​",
       "style": "IPY_MODEL_dd6a88909beb455da3e424d93e7855b5",
       "value": " 456k/456k [00:00&lt;00:00, 6.79MB/s]"
      }
     },
     "383e17413dc74331a66ad75a14340523": {
      "model_module": "@jupyter-widgets/controls",
      "model_module_version": "1.5.0",
      "model_name": "HBoxModel",
      "state": {
       "_dom_classes": [],
       "_model_module": "@jupyter-widgets/controls",
       "_model_module_version": "1.5.0",
       "_model_name": "HBoxModel",
       "_view_count": null,
       "_view_module": "@jupyter-widgets/controls",
       "_view_module_version": "1.5.0",
       "_view_name": "HBoxView",
       "box_style": "",
       "children": [
        "IPY_MODEL_13a1a41f51b3419896a8af919604fae1",
        "IPY_MODEL_105092662e6543ecb2f35d9a180b7fe2",
        "IPY_MODEL_180b38c6ea4a4a1294fed1d675f7db6a"
       ],
       "layout": "IPY_MODEL_7f741a67036b4704a8ecbb75c11dfa3e"
      }
     },
     "39845524d22741f99daf00f61a2de99a": {
      "model_module": "@jupyter-widgets/controls",
      "model_module_version": "1.5.0",
      "model_name": "HTMLModel",
      "state": {
       "_dom_classes": [],
       "_model_module": "@jupyter-widgets/controls",
       "_model_module_version": "1.5.0",
       "_model_name": "HTMLModel",
       "_view_count": null,
       "_view_module": "@jupyter-widgets/controls",
       "_view_module_version": "1.5.0",
       "_view_name": "HTMLView",
       "description": "",
       "description_tooltip": null,
       "layout": "IPY_MODEL_52d1eb4ed7514e63b04ce02d88d2c632",
       "placeholder": "​",
       "style": "IPY_MODEL_f5715dba417a4239bbb81affd1307943",
       "value": "100%"
      }
     },
     "41032b1923934e74b476d980399dd669": {
      "model_module": "@jupyter-widgets/base",
      "model_module_version": "1.2.0",
      "model_name": "LayoutModel",
      "state": {
       "_model_module": "@jupyter-widgets/base",
       "_model_module_version": "1.2.0",
       "_model_name": "LayoutModel",
       "_view_count": null,
       "_view_module": "@jupyter-widgets/base",
       "_view_module_version": "1.2.0",
       "_view_name": "LayoutView",
       "align_content": null,
       "align_items": null,
       "align_self": null,
       "border": null,
       "bottom": null,
       "display": null,
       "flex": null,
       "flex_flow": null,
       "grid_area": null,
       "grid_auto_columns": null,
       "grid_auto_flow": null,
       "grid_auto_rows": null,
       "grid_column": null,
       "grid_gap": null,
       "grid_row": null,
       "grid_template_areas": null,
       "grid_template_columns": null,
       "grid_template_rows": null,
       "height": null,
       "justify_content": null,
       "justify_items": null,
       "left": null,
       "margin": null,
       "max_height": null,
       "max_width": null,
       "min_height": null,
       "min_width": null,
       "object_fit": null,
       "object_position": null,
       "order": null,
       "overflow": null,
       "overflow_x": null,
       "overflow_y": null,
       "padding": null,
       "right": null,
       "top": null,
       "visibility": null,
       "width": null
      }
     },
     "411531f7018145ed986ca768c6322252": {
      "model_module": "@jupyter-widgets/controls",
      "model_module_version": "1.5.0",
      "model_name": "FloatProgressModel",
      "state": {
       "_dom_classes": [],
       "_model_module": "@jupyter-widgets/controls",
       "_model_module_version": "1.5.0",
       "_model_name": "FloatProgressModel",
       "_view_count": null,
       "_view_module": "@jupyter-widgets/controls",
       "_view_module_version": "1.5.0",
       "_view_name": "ProgressView",
       "bar_style": "success",
       "description": "",
       "description_tooltip": null,
       "layout": "IPY_MODEL_7130172ee8f84e3c904a25336f183d16",
       "max": 14504.0,
       "min": 0.0,
       "orientation": "horizontal",
       "style": "IPY_MODEL_6d9f05758ccd455f87c20593e3ff0428",
       "value": 14504.0
      }
     },
     "508d982edb774e068a005ac104843b51": {
      "model_module": "@jupyter-widgets/controls",
      "model_module_version": "1.5.0",
      "model_name": "HTMLModel",
      "state": {
       "_dom_classes": [],
       "_model_module": "@jupyter-widgets/controls",
       "_model_module_version": "1.5.0",
       "_model_name": "HTMLModel",
       "_view_count": null,
       "_view_module": "@jupyter-widgets/controls",
       "_view_module_version": "1.5.0",
       "_view_name": "HTMLView",
       "description": "",
       "description_tooltip": null,
       "layout": "IPY_MODEL_f2650b5fd52b4aeea2f93ea5419ee3f6",
       "placeholder": "​",
       "style": "IPY_MODEL_89bbc34e470f4fcf832bf9cc98ab9ff8",
       "value": "Downloading (…)olve/main/vocab.json: 100%"
      }
     },
     "528b36839bfc4c50a56225b87bf0108b": {
      "model_module": "@jupyter-widgets/controls",
      "model_module_version": "1.5.0",
      "model_name": "ProgressStyleModel",
      "state": {
       "_model_module": "@jupyter-widgets/controls",
       "_model_module_version": "1.5.0",
       "_model_name": "ProgressStyleModel",
       "_view_count": null,
       "_view_module": "@jupyter-widgets/base",
       "_view_module_version": "1.2.0",
       "_view_name": "StyleView",
       "bar_color": null,
       "description_width": ""
      }
     },
     "52d1eb4ed7514e63b04ce02d88d2c632": {
      "model_module": "@jupyter-widgets/base",
      "model_module_version": "1.2.0",
      "model_name": "LayoutModel",
      "state": {
       "_model_module": "@jupyter-widgets/base",
       "_model_module_version": "1.2.0",
       "_model_name": "LayoutModel",
       "_view_count": null,
       "_view_module": "@jupyter-widgets/base",
       "_view_module_version": "1.2.0",
       "_view_name": "LayoutView",
       "align_content": null,
       "align_items": null,
       "align_self": null,
       "border": null,
       "bottom": null,
       "display": null,
       "flex": null,
       "flex_flow": null,
       "grid_area": null,
       "grid_auto_columns": null,
       "grid_auto_flow": null,
       "grid_auto_rows": null,
       "grid_column": null,
       "grid_gap": null,
       "grid_row": null,
       "grid_template_areas": null,
       "grid_template_columns": null,
       "grid_template_rows": null,
       "height": null,
       "justify_content": null,
       "justify_items": null,
       "left": null,
       "margin": null,
       "max_height": null,
       "max_width": null,
       "min_height": null,
       "min_width": null,
       "object_fit": null,
       "object_position": null,
       "order": null,
       "overflow": null,
       "overflow_x": null,
       "overflow_y": null,
       "padding": null,
       "right": null,
       "top": null,
       "visibility": null,
       "width": null
      }
     },
     "53667ae08c034fcebfa2b7685a6463ed": {
      "model_module": "@jupyter-widgets/controls",
      "model_module_version": "1.5.0",
      "model_name": "HBoxModel",
      "state": {
       "_dom_classes": [],
       "_model_module": "@jupyter-widgets/controls",
       "_model_module_version": "1.5.0",
       "_model_name": "HBoxModel",
       "_view_count": null,
       "_view_module": "@jupyter-widgets/controls",
       "_view_module_version": "1.5.0",
       "_view_name": "HBoxView",
       "box_style": "",
       "children": [
        "IPY_MODEL_16c7859c50364616aa8dcdfe30bd7ba3",
        "IPY_MODEL_b2b1fa1e76134f7da92a4aaa76fa3b43",
        "IPY_MODEL_2fd4a7b752294f8fbfad97c58080866e"
       ],
       "layout": "IPY_MODEL_dc65f16fb2b34483adbc10465d324e88"
      }
     },
     "56c9dacc845946538f0d2f5c27d87401": {
      "model_module": "@jupyter-widgets/controls",
      "model_module_version": "1.5.0",
      "model_name": "HTMLModel",
      "state": {
       "_dom_classes": [],
       "_model_module": "@jupyter-widgets/controls",
       "_model_module_version": "1.5.0",
       "_model_name": "HTMLModel",
       "_view_count": null,
       "_view_module": "@jupyter-widgets/controls",
       "_view_module_version": "1.5.0",
       "_view_name": "HTMLView",
       "description": "",
       "description_tooltip": null,
       "layout": "IPY_MODEL_fb822bb8bac24f538be6b4a89379aeeb",
       "placeholder": "​",
       "style": "IPY_MODEL_9d6d94f1f20f4e359224abdd8ee92299",
       "value": " 899k/899k [00:00&lt;00:00, 9.38MB/s]"
      }
     },
     "5c9412a8da8c49e6b3bb296d0e91f568": {
      "model_module": "@jupyter-widgets/controls",
      "model_module_version": "1.5.0",
      "model_name": "HTMLModel",
      "state": {
       "_dom_classes": [],
       "_model_module": "@jupyter-widgets/controls",
       "_model_module_version": "1.5.0",
       "_model_name": "HTMLModel",
       "_view_count": null,
       "_view_module": "@jupyter-widgets/controls",
       "_view_module_version": "1.5.0",
       "_view_name": "HTMLView",
       "description": "",
       "description_tooltip": null,
       "layout": "IPY_MODEL_bc3f8a69d4af4695a2b8772cc8eb89b9",
       "placeholder": "​",
       "style": "IPY_MODEL_0e0a467c775541bc95c5a75b6c6e6403",
       "value": "Downloading (…)lve/main/config.json: 100%"
      }
     },
     "6309e5b064d54d788f74bb152bceecfb": {
      "model_module": "@jupyter-widgets/controls",
      "model_module_version": "1.5.0",
      "model_name": "HTMLModel",
      "state": {
       "_dom_classes": [],
       "_model_module": "@jupyter-widgets/controls",
       "_model_module_version": "1.5.0",
       "_model_name": "HTMLModel",
       "_view_count": null,
       "_view_module": "@jupyter-widgets/controls",
       "_view_module_version": "1.5.0",
       "_view_name": "HTMLView",
       "description": "",
       "description_tooltip": null,
       "layout": "IPY_MODEL_894b14bded3f4609bbe2d8d36db9b686",
       "placeholder": "​",
       "style": "IPY_MODEL_a6fb10f188334b768181b9bc4dc4002f",
       "value": "Downloading pytorch_model.bin: 100%"
      }
     },
     "64d75ae482f240078048a79df8d9900b": {
      "model_module": "@jupyter-widgets/controls",
      "model_module_version": "1.5.0",
      "model_name": "FloatProgressModel",
      "state": {
       "_dom_classes": [],
       "_model_module": "@jupyter-widgets/controls",
       "_model_module_version": "1.5.0",
       "_model_name": "FloatProgressModel",
       "_view_count": null,
       "_view_module": "@jupyter-widgets/controls",
       "_view_module_version": "1.5.0",
       "_view_name": "ProgressView",
       "bar_style": "success",
       "description": "",
       "description_tooltip": null,
       "layout": "IPY_MODEL_04cbe72b2f29412ba716068b22168e9c",
       "max": 498679497.0,
       "min": 0.0,
       "orientation": "horizontal",
       "style": "IPY_MODEL_0db8486a866d4fa9ade7458281f64e26",
       "value": 498679497.0
      }
     },
     "6d9f05758ccd455f87c20593e3ff0428": {
      "model_module": "@jupyter-widgets/controls",
      "model_module_version": "1.5.0",
      "model_name": "ProgressStyleModel",
      "state": {
       "_model_module": "@jupyter-widgets/controls",
       "_model_module_version": "1.5.0",
       "_model_name": "ProgressStyleModel",
       "_view_count": null,
       "_view_module": "@jupyter-widgets/base",
       "_view_module_version": "1.2.0",
       "_view_name": "StyleView",
       "bar_color": null,
       "description_width": ""
      }
     },
     "7130172ee8f84e3c904a25336f183d16": {
      "model_module": "@jupyter-widgets/base",
      "model_module_version": "1.2.0",
      "model_name": "LayoutModel",
      "state": {
       "_model_module": "@jupyter-widgets/base",
       "_model_module_version": "1.2.0",
       "_model_name": "LayoutModel",
       "_view_count": null,
       "_view_module": "@jupyter-widgets/base",
       "_view_module_version": "1.2.0",
       "_view_name": "LayoutView",
       "align_content": null,
       "align_items": null,
       "align_self": null,
       "border": null,
       "bottom": null,
       "display": null,
       "flex": null,
       "flex_flow": null,
       "grid_area": null,
       "grid_auto_columns": null,
       "grid_auto_flow": null,
       "grid_auto_rows": null,
       "grid_column": null,
       "grid_gap": null,
       "grid_row": null,
       "grid_template_areas": null,
       "grid_template_columns": null,
       "grid_template_rows": null,
       "height": null,
       "justify_content": null,
       "justify_items": null,
       "left": null,
       "margin": null,
       "max_height": null,
       "max_width": null,
       "min_height": null,
       "min_width": null,
       "object_fit": null,
       "object_position": null,
       "order": null,
       "overflow": null,
       "overflow_x": null,
       "overflow_y": null,
       "padding": null,
       "right": null,
       "top": null,
       "visibility": null,
       "width": null
      }
     },
     "7617edbc73a94733a61533ea0c1af74e": {
      "model_module": "@jupyter-widgets/base",
      "model_module_version": "1.2.0",
      "model_name": "LayoutModel",
      "state": {
       "_model_module": "@jupyter-widgets/base",
       "_model_module_version": "1.2.0",
       "_model_name": "LayoutModel",
       "_view_count": null,
       "_view_module": "@jupyter-widgets/base",
       "_view_module_version": "1.2.0",
       "_view_name": "LayoutView",
       "align_content": null,
       "align_items": null,
       "align_self": null,
       "border": null,
       "bottom": null,
       "display": null,
       "flex": null,
       "flex_flow": null,
       "grid_area": null,
       "grid_auto_columns": null,
       "grid_auto_flow": null,
       "grid_auto_rows": null,
       "grid_column": null,
       "grid_gap": null,
       "grid_row": null,
       "grid_template_areas": null,
       "grid_template_columns": null,
       "grid_template_rows": null,
       "height": null,
       "justify_content": null,
       "justify_items": null,
       "left": null,
       "margin": null,
       "max_height": null,
       "max_width": null,
       "min_height": null,
       "min_width": null,
       "object_fit": null,
       "object_position": null,
       "order": null,
       "overflow": null,
       "overflow_x": null,
       "overflow_y": null,
       "padding": null,
       "right": null,
       "top": null,
       "visibility": null,
       "width": null
      }
     },
     "78722dd1e1094b4fb45352020904cbab": {
      "model_module": "@jupyter-widgets/base",
      "model_module_version": "1.2.0",
      "model_name": "LayoutModel",
      "state": {
       "_model_module": "@jupyter-widgets/base",
       "_model_module_version": "1.2.0",
       "_model_name": "LayoutModel",
       "_view_count": null,
       "_view_module": "@jupyter-widgets/base",
       "_view_module_version": "1.2.0",
       "_view_name": "LayoutView",
       "align_content": null,
       "align_items": null,
       "align_self": null,
       "border": null,
       "bottom": null,
       "display": null,
       "flex": null,
       "flex_flow": null,
       "grid_area": null,
       "grid_auto_columns": null,
       "grid_auto_flow": null,
       "grid_auto_rows": null,
       "grid_column": null,
       "grid_gap": null,
       "grid_row": null,
       "grid_template_areas": null,
       "grid_template_columns": null,
       "grid_template_rows": null,
       "height": null,
       "justify_content": null,
       "justify_items": null,
       "left": null,
       "margin": null,
       "max_height": null,
       "max_width": null,
       "min_height": null,
       "min_width": null,
       "object_fit": null,
       "object_position": null,
       "order": null,
       "overflow": null,
       "overflow_x": null,
       "overflow_y": null,
       "padding": null,
       "right": null,
       "top": null,
       "visibility": null,
       "width": null
      }
     },
     "7a5b8dd3ccd74dbd8bc2ab33aab1dc94": {
      "model_module": "@jupyter-widgets/controls",
      "model_module_version": "1.5.0",
      "model_name": "DescriptionStyleModel",
      "state": {
       "_model_module": "@jupyter-widgets/controls",
       "_model_module_version": "1.5.0",
       "_model_name": "DescriptionStyleModel",
       "_view_count": null,
       "_view_module": "@jupyter-widgets/base",
       "_view_module_version": "1.2.0",
       "_view_name": "StyleView",
       "description_width": ""
      }
     },
     "7b2535e44b234c6992fa80f09216ca8d": {
      "model_module": "@jupyter-widgets/controls",
      "model_module_version": "1.5.0",
      "model_name": "DescriptionStyleModel",
      "state": {
       "_model_module": "@jupyter-widgets/controls",
       "_model_module_version": "1.5.0",
       "_model_name": "DescriptionStyleModel",
       "_view_count": null,
       "_view_module": "@jupyter-widgets/base",
       "_view_module_version": "1.2.0",
       "_view_name": "StyleView",
       "description_width": ""
      }
     },
     "7f741a67036b4704a8ecbb75c11dfa3e": {
      "model_module": "@jupyter-widgets/base",
      "model_module_version": "1.2.0",
      "model_name": "LayoutModel",
      "state": {
       "_model_module": "@jupyter-widgets/base",
       "_model_module_version": "1.2.0",
       "_model_name": "LayoutModel",
       "_view_count": null,
       "_view_module": "@jupyter-widgets/base",
       "_view_module_version": "1.2.0",
       "_view_name": "LayoutView",
       "align_content": null,
       "align_items": null,
       "align_self": null,
       "border": null,
       "bottom": null,
       "display": null,
       "flex": null,
       "flex_flow": null,
       "grid_area": null,
       "grid_auto_columns": null,
       "grid_auto_flow": null,
       "grid_auto_rows": null,
       "grid_column": null,
       "grid_gap": null,
       "grid_row": null,
       "grid_template_areas": null,
       "grid_template_columns": null,
       "grid_template_rows": null,
       "height": null,
       "justify_content": null,
       "justify_items": null,
       "left": null,
       "margin": null,
       "max_height": null,
       "max_width": null,
       "min_height": null,
       "min_width": null,
       "object_fit": null,
       "object_position": null,
       "order": null,
       "overflow": null,
       "overflow_x": null,
       "overflow_y": null,
       "padding": null,
       "right": null,
       "top": null,
       "visibility": null,
       "width": null
      }
     },
     "8078cd3176a0424cb88123a71f89ba54": {
      "model_module": "@jupyter-widgets/controls",
      "model_module_version": "1.5.0",
      "model_name": "HTMLModel",
      "state": {
       "_dom_classes": [],
       "_model_module": "@jupyter-widgets/controls",
       "_model_module_version": "1.5.0",
       "_model_name": "HTMLModel",
       "_view_count": null,
       "_view_module": "@jupyter-widgets/controls",
       "_view_module_version": "1.5.0",
       "_view_name": "HTMLView",
       "description": "",
       "description_tooltip": null,
       "layout": "IPY_MODEL_41032b1923934e74b476d980399dd669",
       "placeholder": "​",
       "style": "IPY_MODEL_8a0a021a0ed24ed7bddf31e71f7841dc",
       "value": " 747/747 [00:00&lt;00:00, 27.2kB/s]"
      }
     },
     "83e964cd39504fa2a1017f5eb6a9ac8d": {
      "model_module": "@jupyter-widgets/controls",
      "model_module_version": "1.5.0",
      "model_name": "DescriptionStyleModel",
      "state": {
       "_model_module": "@jupyter-widgets/controls",
       "_model_module_version": "1.5.0",
       "_model_name": "DescriptionStyleModel",
       "_view_count": null,
       "_view_module": "@jupyter-widgets/base",
       "_view_module_version": "1.2.0",
       "_view_name": "StyleView",
       "description_width": ""
      }
     },
     "894b14bded3f4609bbe2d8d36db9b686": {
      "model_module": "@jupyter-widgets/base",
      "model_module_version": "1.2.0",
      "model_name": "LayoutModel",
      "state": {
       "_model_module": "@jupyter-widgets/base",
       "_model_module_version": "1.2.0",
       "_model_name": "LayoutModel",
       "_view_count": null,
       "_view_module": "@jupyter-widgets/base",
       "_view_module_version": "1.2.0",
       "_view_name": "LayoutView",
       "align_content": null,
       "align_items": null,
       "align_self": null,
       "border": null,
       "bottom": null,
       "display": null,
       "flex": null,
       "flex_flow": null,
       "grid_area": null,
       "grid_auto_columns": null,
       "grid_auto_flow": null,
       "grid_auto_rows": null,
       "grid_column": null,
       "grid_gap": null,
       "grid_row": null,
       "grid_template_areas": null,
       "grid_template_columns": null,
       "grid_template_rows": null,
       "height": null,
       "justify_content": null,
       "justify_items": null,
       "left": null,
       "margin": null,
       "max_height": null,
       "max_width": null,
       "min_height": null,
       "min_width": null,
       "object_fit": null,
       "object_position": null,
       "order": null,
       "overflow": null,
       "overflow_x": null,
       "overflow_y": null,
       "padding": null,
       "right": null,
       "top": null,
       "visibility": null,
       "width": null
      }
     },
     "89bbc34e470f4fcf832bf9cc98ab9ff8": {
      "model_module": "@jupyter-widgets/controls",
      "model_module_version": "1.5.0",
      "model_name": "DescriptionStyleModel",
      "state": {
       "_model_module": "@jupyter-widgets/controls",
       "_model_module_version": "1.5.0",
       "_model_name": "DescriptionStyleModel",
       "_view_count": null,
       "_view_module": "@jupyter-widgets/base",
       "_view_module_version": "1.2.0",
       "_view_name": "StyleView",
       "description_width": ""
      }
     },
     "89d91c27787e48048e586d9c604cef2c": {
      "model_module": "@jupyter-widgets/base",
      "model_module_version": "1.2.0",
      "model_name": "LayoutModel",
      "state": {
       "_model_module": "@jupyter-widgets/base",
       "_model_module_version": "1.2.0",
       "_model_name": "LayoutModel",
       "_view_count": null,
       "_view_module": "@jupyter-widgets/base",
       "_view_module_version": "1.2.0",
       "_view_name": "LayoutView",
       "align_content": null,
       "align_items": null,
       "align_self": null,
       "border": null,
       "bottom": null,
       "display": null,
       "flex": null,
       "flex_flow": null,
       "grid_area": null,
       "grid_auto_columns": null,
       "grid_auto_flow": null,
       "grid_auto_rows": null,
       "grid_column": null,
       "grid_gap": null,
       "grid_row": null,
       "grid_template_areas": null,
       "grid_template_columns": null,
       "grid_template_rows": null,
       "height": null,
       "justify_content": null,
       "justify_items": null,
       "left": null,
       "margin": null,
       "max_height": null,
       "max_width": null,
       "min_height": null,
       "min_width": null,
       "object_fit": null,
       "object_position": null,
       "order": null,
       "overflow": null,
       "overflow_x": null,
       "overflow_y": null,
       "padding": null,
       "right": null,
       "top": null,
       "visibility": null,
       "width": null
      }
     },
     "8a0a021a0ed24ed7bddf31e71f7841dc": {
      "model_module": "@jupyter-widgets/controls",
      "model_module_version": "1.5.0",
      "model_name": "DescriptionStyleModel",
      "state": {
       "_model_module": "@jupyter-widgets/controls",
       "_model_module_version": "1.5.0",
       "_model_name": "DescriptionStyleModel",
       "_view_count": null,
       "_view_module": "@jupyter-widgets/base",
       "_view_module_version": "1.2.0",
       "_view_name": "StyleView",
       "description_width": ""
      }
     },
     "8a651c1073004c65a532de743803d0cb": {
      "model_module": "@jupyter-widgets/base",
      "model_module_version": "1.2.0",
      "model_name": "LayoutModel",
      "state": {
       "_model_module": "@jupyter-widgets/base",
       "_model_module_version": "1.2.0",
       "_model_name": "LayoutModel",
       "_view_count": null,
       "_view_module": "@jupyter-widgets/base",
       "_view_module_version": "1.2.0",
       "_view_name": "LayoutView",
       "align_content": null,
       "align_items": null,
       "align_self": null,
       "border": null,
       "bottom": null,
       "display": null,
       "flex": null,
       "flex_flow": null,
       "grid_area": null,
       "grid_auto_columns": null,
       "grid_auto_flow": null,
       "grid_auto_rows": null,
       "grid_column": null,
       "grid_gap": null,
       "grid_row": null,
       "grid_template_areas": null,
       "grid_template_columns": null,
       "grid_template_rows": null,
       "height": null,
       "justify_content": null,
       "justify_items": null,
       "left": null,
       "margin": null,
       "max_height": null,
       "max_width": null,
       "min_height": null,
       "min_width": null,
       "object_fit": null,
       "object_position": null,
       "order": null,
       "overflow": null,
       "overflow_x": null,
       "overflow_y": null,
       "padding": null,
       "right": null,
       "top": null,
       "visibility": null,
       "width": null
      }
     },
     "95f8159d85cd44febdd6afb30efab236": {
      "model_module": "@jupyter-widgets/base",
      "model_module_version": "1.2.0",
      "model_name": "LayoutModel",
      "state": {
       "_model_module": "@jupyter-widgets/base",
       "_model_module_version": "1.2.0",
       "_model_name": "LayoutModel",
       "_view_count": null,
       "_view_module": "@jupyter-widgets/base",
       "_view_module_version": "1.2.0",
       "_view_name": "LayoutView",
       "align_content": null,
       "align_items": null,
       "align_self": null,
       "border": null,
       "bottom": null,
       "display": null,
       "flex": null,
       "flex_flow": null,
       "grid_area": null,
       "grid_auto_columns": null,
       "grid_auto_flow": null,
       "grid_auto_rows": null,
       "grid_column": null,
       "grid_gap": null,
       "grid_row": null,
       "grid_template_areas": null,
       "grid_template_columns": null,
       "grid_template_rows": null,
       "height": null,
       "justify_content": null,
       "justify_items": null,
       "left": null,
       "margin": null,
       "max_height": null,
       "max_width": null,
       "min_height": null,
       "min_width": null,
       "object_fit": null,
       "object_position": null,
       "order": null,
       "overflow": null,
       "overflow_x": null,
       "overflow_y": null,
       "padding": null,
       "right": null,
       "top": null,
       "visibility": null,
       "width": null
      }
     },
     "9723c02f9c454edb82cd55e67756b315": {
      "model_module": "@jupyter-widgets/controls",
      "model_module_version": "1.5.0",
      "model_name": "HTMLModel",
      "state": {
       "_dom_classes": [],
       "_model_module": "@jupyter-widgets/controls",
       "_model_module_version": "1.5.0",
       "_model_name": "HTMLModel",
       "_view_count": null,
       "_view_module": "@jupyter-widgets/controls",
       "_view_module_version": "1.5.0",
       "_view_name": "HTMLView",
       "description": "",
       "description_tooltip": null,
       "layout": "IPY_MODEL_a014e0ff54a446e4bb2285d6587ac1d0",
       "placeholder": "​",
       "style": "IPY_MODEL_83e964cd39504fa2a1017f5eb6a9ac8d",
       "value": " 150/150 [00:00&lt;00:00, 8.20kB/s]"
      }
     },
     "9b8897dd30334646a84ad8169f29e116": {
      "model_module": "@jupyter-widgets/controls",
      "model_module_version": "1.5.0",
      "model_name": "ProgressStyleModel",
      "state": {
       "_model_module": "@jupyter-widgets/controls",
       "_model_module_version": "1.5.0",
       "_model_name": "ProgressStyleModel",
       "_view_count": null,
       "_view_module": "@jupyter-widgets/base",
       "_view_module_version": "1.2.0",
       "_view_name": "StyleView",
       "bar_color": null,
       "description_width": ""
      }
     },
     "9d6d94f1f20f4e359224abdd8ee92299": {
      "model_module": "@jupyter-widgets/controls",
      "model_module_version": "1.5.0",
      "model_name": "DescriptionStyleModel",
      "state": {
       "_model_module": "@jupyter-widgets/controls",
       "_model_module_version": "1.5.0",
       "_model_name": "DescriptionStyleModel",
       "_view_count": null,
       "_view_module": "@jupyter-widgets/base",
       "_view_module_version": "1.2.0",
       "_view_name": "StyleView",
       "description_width": ""
      }
     },
     "a014e0ff54a446e4bb2285d6587ac1d0": {
      "model_module": "@jupyter-widgets/base",
      "model_module_version": "1.2.0",
      "model_name": "LayoutModel",
      "state": {
       "_model_module": "@jupyter-widgets/base",
       "_model_module_version": "1.2.0",
       "_model_name": "LayoutModel",
       "_view_count": null,
       "_view_module": "@jupyter-widgets/base",
       "_view_module_version": "1.2.0",
       "_view_name": "LayoutView",
       "align_content": null,
       "align_items": null,
       "align_self": null,
       "border": null,
       "bottom": null,
       "display": null,
       "flex": null,
       "flex_flow": null,
       "grid_area": null,
       "grid_auto_columns": null,
       "grid_auto_flow": null,
       "grid_auto_rows": null,
       "grid_column": null,
       "grid_gap": null,
       "grid_row": null,
       "grid_template_areas": null,
       "grid_template_columns": null,
       "grid_template_rows": null,
       "height": null,
       "justify_content": null,
       "justify_items": null,
       "left": null,
       "margin": null,
       "max_height": null,
       "max_width": null,
       "min_height": null,
       "min_width": null,
       "object_fit": null,
       "object_position": null,
       "order": null,
       "overflow": null,
       "overflow_x": null,
       "overflow_y": null,
       "padding": null,
       "right": null,
       "top": null,
       "visibility": null,
       "width": null
      }
     },
     "a314bb34ed6743079041125e7240ca8a": {
      "model_module": "@jupyter-widgets/controls",
      "model_module_version": "1.5.0",
      "model_name": "DescriptionStyleModel",
      "state": {
       "_model_module": "@jupyter-widgets/controls",
       "_model_module_version": "1.5.0",
       "_model_name": "DescriptionStyleModel",
       "_view_count": null,
       "_view_module": "@jupyter-widgets/base",
       "_view_module_version": "1.2.0",
       "_view_name": "StyleView",
       "description_width": ""
      }
     },
     "a4ee1a7f53f241ca959f7e3e621ce245": {
      "model_module": "@jupyter-widgets/controls",
      "model_module_version": "1.5.0",
      "model_name": "ProgressStyleModel",
      "state": {
       "_model_module": "@jupyter-widgets/controls",
       "_model_module_version": "1.5.0",
       "_model_name": "ProgressStyleModel",
       "_view_count": null,
       "_view_module": "@jupyter-widgets/base",
       "_view_module_version": "1.2.0",
       "_view_name": "StyleView",
       "bar_color": null,
       "description_width": ""
      }
     },
     "a6fb10f188334b768181b9bc4dc4002f": {
      "model_module": "@jupyter-widgets/controls",
      "model_module_version": "1.5.0",
      "model_name": "DescriptionStyleModel",
      "state": {
       "_model_module": "@jupyter-widgets/controls",
       "_model_module_version": "1.5.0",
       "_model_name": "DescriptionStyleModel",
       "_view_count": null,
       "_view_module": "@jupyter-widgets/base",
       "_view_module_version": "1.2.0",
       "_view_name": "StyleView",
       "description_width": ""
      }
     },
     "a9b876d5fe9b4f009b457c6c85991abc": {
      "model_module": "@jupyter-widgets/base",
      "model_module_version": "1.2.0",
      "model_name": "LayoutModel",
      "state": {
       "_model_module": "@jupyter-widgets/base",
       "_model_module_version": "1.2.0",
       "_model_name": "LayoutModel",
       "_view_count": null,
       "_view_module": "@jupyter-widgets/base",
       "_view_module_version": "1.2.0",
       "_view_name": "LayoutView",
       "align_content": null,
       "align_items": null,
       "align_self": null,
       "border": null,
       "bottom": null,
       "display": null,
       "flex": null,
       "flex_flow": null,
       "grid_area": null,
       "grid_auto_columns": null,
       "grid_auto_flow": null,
       "grid_auto_rows": null,
       "grid_column": null,
       "grid_gap": null,
       "grid_row": null,
       "grid_template_areas": null,
       "grid_template_columns": null,
       "grid_template_rows": null,
       "height": null,
       "justify_content": null,
       "justify_items": null,
       "left": null,
       "margin": null,
       "max_height": null,
       "max_width": null,
       "min_height": null,
       "min_width": null,
       "object_fit": null,
       "object_position": null,
       "order": null,
       "overflow": null,
       "overflow_x": null,
       "overflow_y": null,
       "padding": null,
       "right": null,
       "top": null,
       "visibility": null,
       "width": null
      }
     },
     "b2b1fa1e76134f7da92a4aaa76fa3b43": {
      "model_module": "@jupyter-widgets/controls",
      "model_module_version": "1.5.0",
      "model_name": "FloatProgressModel",
      "state": {
       "_dom_classes": [],
       "_model_module": "@jupyter-widgets/controls",
       "_model_module_version": "1.5.0",
       "_model_name": "FloatProgressModel",
       "_view_count": null,
       "_view_module": "@jupyter-widgets/controls",
       "_view_module_version": "1.5.0",
       "_view_name": "ProgressView",
       "bar_style": "success",
       "description": "",
       "description_tooltip": null,
       "layout": "IPY_MODEL_f45219a874d9477a834e5d28613b46d4",
       "max": 456318.0,
       "min": 0.0,
       "orientation": "horizontal",
       "style": "IPY_MODEL_9b8897dd30334646a84ad8169f29e116",
       "value": 456318.0
      }
     },
     "bc3f8a69d4af4695a2b8772cc8eb89b9": {
      "model_module": "@jupyter-widgets/base",
      "model_module_version": "1.2.0",
      "model_name": "LayoutModel",
      "state": {
       "_model_module": "@jupyter-widgets/base",
       "_model_module_version": "1.2.0",
       "_model_name": "LayoutModel",
       "_view_count": null,
       "_view_module": "@jupyter-widgets/base",
       "_view_module_version": "1.2.0",
       "_view_name": "LayoutView",
       "align_content": null,
       "align_items": null,
       "align_self": null,
       "border": null,
       "bottom": null,
       "display": null,
       "flex": null,
       "flex_flow": null,
       "grid_area": null,
       "grid_auto_columns": null,
       "grid_auto_flow": null,
       "grid_auto_rows": null,
       "grid_column": null,
       "grid_gap": null,
       "grid_row": null,
       "grid_template_areas": null,
       "grid_template_columns": null,
       "grid_template_rows": null,
       "height": null,
       "justify_content": null,
       "justify_items": null,
       "left": null,
       "margin": null,
       "max_height": null,
       "max_width": null,
       "min_height": null,
       "min_width": null,
       "object_fit": null,
       "object_position": null,
       "order": null,
       "overflow": null,
       "overflow_x": null,
       "overflow_y": null,
       "padding": null,
       "right": null,
       "top": null,
       "visibility": null,
       "width": null
      }
     },
     "be8fe36b55cd48d68de27db57a6fc24c": {
      "model_module": "@jupyter-widgets/base",
      "model_module_version": "1.2.0",
      "model_name": "LayoutModel",
      "state": {
       "_model_module": "@jupyter-widgets/base",
       "_model_module_version": "1.2.0",
       "_model_name": "LayoutModel",
       "_view_count": null,
       "_view_module": "@jupyter-widgets/base",
       "_view_module_version": "1.2.0",
       "_view_name": "LayoutView",
       "align_content": null,
       "align_items": null,
       "align_self": null,
       "border": null,
       "bottom": null,
       "display": null,
       "flex": null,
       "flex_flow": null,
       "grid_area": null,
       "grid_auto_columns": null,
       "grid_auto_flow": null,
       "grid_auto_rows": null,
       "grid_column": null,
       "grid_gap": null,
       "grid_row": null,
       "grid_template_areas": null,
       "grid_template_columns": null,
       "grid_template_rows": null,
       "height": null,
       "justify_content": null,
       "justify_items": null,
       "left": null,
       "margin": null,
       "max_height": null,
       "max_width": null,
       "min_height": null,
       "min_width": null,
       "object_fit": null,
       "object_position": null,
       "order": null,
       "overflow": null,
       "overflow_x": null,
       "overflow_y": null,
       "padding": null,
       "right": null,
       "top": null,
       "visibility": null,
       "width": null
      }
     },
     "bedb26066662431c8404e89c88d8abc0": {
      "model_module": "@jupyter-widgets/base",
      "model_module_version": "1.2.0",
      "model_name": "LayoutModel",
      "state": {
       "_model_module": "@jupyter-widgets/base",
       "_model_module_version": "1.2.0",
       "_model_name": "LayoutModel",
       "_view_count": null,
       "_view_module": "@jupyter-widgets/base",
       "_view_module_version": "1.2.0",
       "_view_name": "LayoutView",
       "align_content": null,
       "align_items": null,
       "align_self": null,
       "border": null,
       "bottom": null,
       "display": null,
       "flex": null,
       "flex_flow": null,
       "grid_area": null,
       "grid_auto_columns": null,
       "grid_auto_flow": null,
       "grid_auto_rows": null,
       "grid_column": null,
       "grid_gap": null,
       "grid_row": null,
       "grid_template_areas": null,
       "grid_template_columns": null,
       "grid_template_rows": null,
       "height": null,
       "justify_content": null,
       "justify_items": null,
       "left": null,
       "margin": null,
       "max_height": null,
       "max_width": null,
       "min_height": null,
       "min_width": null,
       "object_fit": null,
       "object_position": null,
       "order": null,
       "overflow": null,
       "overflow_x": null,
       "overflow_y": null,
       "padding": null,
       "right": null,
       "top": null,
       "visibility": null,
       "width": null
      }
     },
     "c1a5041488774e97b48997c17c442d2d": {
      "model_module": "@jupyter-widgets/controls",
      "model_module_version": "1.5.0",
      "model_name": "HBoxModel",
      "state": {
       "_dom_classes": [],
       "_model_module": "@jupyter-widgets/controls",
       "_model_module_version": "1.5.0",
       "_model_name": "HBoxModel",
       "_view_count": null,
       "_view_module": "@jupyter-widgets/controls",
       "_view_module_version": "1.5.0",
       "_view_name": "HBoxView",
       "box_style": "",
       "children": [
        "IPY_MODEL_508d982edb774e068a005ac104843b51",
        "IPY_MODEL_f86c761dbfee4629b2cb3ce98d9c2f3c",
        "IPY_MODEL_56c9dacc845946538f0d2f5c27d87401"
       ],
       "layout": "IPY_MODEL_95f8159d85cd44febdd6afb30efab236"
      }
     },
     "caf806f7e0164ab9ab9950d5ee4e0d17": {
      "model_module": "@jupyter-widgets/controls",
      "model_module_version": "1.5.0",
      "model_name": "HBoxModel",
      "state": {
       "_dom_classes": [],
       "_model_module": "@jupyter-widgets/controls",
       "_model_module_version": "1.5.0",
       "_model_name": "HBoxModel",
       "_view_count": null,
       "_view_module": "@jupyter-widgets/controls",
       "_view_module_version": "1.5.0",
       "_view_name": "HBoxView",
       "box_style": "",
       "children": [
        "IPY_MODEL_6309e5b064d54d788f74bb152bceecfb",
        "IPY_MODEL_64d75ae482f240078048a79df8d9900b",
        "IPY_MODEL_defeea53930a44d2ab6876099dfe01ef"
       ],
       "layout": "IPY_MODEL_a9b876d5fe9b4f009b457c6c85991abc"
      }
     },
     "cdbeec70176e4232b9fded4855e8e021": {
      "model_module": "@jupyter-widgets/controls",
      "model_module_version": "1.5.0",
      "model_name": "FloatProgressModel",
      "state": {
       "_dom_classes": [],
       "_model_module": "@jupyter-widgets/controls",
       "_model_module_version": "1.5.0",
       "_model_name": "FloatProgressModel",
       "_view_count": null,
       "_view_module": "@jupyter-widgets/controls",
       "_view_module_version": "1.5.0",
       "_view_name": "ProgressView",
       "bar_style": "success",
       "description": "",
       "description_tooltip": null,
       "layout": "IPY_MODEL_d5e077f834674809b516b201a3623bef",
       "max": 747.0,
       "min": 0.0,
       "orientation": "horizontal",
       "style": "IPY_MODEL_0948a47d0b1f4073ba73c7b7f8e0a343",
       "value": 747.0
      }
     },
     "ce8fb615d6e64ddda3a60f98f323bcb6": {
      "model_module": "@jupyter-widgets/controls",
      "model_module_version": "1.5.0",
      "model_name": "DescriptionStyleModel",
      "state": {
       "_model_module": "@jupyter-widgets/controls",
       "_model_module_version": "1.5.0",
       "_model_name": "DescriptionStyleModel",
       "_view_count": null,
       "_view_module": "@jupyter-widgets/base",
       "_view_module_version": "1.2.0",
       "_view_name": "StyleView",
       "description_width": ""
      }
     },
     "d401d1a429bd4e8b83221799ab1c92e9": {
      "model_module": "@jupyter-widgets/base",
      "model_module_version": "1.2.0",
      "model_name": "LayoutModel",
      "state": {
       "_model_module": "@jupyter-widgets/base",
       "_model_module_version": "1.2.0",
       "_model_name": "LayoutModel",
       "_view_count": null,
       "_view_module": "@jupyter-widgets/base",
       "_view_module_version": "1.2.0",
       "_view_name": "LayoutView",
       "align_content": null,
       "align_items": null,
       "align_self": null,
       "border": null,
       "bottom": null,
       "display": null,
       "flex": null,
       "flex_flow": null,
       "grid_area": null,
       "grid_auto_columns": null,
       "grid_auto_flow": null,
       "grid_auto_rows": null,
       "grid_column": null,
       "grid_gap": null,
       "grid_row": null,
       "grid_template_areas": null,
       "grid_template_columns": null,
       "grid_template_rows": null,
       "height": null,
       "justify_content": null,
       "justify_items": null,
       "left": null,
       "margin": null,
       "max_height": null,
       "max_width": null,
       "min_height": null,
       "min_width": null,
       "object_fit": null,
       "object_position": null,
       "order": null,
       "overflow": null,
       "overflow_x": null,
       "overflow_y": null,
       "padding": null,
       "right": null,
       "top": null,
       "visibility": null,
       "width": null
      }
     },
     "d5e077f834674809b516b201a3623bef": {
      "model_module": "@jupyter-widgets/base",
      "model_module_version": "1.2.0",
      "model_name": "LayoutModel",
      "state": {
       "_model_module": "@jupyter-widgets/base",
       "_model_module_version": "1.2.0",
       "_model_name": "LayoutModel",
       "_view_count": null,
       "_view_module": "@jupyter-widgets/base",
       "_view_module_version": "1.2.0",
       "_view_name": "LayoutView",
       "align_content": null,
       "align_items": null,
       "align_self": null,
       "border": null,
       "bottom": null,
       "display": null,
       "flex": null,
       "flex_flow": null,
       "grid_area": null,
       "grid_auto_columns": null,
       "grid_auto_flow": null,
       "grid_auto_rows": null,
       "grid_column": null,
       "grid_gap": null,
       "grid_row": null,
       "grid_template_areas": null,
       "grid_template_columns": null,
       "grid_template_rows": null,
       "height": null,
       "justify_content": null,
       "justify_items": null,
       "left": null,
       "margin": null,
       "max_height": null,
       "max_width": null,
       "min_height": null,
       "min_width": null,
       "object_fit": null,
       "object_position": null,
       "order": null,
       "overflow": null,
       "overflow_x": null,
       "overflow_y": null,
       "padding": null,
       "right": null,
       "top": null,
       "visibility": null,
       "width": null
      }
     },
     "d78a733d0c9f4a52bc0e012d317d1048": {
      "model_module": "@jupyter-widgets/base",
      "model_module_version": "1.2.0",
      "model_name": "LayoutModel",
      "state": {
       "_model_module": "@jupyter-widgets/base",
       "_model_module_version": "1.2.0",
       "_model_name": "LayoutModel",
       "_view_count": null,
       "_view_module": "@jupyter-widgets/base",
       "_view_module_version": "1.2.0",
       "_view_name": "LayoutView",
       "align_content": null,
       "align_items": null,
       "align_self": null,
       "border": null,
       "bottom": null,
       "display": null,
       "flex": null,
       "flex_flow": null,
       "grid_area": null,
       "grid_auto_columns": null,
       "grid_auto_flow": null,
       "grid_auto_rows": null,
       "grid_column": null,
       "grid_gap": null,
       "grid_row": null,
       "grid_template_areas": null,
       "grid_template_columns": null,
       "grid_template_rows": null,
       "height": null,
       "justify_content": null,
       "justify_items": null,
       "left": null,
       "margin": null,
       "max_height": null,
       "max_width": null,
       "min_height": null,
       "min_width": null,
       "object_fit": null,
       "object_position": null,
       "order": null,
       "overflow": null,
       "overflow_x": null,
       "overflow_y": null,
       "padding": null,
       "right": null,
       "top": null,
       "visibility": null,
       "width": null
      }
     },
     "d9455c2aba9749f2ba24b2f8609931d9": {
      "model_module": "@jupyter-widgets/controls",
      "model_module_version": "1.5.0",
      "model_name": "DescriptionStyleModel",
      "state": {
       "_model_module": "@jupyter-widgets/controls",
       "_model_module_version": "1.5.0",
       "_model_name": "DescriptionStyleModel",
       "_view_count": null,
       "_view_module": "@jupyter-widgets/base",
       "_view_module_version": "1.2.0",
       "_view_name": "StyleView",
       "description_width": ""
      }
     },
     "dc65f16fb2b34483adbc10465d324e88": {
      "model_module": "@jupyter-widgets/base",
      "model_module_version": "1.2.0",
      "model_name": "LayoutModel",
      "state": {
       "_model_module": "@jupyter-widgets/base",
       "_model_module_version": "1.2.0",
       "_model_name": "LayoutModel",
       "_view_count": null,
       "_view_module": "@jupyter-widgets/base",
       "_view_module_version": "1.2.0",
       "_view_name": "LayoutView",
       "align_content": null,
       "align_items": null,
       "align_self": null,
       "border": null,
       "bottom": null,
       "display": null,
       "flex": null,
       "flex_flow": null,
       "grid_area": null,
       "grid_auto_columns": null,
       "grid_auto_flow": null,
       "grid_auto_rows": null,
       "grid_column": null,
       "grid_gap": null,
       "grid_row": null,
       "grid_template_areas": null,
       "grid_template_columns": null,
       "grid_template_rows": null,
       "height": null,
       "justify_content": null,
       "justify_items": null,
       "left": null,
       "margin": null,
       "max_height": null,
       "max_width": null,
       "min_height": null,
       "min_width": null,
       "object_fit": null,
       "object_position": null,
       "order": null,
       "overflow": null,
       "overflow_x": null,
       "overflow_y": null,
       "padding": null,
       "right": null,
       "top": null,
       "visibility": null,
       "width": null
      }
     },
     "dd6a88909beb455da3e424d93e7855b5": {
      "model_module": "@jupyter-widgets/controls",
      "model_module_version": "1.5.0",
      "model_name": "DescriptionStyleModel",
      "state": {
       "_model_module": "@jupyter-widgets/controls",
       "_model_module_version": "1.5.0",
       "_model_name": "DescriptionStyleModel",
       "_view_count": null,
       "_view_module": "@jupyter-widgets/base",
       "_view_module_version": "1.2.0",
       "_view_name": "StyleView",
       "description_width": ""
      }
     },
     "defeea53930a44d2ab6876099dfe01ef": {
      "model_module": "@jupyter-widgets/controls",
      "model_module_version": "1.5.0",
      "model_name": "HTMLModel",
      "state": {
       "_dom_classes": [],
       "_model_module": "@jupyter-widgets/controls",
       "_model_module_version": "1.5.0",
       "_model_name": "HTMLModel",
       "_view_count": null,
       "_view_module": "@jupyter-widgets/controls",
       "_view_module_version": "1.5.0",
       "_view_name": "HTMLView",
       "description": "",
       "description_tooltip": null,
       "layout": "IPY_MODEL_be8fe36b55cd48d68de27db57a6fc24c",
       "placeholder": "​",
       "style": "IPY_MODEL_ce8fb615d6e64ddda3a60f98f323bcb6",
       "value": " 499M/499M [00:04&lt;00:00, 108MB/s]"
      }
     },
     "e0d28f5dbf384c83a1d56734671093f0": {
      "model_module": "@jupyter-widgets/controls",
      "model_module_version": "1.5.0",
      "model_name": "ProgressStyleModel",
      "state": {
       "_model_module": "@jupyter-widgets/controls",
       "_model_module_version": "1.5.0",
       "_model_name": "ProgressStyleModel",
       "_view_count": null,
       "_view_module": "@jupyter-widgets/base",
       "_view_module_version": "1.2.0",
       "_view_name": "StyleView",
       "bar_color": null,
       "description_width": ""
      }
     },
     "e64caf8fecb043dc9cff34403d523df2": {
      "model_module": "@jupyter-widgets/controls",
      "model_module_version": "1.5.0",
      "model_name": "FloatProgressModel",
      "state": {
       "_dom_classes": [],
       "_model_module": "@jupyter-widgets/controls",
       "_model_module_version": "1.5.0",
       "_model_name": "FloatProgressModel",
       "_view_count": null,
       "_view_module": "@jupyter-widgets/controls",
       "_view_module_version": "1.5.0",
       "_view_name": "ProgressView",
       "bar_style": "success",
       "description": "",
       "description_tooltip": null,
       "layout": "IPY_MODEL_89d91c27787e48048e586d9c604cef2c",
       "max": 150.0,
       "min": 0.0,
       "orientation": "horizontal",
       "style": "IPY_MODEL_528b36839bfc4c50a56225b87bf0108b",
       "value": 150.0
      }
     },
     "e878f2b457a44a3abfeace71eab4d42e": {
      "model_module": "@jupyter-widgets/base",
      "model_module_version": "1.2.0",
      "model_name": "LayoutModel",
      "state": {
       "_model_module": "@jupyter-widgets/base",
       "_model_module_version": "1.2.0",
       "_model_name": "LayoutModel",
       "_view_count": null,
       "_view_module": "@jupyter-widgets/base",
       "_view_module_version": "1.2.0",
       "_view_name": "LayoutView",
       "align_content": null,
       "align_items": null,
       "align_self": null,
       "border": null,
       "bottom": null,
       "display": null,
       "flex": null,
       "flex_flow": null,
       "grid_area": null,
       "grid_auto_columns": null,
       "grid_auto_flow": null,
       "grid_auto_rows": null,
       "grid_column": null,
       "grid_gap": null,
       "grid_row": null,
       "grid_template_areas": null,
       "grid_template_columns": null,
       "grid_template_rows": null,
       "height": null,
       "justify_content": null,
       "justify_items": null,
       "left": null,
       "margin": null,
       "max_height": null,
       "max_width": null,
       "min_height": null,
       "min_width": null,
       "object_fit": null,
       "object_position": null,
       "order": null,
       "overflow": null,
       "overflow_x": null,
       "overflow_y": null,
       "padding": null,
       "right": null,
       "top": null,
       "visibility": null,
       "width": null
      }
     },
     "f2650b5fd52b4aeea2f93ea5419ee3f6": {
      "model_module": "@jupyter-widgets/base",
      "model_module_version": "1.2.0",
      "model_name": "LayoutModel",
      "state": {
       "_model_module": "@jupyter-widgets/base",
       "_model_module_version": "1.2.0",
       "_model_name": "LayoutModel",
       "_view_count": null,
       "_view_module": "@jupyter-widgets/base",
       "_view_module_version": "1.2.0",
       "_view_name": "LayoutView",
       "align_content": null,
       "align_items": null,
       "align_self": null,
       "border": null,
       "bottom": null,
       "display": null,
       "flex": null,
       "flex_flow": null,
       "grid_area": null,
       "grid_auto_columns": null,
       "grid_auto_flow": null,
       "grid_auto_rows": null,
       "grid_column": null,
       "grid_gap": null,
       "grid_row": null,
       "grid_template_areas": null,
       "grid_template_columns": null,
       "grid_template_rows": null,
       "height": null,
       "justify_content": null,
       "justify_items": null,
       "left": null,
       "margin": null,
       "max_height": null,
       "max_width": null,
       "min_height": null,
       "min_width": null,
       "object_fit": null,
       "object_position": null,
       "order": null,
       "overflow": null,
       "overflow_x": null,
       "overflow_y": null,
       "padding": null,
       "right": null,
       "top": null,
       "visibility": null,
       "width": null
      }
     },
     "f45219a874d9477a834e5d28613b46d4": {
      "model_module": "@jupyter-widgets/base",
      "model_module_version": "1.2.0",
      "model_name": "LayoutModel",
      "state": {
       "_model_module": "@jupyter-widgets/base",
       "_model_module_version": "1.2.0",
       "_model_name": "LayoutModel",
       "_view_count": null,
       "_view_module": "@jupyter-widgets/base",
       "_view_module_version": "1.2.0",
       "_view_name": "LayoutView",
       "align_content": null,
       "align_items": null,
       "align_self": null,
       "border": null,
       "bottom": null,
       "display": null,
       "flex": null,
       "flex_flow": null,
       "grid_area": null,
       "grid_auto_columns": null,
       "grid_auto_flow": null,
       "grid_auto_rows": null,
       "grid_column": null,
       "grid_gap": null,
       "grid_row": null,
       "grid_template_areas": null,
       "grid_template_columns": null,
       "grid_template_rows": null,
       "height": null,
       "justify_content": null,
       "justify_items": null,
       "left": null,
       "margin": null,
       "max_height": null,
       "max_width": null,
       "min_height": null,
       "min_width": null,
       "object_fit": null,
       "object_position": null,
       "order": null,
       "overflow": null,
       "overflow_x": null,
       "overflow_y": null,
       "padding": null,
       "right": null,
       "top": null,
       "visibility": null,
       "width": null
      }
     },
     "f5715dba417a4239bbb81affd1307943": {
      "model_module": "@jupyter-widgets/controls",
      "model_module_version": "1.5.0",
      "model_name": "DescriptionStyleModel",
      "state": {
       "_model_module": "@jupyter-widgets/controls",
       "_model_module_version": "1.5.0",
       "_model_name": "DescriptionStyleModel",
       "_view_count": null,
       "_view_module": "@jupyter-widgets/base",
       "_view_module_version": "1.2.0",
       "_view_name": "StyleView",
       "description_width": ""
      }
     },
     "f6b597f07eec4083b82a9b05bbfa713f": {
      "model_module": "@jupyter-widgets/base",
      "model_module_version": "1.2.0",
      "model_name": "LayoutModel",
      "state": {
       "_model_module": "@jupyter-widgets/base",
       "_model_module_version": "1.2.0",
       "_model_name": "LayoutModel",
       "_view_count": null,
       "_view_module": "@jupyter-widgets/base",
       "_view_module_version": "1.2.0",
       "_view_name": "LayoutView",
       "align_content": null,
       "align_items": null,
       "align_self": null,
       "border": null,
       "bottom": null,
       "display": null,
       "flex": null,
       "flex_flow": null,
       "grid_area": null,
       "grid_auto_columns": null,
       "grid_auto_flow": null,
       "grid_auto_rows": null,
       "grid_column": null,
       "grid_gap": null,
       "grid_row": null,
       "grid_template_areas": null,
       "grid_template_columns": null,
       "grid_template_rows": null,
       "height": null,
       "justify_content": null,
       "justify_items": null,
       "left": null,
       "margin": null,
       "max_height": null,
       "max_width": null,
       "min_height": null,
       "min_width": null,
       "object_fit": null,
       "object_position": null,
       "order": null,
       "overflow": null,
       "overflow_x": null,
       "overflow_y": null,
       "padding": null,
       "right": null,
       "top": null,
       "visibility": null,
       "width": null
      }
     },
     "f86c761dbfee4629b2cb3ce98d9c2f3c": {
      "model_module": "@jupyter-widgets/controls",
      "model_module_version": "1.5.0",
      "model_name": "FloatProgressModel",
      "state": {
       "_dom_classes": [],
       "_model_module": "@jupyter-widgets/controls",
       "_model_module_version": "1.5.0",
       "_model_name": "FloatProgressModel",
       "_view_count": null,
       "_view_module": "@jupyter-widgets/controls",
       "_view_module_version": "1.5.0",
       "_view_name": "ProgressView",
       "bar_style": "success",
       "description": "",
       "description_tooltip": null,
       "layout": "IPY_MODEL_7617edbc73a94733a61533ea0c1af74e",
       "max": 898822.0,
       "min": 0.0,
       "orientation": "horizontal",
       "style": "IPY_MODEL_a4ee1a7f53f241ca959f7e3e621ce245",
       "value": 898822.0
      }
     },
     "fb822bb8bac24f538be6b4a89379aeeb": {
      "model_module": "@jupyter-widgets/base",
      "model_module_version": "1.2.0",
      "model_name": "LayoutModel",
      "state": {
       "_model_module": "@jupyter-widgets/base",
       "_model_module_version": "1.2.0",
       "_model_name": "LayoutModel",
       "_view_count": null,
       "_view_module": "@jupyter-widgets/base",
       "_view_module_version": "1.2.0",
       "_view_name": "LayoutView",
       "align_content": null,
       "align_items": null,
       "align_self": null,
       "border": null,
       "bottom": null,
       "display": null,
       "flex": null,
       "flex_flow": null,
       "grid_area": null,
       "grid_auto_columns": null,
       "grid_auto_flow": null,
       "grid_auto_rows": null,
       "grid_column": null,
       "grid_gap": null,
       "grid_row": null,
       "grid_template_areas": null,
       "grid_template_columns": null,
       "grid_template_rows": null,
       "height": null,
       "justify_content": null,
       "justify_items": null,
       "left": null,
       "margin": null,
       "max_height": null,
       "max_width": null,
       "min_height": null,
       "min_width": null,
       "object_fit": null,
       "object_position": null,
       "order": null,
       "overflow": null,
       "overflow_x": null,
       "overflow_y": null,
       "padding": null,
       "right": null,
       "top": null,
       "visibility": null,
       "width": null
      }
     }
    },
    "version_major": 2,
    "version_minor": 0
   }
  }
 },
 "nbformat": 4,
 "nbformat_minor": 5
}
